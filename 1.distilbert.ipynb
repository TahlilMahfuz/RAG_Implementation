{
 "cells": [
  {
   "cell_type": "code",
   "execution_count": 9,
   "id": "d894571a",
   "metadata": {},
   "outputs": [
    {
     "data": {
      "application/vnd.microsoft.datawrangler.viewer.v0+json": {
       "columns": [
        {
         "name": "index",
         "rawType": "int64",
         "type": "integer"
        },
        {
         "name": "Review",
         "rawType": "object",
         "type": "string"
        },
        {
         "name": "Reply",
         "rawType": "object",
         "type": "unknown"
        }
       ],
       "conversionMethod": "pd.DataFrame",
       "ref": "e17ce84a-370e-4245-b5b7-a91f535850c8",
       "rows": [
        [
         "0",
         "Alhamdulillah.. the best al quran application, easy to use every day and carry anywhere.. I pray that God will bless and reward the developer of this best application.. aamiin yaa rabbal aalamiin😄🤲.. tqvm admin",
         null
        ],
        [
         "1",
         "the best quraan app you can find. it literally has word by word translation and a tafsir option, which is very useful for non arab people. this app has NO ADS and is literally FREE, tho there is a donate option for anyone who wants to help. may Allah be pleased with us and help us do sadka jariya",
         null
        ],
        [
         "2",
         "Very helpful",
         null
        ],
        [
         "3",
         "The recent edition does explain the source of suratul alaq",
         "BarakAllahu feekum for your kind words and support. Pray for us so that Allah may accept our efforts. Visit gtaf.org to check our other apps and share with others in sha Allah!"
        ],
        [
         "4",
         "May Allah reward you richly rewarded",
         null
        ]
       ],
       "shape": {
        "columns": 2,
        "rows": 5
       }
      },
      "text/html": [
       "<div>\n",
       "<style scoped>\n",
       "    .dataframe tbody tr th:only-of-type {\n",
       "        vertical-align: middle;\n",
       "    }\n",
       "\n",
       "    .dataframe tbody tr th {\n",
       "        vertical-align: top;\n",
       "    }\n",
       "\n",
       "    .dataframe thead th {\n",
       "        text-align: right;\n",
       "    }\n",
       "</style>\n",
       "<table border=\"1\" class=\"dataframe\">\n",
       "  <thead>\n",
       "    <tr style=\"text-align: right;\">\n",
       "      <th></th>\n",
       "      <th>Review</th>\n",
       "      <th>Reply</th>\n",
       "    </tr>\n",
       "  </thead>\n",
       "  <tbody>\n",
       "    <tr>\n",
       "      <th>0</th>\n",
       "      <td>Alhamdulillah.. the best al quran application,...</td>\n",
       "      <td>None</td>\n",
       "    </tr>\n",
       "    <tr>\n",
       "      <th>1</th>\n",
       "      <td>the best quraan app you can find. it literally...</td>\n",
       "      <td>None</td>\n",
       "    </tr>\n",
       "    <tr>\n",
       "      <th>2</th>\n",
       "      <td>Very helpful</td>\n",
       "      <td>None</td>\n",
       "    </tr>\n",
       "    <tr>\n",
       "      <th>3</th>\n",
       "      <td>The recent edition does explain the source of ...</td>\n",
       "      <td>BarakAllahu feekum for your kind words and sup...</td>\n",
       "    </tr>\n",
       "    <tr>\n",
       "      <th>4</th>\n",
       "      <td>May Allah reward you richly rewarded</td>\n",
       "      <td>None</td>\n",
       "    </tr>\n",
       "  </tbody>\n",
       "</table>\n",
       "</div>"
      ],
      "text/plain": [
       "                                              Review  \\\n",
       "0  Alhamdulillah.. the best al quran application,...   \n",
       "1  the best quraan app you can find. it literally...   \n",
       "2                                       Very helpful   \n",
       "3  The recent edition does explain the source of ...   \n",
       "4               May Allah reward you richly rewarded   \n",
       "\n",
       "                                               Reply  \n",
       "0                                               None  \n",
       "1                                               None  \n",
       "2                                               None  \n",
       "3  BarakAllahu feekum for your kind words and sup...  \n",
       "4                                               None  "
      ]
     },
     "execution_count": 9,
     "metadata": {},
     "output_type": "execute_result"
    }
   ],
   "source": [
    "import sqlite3\n",
    "import pandas as pd\n",
    "\n",
    "# Connect to the SQLite database\n",
    "conn = sqlite3.connect(\"Auto_Reply_v3.db\")\n",
    "\n",
    "# Load Q&A pairs (assuming table name is 'All_Reviews')\n",
    "query1 = 'SELECT \"translation\" AS Review, \"Developer Reply Text\" AS Reply FROM All_Reviews'\n",
    "query2 = 'SELECT \"translation\" AS Review, \"Reply\" FROM \"Auto Reply Hadith\"'\n",
    "query3 = 'SELECT \"translation\" AS Review, \"Reply\" FROM Auto_Reply_Reviews'\n",
    "query4 = 'SELECT \"translation\" AS Review, \"Reply\" FROM Auto_Reply_Reviews_Al_Quran'\n",
    "\n",
    "df1 = pd.read_sql_query(query1, conn)\n",
    "df2 = pd.read_sql_query(query2, conn)\n",
    "df3 = pd.read_sql_query(query3, conn)\n",
    "df4 = pd.read_sql_query(query4, conn)\n",
    "\n",
    "df = pd.concat([df1, df2, df3, df4], ignore_index=True)\n",
    "\n",
    "# Close connection\n",
    "conn.close()\n",
    "\n",
    "# Check data\n",
    "df.head()\n",
    "\n",
    "# craete a csv file \n",
    "# df.to_csv(\"All_Review_Reply.csv\", index=False)"
   ]
  },
  {
   "cell_type": "code",
   "execution_count": 10,
   "id": "5395f669",
   "metadata": {},
   "outputs": [],
   "source": [
    "import torch\n",
    "from transformers import pipeline"
   ]
  },
  {
   "cell_type": "code",
   "execution_count": 11,
   "id": "e8d0f1a9",
   "metadata": {},
   "outputs": [
    {
     "name": "stdout",
     "output_type": "stream",
     "text": [
      "CUDA is available. Using GPU: NVIDIA GeForce RTX 4070 Ti SUPER\n"
     ]
    }
   ],
   "source": [
    "# Check CUDA availability and set device\n",
    "cuda_available = torch.cuda.is_available()\n",
    "if cuda_available:\n",
    "    device = 0  # GPU\n",
    "    gpu_name = torch.cuda.get_device_name(device)\n",
    "    print(f\"CUDA is available. Using GPU: {gpu_name}\")\n",
    "else:\n",
    "    device = -1  # CPU\n",
    "    print(\"CUDA is not available. Using CPU.\")"
   ]
  },
  {
   "cell_type": "code",
   "execution_count": 12,
   "id": "df05dbae",
   "metadata": {},
   "outputs": [
    {
     "name": "stderr",
     "output_type": "stream",
     "text": [
      "Device set to use cuda:0\n"
     ]
    },
    {
     "data": {
      "application/vnd.microsoft.datawrangler.viewer.v0+json": {
       "columns": [
        {
         "name": "index",
         "rawType": "int64",
         "type": "integer"
        },
        {
         "name": "Review",
         "rawType": "object",
         "type": "string"
        },
        {
         "name": "Reply",
         "rawType": "object",
         "type": "unknown"
        },
        {
         "name": "Sentiment",
         "rawType": "object",
         "type": "string"
        }
       ],
       "conversionMethod": "pd.DataFrame",
       "ref": "13cde269-4ac3-486d-ab5d-d6b8b1a63129",
       "rows": [
        [
         "0",
         "Alhamdulillah.. the best al quran application, easy to use every day and carry anywhere.. I pray that God will bless and reward the developer of this best application.. aamiin yaa rabbal aalamiin😄🤲.. tqvm admin",
         null,
         "POSITIVE"
        ],
        [
         "1",
         "the best quraan app you can find. it literally has word by word translation and a tafsir option, which is very useful for non arab people. this app has NO ADS and is literally FREE, tho there is a donate option for anyone who wants to help. may Allah be pleased with us and help us do sadka jariya",
         null,
         "POSITIVE"
        ],
        [
         "2",
         "Very helpful",
         null,
         "POSITIVE"
        ],
        [
         "3",
         "The recent edition does explain the source of suratul alaq",
         "BarakAllahu feekum for your kind words and support. Pray for us so that Allah may accept our efforts. Visit gtaf.org to check our other apps and share with others in sha Allah!",
         "POSITIVE"
        ],
        [
         "4",
         "May Allah reward you richly rewarded",
         null,
         "POSITIVE"
        ],
        [
         "5",
         "I've rate 5 star but the app could give us mor fonts; for example simple font or Othman Taha font.",
         null,
         "NEGATIVE"
        ],
        [
         "6",
         "Outstanding apps,Though audio is not working..",
         null,
         "POSITIVE"
        ],
        [
         "7",
         "This is app is amizing and i really liked",
         null,
         "POSITIVE"
        ],
        [
         "8",
         "Good app.",
         null,
         "POSITIVE"
        ],
        [
         "9",
         "Masha Allah",
         null,
         "POSITIVE"
        ],
        [
         "10",
         "Linked to this application, thank you",
         null,
         "POSITIVE"
        ],
        [
         "11",
         "Very good and easy app",
         null,
         "POSITIVE"
        ],
        [
         "12",
         "Best App to read The Holy Quran.. Love it so much....word by word meaning and it's tafsir makes it more helpful to common user....",
         null,
         "POSITIVE"
        ],
        [
         "13",
         "Very excited",
         null,
         "POSITIVE"
        ],
        [
         "14",
         "I really enjoy it",
         null,
         "POSITIVE"
        ],
        [
         "15",
         "It was helpful to have a translator.",
         null,
         "POSITIVE"
        ],
        [
         "16",
         "Recent update has ruined the app. More glitches. Highlighting and verses don't follow the audio. Please fix to how it was before this recent update.",
         null,
         "NEGATIVE"
        ],
        [
         "17",
         "Masha Allah. This is one of the best Qur'an app i have seen so far. With great features that makes learning and recitation easier.",
         null,
         "POSITIVE"
        ],
        [
         "18",
         "May allah bless and reinforce you",
         null,
         "POSITIVE"
        ],
        [
         "19",
         "Fantastic",
         null,
         "POSITIVE"
        ],
        [
         "20",
         "SubhanAllah",
         null,
         "POSITIVE"
        ],
        [
         "21",
         "Good app",
         null,
         "POSITIVE"
        ],
        [
         "22",
         "MashAllah Amazing App! Well organised & smooth flow🤍🤍🤍🤍",
         null,
         "POSITIVE"
        ],
        [
         "23",
         "Perfect💗",
         null,
         "NEGATIVE"
        ],
        [
         "24",
         "5 stars are missing, I give 100 stars!!! I recommend it to everyone, many Arab teachers recommend this program. I think you can download it. 👍👍👍👍👍👍 May God be pleased with you",
         null,
         "POSITIVE"
        ],
        [
         "25",
         "Great app",
         null,
         "POSITIVE"
        ],
        [
         "26",
         "I really like this👍",
         null,
         "POSITIVE"
        ],
        [
         "27",
         "Very helpful",
         null,
         "POSITIVE"
        ],
        [
         "28",
         "Ma Sha Allah, a great app to learn to read Arabic. Also, each verse of the surah is followed by a tafsir for mental progress. May Allah bless you and your business!",
         null,
         "POSITIVE"
        ],
        [
         "29",
         "It is the most beneficiary app i have seen. jazakallah",
         null,
         "POSITIVE"
        ],
        [
         "30",
         "It is free and has so many functions. I LOVE IT. Jazak Allah! to the developers of this app...",
         null,
         "POSITIVE"
        ],
        [
         "31",
         "Masha Allah very good in translation, it's really nice app",
         null,
         "POSITIVE"
        ],
        [
         "32",
         "Thank you very much",
         null,
         "POSITIVE"
        ],
        [
         "33",
         "It's THE BEST",
         null,
         "POSITIVE"
        ],
        [
         "34",
         "Looking at all the good comments, it makes me want to use this Anroit Al-Qur'an even more quickly. May blessings be upon all, amen",
         null,
         "POSITIVE"
        ],
        [
         "35",
         "three good",
         null,
         "POSITIVE"
        ],
        [
         "36",
         "Excellent",
         null,
         "POSITIVE"
        ],
        [
         "37",
         "I love the app",
         null,
         "POSITIVE"
        ],
        [
         "38",
         "Great, very helpful",
         null,
         "POSITIVE"
        ],
        [
         "39",
         "This app is very good to every muslim to read and listing and also understand the meaning of verses of qur an may Allh grantu jannatul firdaus thsnk",
         null,
         "POSITIVE"
        ],
        [
         "40",
         "This is the best app to learn Al Quran.",
         null,
         "POSITIVE"
        ],
        [
         "41",
         "Best app ever focus on your deen",
         null,
         "POSITIVE"
        ],
        [
         "42",
         "Allah bless you with Al Ferdus inshallah for your effort ❤️",
         null,
         "POSITIVE"
        ],
        [
         "43",
         "This is the best app of Quran I have ever seen. NO ADD. EASY TO USE.JUST AMAZING. ALHAMDULILLAH.",
         null,
         "POSITIVE"
        ],
        [
         "44",
         "This is very useful app",
         null,
         "POSITIVE"
        ],
        [
         "45",
         "Thank you very much",
         null,
         "POSITIVE"
        ],
        [
         "46",
         "Great app",
         null,
         "POSITIVE"
        ],
        [
         "47",
         "Million Stars!!!",
         null,
         "POSITIVE"
        ],
        [
         "48",
         "Alhamdulillah. A very good up",
         null,
         "POSITIVE"
        ],
        [
         "49",
         "It's user friendly and really educational",
         null,
         "POSITIVE"
        ]
       ],
       "shape": {
        "columns": 3,
        "rows": 70460
       }
      },
      "text/html": [
       "<div>\n",
       "<style scoped>\n",
       "    .dataframe tbody tr th:only-of-type {\n",
       "        vertical-align: middle;\n",
       "    }\n",
       "\n",
       "    .dataframe tbody tr th {\n",
       "        vertical-align: top;\n",
       "    }\n",
       "\n",
       "    .dataframe thead th {\n",
       "        text-align: right;\n",
       "    }\n",
       "</style>\n",
       "<table border=\"1\" class=\"dataframe\">\n",
       "  <thead>\n",
       "    <tr style=\"text-align: right;\">\n",
       "      <th></th>\n",
       "      <th>Review</th>\n",
       "      <th>Reply</th>\n",
       "      <th>Sentiment</th>\n",
       "    </tr>\n",
       "  </thead>\n",
       "  <tbody>\n",
       "    <tr>\n",
       "      <th>0</th>\n",
       "      <td>Alhamdulillah.. the best al quran application,...</td>\n",
       "      <td>None</td>\n",
       "      <td>POSITIVE</td>\n",
       "    </tr>\n",
       "    <tr>\n",
       "      <th>1</th>\n",
       "      <td>the best quraan app you can find. it literally...</td>\n",
       "      <td>None</td>\n",
       "      <td>POSITIVE</td>\n",
       "    </tr>\n",
       "    <tr>\n",
       "      <th>2</th>\n",
       "      <td>Very helpful</td>\n",
       "      <td>None</td>\n",
       "      <td>POSITIVE</td>\n",
       "    </tr>\n",
       "    <tr>\n",
       "      <th>3</th>\n",
       "      <td>The recent edition does explain the source of ...</td>\n",
       "      <td>BarakAllahu feekum for your kind words and sup...</td>\n",
       "      <td>POSITIVE</td>\n",
       "    </tr>\n",
       "    <tr>\n",
       "      <th>4</th>\n",
       "      <td>May Allah reward you richly rewarded</td>\n",
       "      <td>None</td>\n",
       "      <td>POSITIVE</td>\n",
       "    </tr>\n",
       "    <tr>\n",
       "      <th>...</th>\n",
       "      <td>...</td>\n",
       "      <td>...</td>\n",
       "      <td>...</td>\n",
       "    </tr>\n",
       "    <tr>\n",
       "      <th>70455</th>\n",
       "      <td>\\tVery good app</td>\n",
       "      <td>BarakAllahu feekum for your kind words and sup...</td>\n",
       "      <td>POSITIVE</td>\n",
       "    </tr>\n",
       "    <tr>\n",
       "      <th>70456</th>\n",
       "      <td>\\tThank God, this application is really good!!...</td>\n",
       "      <td>BarakAllahu feekum for your kind words and sup...</td>\n",
       "      <td>POSITIVE</td>\n",
       "    </tr>\n",
       "    <tr>\n",
       "      <th>70457</th>\n",
       "      <td>\\tMashallah, may God bless you</td>\n",
       "      <td>BarakAllahu feekum for your kind words and sup...</td>\n",
       "      <td>POSITIVE</td>\n",
       "    </tr>\n",
       "    <tr>\n",
       "      <th>70458</th>\n",
       "      <td>\\tThank God this application helps👍</td>\n",
       "      <td>BarakAllahu feekum for your kind words and sup...</td>\n",
       "      <td>POSITIVE</td>\n",
       "    </tr>\n",
       "    <tr>\n",
       "      <th>70459</th>\n",
       "      <td>\\tAwesome app</td>\n",
       "      <td>BarakAllahu feekum for your kind words and sup...</td>\n",
       "      <td>POSITIVE</td>\n",
       "    </tr>\n",
       "  </tbody>\n",
       "</table>\n",
       "<p>70460 rows × 3 columns</p>\n",
       "</div>"
      ],
      "text/plain": [
       "                                                  Review  \\\n",
       "0      Alhamdulillah.. the best al quran application,...   \n",
       "1      the best quraan app you can find. it literally...   \n",
       "2                                           Very helpful   \n",
       "3      The recent edition does explain the source of ...   \n",
       "4                   May Allah reward you richly rewarded   \n",
       "...                                                  ...   \n",
       "70455                                    \\tVery good app   \n",
       "70456  \\tThank God, this application is really good!!...   \n",
       "70457                     \\tMashallah, may God bless you   \n",
       "70458                \\tThank God this application helps👍   \n",
       "70459                                      \\tAwesome app   \n",
       "\n",
       "                                                   Reply Sentiment  \n",
       "0                                                   None  POSITIVE  \n",
       "1                                                   None  POSITIVE  \n",
       "2                                                   None  POSITIVE  \n",
       "3      BarakAllahu feekum for your kind words and sup...  POSITIVE  \n",
       "4                                                   None  POSITIVE  \n",
       "...                                                  ...       ...  \n",
       "70455  BarakAllahu feekum for your kind words and sup...  POSITIVE  \n",
       "70456  BarakAllahu feekum for your kind words and sup...  POSITIVE  \n",
       "70457  BarakAllahu feekum for your kind words and sup...  POSITIVE  \n",
       "70458  BarakAllahu feekum for your kind words and sup...  POSITIVE  \n",
       "70459  BarakAllahu feekum for your kind words and sup...  POSITIVE  \n",
       "\n",
       "[70460 rows x 3 columns]"
      ]
     },
     "execution_count": 12,
     "metadata": {},
     "output_type": "execute_result"
    }
   ],
   "source": [
    "# Initialize sentiment-analysis pipeline (uses SST-2 fine-tuned DistilBERT)\n",
    "sentiment_analyzer = pipeline(\n",
    "    'sentiment-analysis',\n",
    "    model='distilbert-base-uncased-finetuned-sst-2-english',\n",
    "    device=device\n",
    ")\n",
    "\n",
    "# Function to analyze sentiment (truncates to 512 chars to respect token limits)\n",
    "def analyze_sentiment(text):\n",
    "    if pd.isna(text) or not isinstance(text, str) or text.strip() == \"\":\n",
    "        return None\n",
    "    snippet = text[:512]\n",
    "    result = sentiment_analyzer(snippet)\n",
    "    return result[0]['label']\n",
    "\n",
    "# Apply sentiment analysis to the 'Review' column\n",
    "df['Sentiment'] = df['Review'].apply(analyze_sentiment)\n",
    "\n",
    "df\n"
   ]
  },
  {
   "cell_type": "code",
   "execution_count": null,
   "id": "20f89b9c",
   "metadata": {},
   "outputs": [
    {
     "name": "stdout",
     "output_type": "stream",
     "text": [
      "Processed 70460 reviews. Results saved to '1.distilbert.csv'.\n"
     ]
    }
   ],
   "source": [
    "# 5. Generate automated replies based on sentiment\n",
    "\n",
    "def generate_reply(sentiment):\n",
    "    if sentiment == \"positive\":\n",
    "        return (\n",
    "            \"BarakAllahu feekum for your kind words and support. Pray for us so that Allah may accept our efforts. Visit gtaf.org to check our other apps and share with others in sha Allah!\"\n",
    "        )\n",
    "    elif sentiment == \"negative\":\n",
    "        return (\n",
    "            \"Assalamu 'alaykum dear user. We would love to make your experience better in sha Allah. If you are still facing the same issues or have any feature requests, please provide your feedback on feedback.gtaf.org. JazakAllahu khayran.\"\n",
    "        )\n",
    "    else :\n",
    "        return \"JazakAllahu khayran for your review! If you face any issues or have feature requests, please provide your feedback on feedback.gtaf.org.\"\n",
    "\n",
    "# Apply reply generation\n",
    "df['Reply'] = df['sentiment'].apply(generate_reply)\n",
    "\n",
    "# 6. Save the results to CSV including Review, sentiment, and reply\n",
    "df.to_csv('1.distilbert.csv', index=False)\n",
    "print(f\"Processed {len(df)} reviews. Results saved to '1.distilbert.csv'.\")"
   ]
  }
 ],
 "metadata": {
  "kernelspec": {
   "display_name": "venv",
   "language": "python",
   "name": "python3"
  },
  "language_info": {
   "codemirror_mode": {
    "name": "ipython",
    "version": 3
   },
   "file_extension": ".py",
   "mimetype": "text/x-python",
   "name": "python",
   "nbconvert_exporter": "python",
   "pygments_lexer": "ipython3",
   "version": "3.12.3"
  }
 },
 "nbformat": 4,
 "nbformat_minor": 5
}
