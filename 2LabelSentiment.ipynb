{
 "cells": [
  {
   "cell_type": "code",
   "execution_count": 1,
   "id": "d894571a",
   "metadata": {},
   "outputs": [
    {
     "data": {
      "application/vnd.microsoft.datawrangler.viewer.v0+json": {
       "columns": [
        {
         "name": "index",
         "rawType": "int64",
         "type": "integer"
        },
        {
         "name": "Review",
         "rawType": "object",
         "type": "string"
        },
        {
         "name": "Reply",
         "rawType": "object",
         "type": "unknown"
        }
       ],
       "conversionMethod": "pd.DataFrame",
       "ref": "3bf5c6c8-df50-48a1-a6a8-936531bf26d9",
       "rows": [
        [
         "0",
         "Alhamdulillah.. the best al quran application, easy to use every day and carry anywhere.. I pray that God will bless and reward the developer of this best application.. aamiin yaa rabbal aalamiin😄🤲.. tqvm admin",
         null
        ],
        [
         "1",
         "the best quraan app you can find. it literally has word by word translation and a tafsir option, which is very useful for non arab people. this app has NO ADS and is literally FREE, tho there is a donate option for anyone who wants to help. may Allah be pleased with us and help us do sadka jariya",
         null
        ],
        [
         "2",
         "Very helpful",
         null
        ],
        [
         "3",
         "The recent edition does explain the source of suratul alaq",
         "BarakAllahu feekum for your kind words and support. Pray for us so that Allah may accept our efforts. Visit gtaf.org to check our other apps and share with others in sha Allah!"
        ],
        [
         "4",
         "May Allah reward you richly rewarded",
         null
        ]
       ],
       "shape": {
        "columns": 2,
        "rows": 5
       }
      },
      "text/html": [
       "<div>\n",
       "<style scoped>\n",
       "    .dataframe tbody tr th:only-of-type {\n",
       "        vertical-align: middle;\n",
       "    }\n",
       "\n",
       "    .dataframe tbody tr th {\n",
       "        vertical-align: top;\n",
       "    }\n",
       "\n",
       "    .dataframe thead th {\n",
       "        text-align: right;\n",
       "    }\n",
       "</style>\n",
       "<table border=\"1\" class=\"dataframe\">\n",
       "  <thead>\n",
       "    <tr style=\"text-align: right;\">\n",
       "      <th></th>\n",
       "      <th>Review</th>\n",
       "      <th>Reply</th>\n",
       "    </tr>\n",
       "  </thead>\n",
       "  <tbody>\n",
       "    <tr>\n",
       "      <th>0</th>\n",
       "      <td>Alhamdulillah.. the best al quran application,...</td>\n",
       "      <td>None</td>\n",
       "    </tr>\n",
       "    <tr>\n",
       "      <th>1</th>\n",
       "      <td>the best quraan app you can find. it literally...</td>\n",
       "      <td>None</td>\n",
       "    </tr>\n",
       "    <tr>\n",
       "      <th>2</th>\n",
       "      <td>Very helpful</td>\n",
       "      <td>None</td>\n",
       "    </tr>\n",
       "    <tr>\n",
       "      <th>3</th>\n",
       "      <td>The recent edition does explain the source of ...</td>\n",
       "      <td>BarakAllahu feekum for your kind words and sup...</td>\n",
       "    </tr>\n",
       "    <tr>\n",
       "      <th>4</th>\n",
       "      <td>May Allah reward you richly rewarded</td>\n",
       "      <td>None</td>\n",
       "    </tr>\n",
       "  </tbody>\n",
       "</table>\n",
       "</div>"
      ],
      "text/plain": [
       "                                              Review  \\\n",
       "0  Alhamdulillah.. the best al quran application,...   \n",
       "1  the best quraan app you can find. it literally...   \n",
       "2                                       Very helpful   \n",
       "3  The recent edition does explain the source of ...   \n",
       "4               May Allah reward you richly rewarded   \n",
       "\n",
       "                                               Reply  \n",
       "0                                               None  \n",
       "1                                               None  \n",
       "2                                               None  \n",
       "3  BarakAllahu feekum for your kind words and sup...  \n",
       "4                                               None  "
      ]
     },
     "execution_count": 1,
     "metadata": {},
     "output_type": "execute_result"
    }
   ],
   "source": [
    "import sqlite3\n",
    "import pandas as pd\n",
    "\n",
    "# Connect to the SQLite database\n",
    "conn = sqlite3.connect(\"Auto_Reply_v3.db\")\n",
    "\n",
    "# Load Q&A pairs (assuming table name is 'All_Reviews')\n",
    "query1 = 'SELECT \"translation\" AS Review, \"Developer Reply Text\" AS Reply FROM All_Reviews'\n",
    "query2 = 'SELECT \"translation\" AS Review, \"Reply\" FROM \"Auto Reply Hadith\"'\n",
    "query3 = 'SELECT \"translation\" AS Review, \"Reply\" FROM Auto_Reply_Reviews'\n",
    "query4 = 'SELECT \"translation\" AS Review, \"Reply\" FROM Auto_Reply_Reviews_Al_Quran'\n",
    "\n",
    "df1 = pd.read_sql_query(query1, conn)\n",
    "df2 = pd.read_sql_query(query2, conn)\n",
    "df3 = pd.read_sql_query(query3, conn)\n",
    "df4 = pd.read_sql_query(query4, conn)\n",
    "\n",
    "df = pd.concat([df1, df2, df3, df4], ignore_index=True)\n",
    "\n",
    "# Close connection\n",
    "conn.close()\n",
    "\n",
    "# Check data\n",
    "df.head()\n",
    "\n",
    "# craete a csv file \n",
    "# df.to_csv(\"All_Review_Reply.csv\", index=False)"
   ]
  },
  {
   "cell_type": "code",
   "execution_count": 2,
   "id": "5395f669",
   "metadata": {},
   "outputs": [
    {
     "name": "stderr",
     "output_type": "stream",
     "text": [
      "/home/tahlilmahfuz/RAG_Implementation/venv/lib/python3.12/site-packages/tqdm/auto.py:21: TqdmWarning: IProgress not found. Please update jupyter and ipywidgets. See https://ipywidgets.readthedocs.io/en/stable/user_install.html\n",
      "  from .autonotebook import tqdm as notebook_tqdm\n"
     ]
    }
   ],
   "source": [
    "import torch\n",
    "from transformers import pipeline"
   ]
  },
  {
   "cell_type": "code",
   "execution_count": 3,
   "id": "e8d0f1a9",
   "metadata": {},
   "outputs": [
    {
     "name": "stdout",
     "output_type": "stream",
     "text": [
      "CUDA is available. Using GPU: NVIDIA GeForce RTX 4070 Ti SUPER\n"
     ]
    }
   ],
   "source": [
    "# Check CUDA availability and set device\n",
    "cuda_available = torch.cuda.is_available()\n",
    "if cuda_available:\n",
    "    device = 0  # GPU\n",
    "    gpu_name = torch.cuda.get_device_name(device)\n",
    "    print(f\"CUDA is available. Using GPU: {gpu_name}\")\n",
    "else:\n",
    "    device = -1  # CPU\n",
    "    print(\"CUDA is not available. Using CPU.\")"
   ]
  },
  {
   "cell_type": "code",
   "execution_count": 4,
   "id": "df05dbae",
   "metadata": {},
   "outputs": [
    {
     "name": "stderr",
     "output_type": "stream",
     "text": [
      "Device set to use cuda:0\n",
      "You seem to be using the pipelines sequentially on GPU. In order to maximize efficiency please use a dataset\n"
     ]
    },
    {
     "name": "stdout",
     "output_type": "stream",
     "text": [
      "Processed 70460 rows. Results saved to 2LableSentiment.csv.\n"
     ]
    }
   ],
   "source": [
    "# Initialize sentiment-analysis pipeline (uses SST-2 fine-tuned DistilBERT)\n",
    "sentiment_analyzer = pipeline(\n",
    "    'sentiment-analysis',\n",
    "    model='distilbert-base-uncased-finetuned-sst-2-english',\n",
    "    device=device\n",
    ")\n",
    "\n",
    "# Function to analyze sentiment (truncates to 512 chars to respect token limits)\n",
    "def analyze_sentiment(text):\n",
    "    if pd.isna(text) or not isinstance(text, str) or text.strip() == \"\":\n",
    "        return None\n",
    "    snippet = text[:512]\n",
    "    result = sentiment_analyzer(snippet)\n",
    "    return result[0]['label']\n",
    "\n",
    "# Apply sentiment analysis to the 'Review' column\n",
    "df['sentiment'] = df['Review'].apply(analyze_sentiment)\n",
    "\n",
    "# Save the modified DataFrame to CSV\n",
    "df.to_csv('modifiedDataset.csv', index=False)\n",
    "\n",
    "print(f\"Processed {len(df)} rows. Results saved to 2LableSentiment.csv.\")\n"
   ]
  }
 ],
 "metadata": {
  "kernelspec": {
   "display_name": "venv",
   "language": "python",
   "name": "python3"
  },
  "language_info": {
   "codemirror_mode": {
    "name": "ipython",
    "version": 3
   },
   "file_extension": ".py",
   "mimetype": "text/x-python",
   "name": "python",
   "nbconvert_exporter": "python",
   "pygments_lexer": "ipython3",
   "version": "3.12.3"
  }
 },
 "nbformat": 4,
 "nbformat_minor": 5
}
