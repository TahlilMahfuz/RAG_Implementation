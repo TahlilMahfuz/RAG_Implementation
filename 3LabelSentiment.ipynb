{
 "cells": [
  {
   "cell_type": "code",
   "execution_count": 14,
   "id": "a3a6f792",
   "metadata": {},
   "outputs": [],
   "source": [
    "import sqlite3\n",
    "import pandas as pd\n",
    "import torch\n",
    "from transformers import pipeline, AutoTokenizer\n",
    "from tqdm import tqdm"
   ]
  },
  {
   "cell_type": "code",
   "execution_count": 15,
   "id": "f3ae6b80",
   "metadata": {},
   "outputs": [],
   "source": [
    "# Connect to your SQLite database and load data\n",
    "conn = sqlite3.connect(\"Auto_Reply_v3.db\")\n",
    "queries = [\n",
    "    'SELECT \"translation\" AS Review, \"Developer Reply Text\" AS Reply FROM All_Reviews',\n",
    "    'SELECT \"translation\" AS Review, \"Reply\" AS Reply FROM \"Auto Reply Hadith\"',\n",
    "    'SELECT \"translation\" AS Review, \"Reply\" AS Reply FROM Auto_Reply_Reviews',\n",
    "    'SELECT \"translation\" AS Review, \"Reply\" AS Reply FROM Auto_Reply_Reviews_Al_Quran'\n",
    "]\n",
    "dfs = [pd.read_sql_query(q, conn) for q in queries]\n",
    "df = pd.concat(dfs, ignore_index=True)\n",
    "conn.close()\n",
    "\n"
   ]
  },
  {
   "cell_type": "code",
   "execution_count": 16,
   "id": "576baf7f",
   "metadata": {},
   "outputs": [
    {
     "name": "stdout",
     "output_type": "stream",
     "text": [
      "CUDA is available. Using GPU: NVIDIA GeForce RTX 4070 Ti SUPER\n"
     ]
    }
   ],
   "source": [
    "# Check CUDA availability and select device\n",
    "device = \"cuda\" if torch.cuda.is_available() else \"cpu\"\n",
    "if device == \"cuda\":\n",
    "    print(f\"CUDA is available. Using GPU: {torch.cuda.get_device_name(0)}\")\n",
    "else:\n",
    "    print(\"CUDA is not available. Using CPU.\")\n"
   ]
  },
  {
   "cell_type": "code",
   "execution_count": 17,
   "id": "6d586250",
   "metadata": {},
   "outputs": [],
   "source": [
    "# Model and tokenizer for 3-label sentiment\n",
    "# model_name = 'cardiffnlp/twitter-roberta-base-sentiment'\n",
    "# tokenizer = AutoTokenizer.from_pretrained(model_name)\n",
    "# sentiment_analyzer = pipeline(\n",
    "#     'sentiment-analysis',\n",
    "#     model=model_name,\n",
    "#     tokenizer=tokenizer,\n",
    "#     device=0 if device == \"cuda\" else -1,\n",
    "# )\n",
    "# print(f\"Sentiment pipeline will run on: {device}\")\n",
    "\n",
    "# # Map model labels to human-readable\n",
    "# label_map = {'LABEL_0': 'negative', 'LABEL_1': 'neutral', 'LABEL_2': 'positive'}\n",
    "\n",
    "# # Sentiment analysis with tokenizer-based truncation\n",
    "\n",
    "# def analyze_sentiment(text):\n",
    "#     if not isinstance(text, str) or not text.strip():\n",
    "#         return None\n",
    "#     result = sentiment_analyzer(\n",
    "#         text,\n",
    "#         truncation=True,\n",
    "#         max_length=512\n",
    "#     )\n",
    "#     label = result[0]['label']\n",
    "#     return label_map.get(label, label)\n",
    "\n",
    "# # Apply sentiment and save to CSV\n",
    "# df['sentiment'] = df['Review'].apply(analyze_sentiment)\n",
    "# df.to_csv('robertaXLM.csv', index=False)\n",
    "# print(f\"Processed {len(df)} rows. Results saved to robertaXLM.csv.\")\n"
   ]
  },
  {
   "cell_type": "code",
   "execution_count": 18,
   "id": "e3d12b64",
   "metadata": {},
   "outputs": [
    {
     "name": "stderr",
     "output_type": "stream",
     "text": [
      "Device set to use cuda:0\n"
     ]
    },
    {
     "name": "stdout",
     "output_type": "stream",
     "text": [
      "Sentiment pipeline will run on: cuda\n"
     ]
    },
    {
     "name": "stderr",
     "output_type": "stream",
     "text": [
      "Analyzing Sentiment: 100%|██████████| 70460/70460 [03:10<00:00, 370.49it/s]\n"
     ]
    },
    {
     "name": "stdout",
     "output_type": "stream",
     "text": [
      "Processed 70460 rows. Results saved to robertaXLM.csv.\n"
     ]
    }
   ],
   "source": [
    "# Model and tokenizer for 3-label sentiment\n",
    "# model_name = 'cardiffnlp/twitter-roberta-base-sentiment'\n",
    "model_name = 'cardiffnlp/twitter-xlm-roberta-base-sentiment'\n",
    "tokenizer = AutoTokenizer.from_pretrained(model_name)\n",
    "sentiment_analyzer = pipeline(\n",
    "    'sentiment-analysis',\n",
    "    model=model_name,\n",
    "    tokenizer=tokenizer,\n",
    "    device=0 if device == \"cuda\" else -1,\n",
    ")\n",
    "print(f\"Sentiment pipeline will run on: {device}\")\n",
    "\n",
    "# Map model labels to human-readable\n",
    "label_map = {'LABEL_0': 'negative', 'LABEL_1': 'neutral', 'LABEL_2': 'positive'}\n",
    "\n",
    "# Sentiment analysis with tokenizer-based truncation\n",
    "def analyze_sentiment(text):\n",
    "    if not isinstance(text, str) or not text.strip():\n",
    "        return None\n",
    "    result = sentiment_analyzer(\n",
    "        text,\n",
    "        truncation=True,\n",
    "        max_length=512\n",
    "    )\n",
    "    label = result[0]['label']\n",
    "    return label_map.get(label, label)\n",
    "\n",
    "# Add tqdm for progress bar while applying sentiment analysis\n",
    "df['sentiment'] = [analyze_sentiment(review) for review in tqdm(df['Review'], desc=\"Analyzing Sentiment\")]\n",
    "\n",
    "# Save to CSV\n",
    "df.to_csv('robertaXLM.csv', index=False)\n",
    "print(f\"Processed {len(df)} rows. Results saved to robertaXLM.csv.\")"
   ]
  }
 ],
 "metadata": {
  "kernelspec": {
   "display_name": "venv",
   "language": "python",
   "name": "python3"
  },
  "language_info": {
   "codemirror_mode": {
    "name": "ipython",
    "version": 3
   },
   "file_extension": ".py",
   "mimetype": "text/x-python",
   "name": "python",
   "nbconvert_exporter": "python",
   "pygments_lexer": "ipython3",
   "version": "3.12.3"
  }
 },
 "nbformat": 4,
 "nbformat_minor": 5
}
