{
 "cells": [
  {
   "cell_type": "code",
   "execution_count": 1,
   "id": "5ef78d2f",
   "metadata": {},
   "outputs": [
    {
     "name": "stderr",
     "output_type": "stream",
     "text": [
      "/home/tahlilmahfuz/RAG_Implementation/venv/lib/python3.12/site-packages/tqdm/auto.py:21: TqdmWarning: IProgress not found. Please update jupyter and ipywidgets. See https://ipywidgets.readthedocs.io/en/stable/user_install.html\n",
      "  from .autonotebook import tqdm as notebook_tqdm\n"
     ]
    }
   ],
   "source": [
    "import sqlite3\n",
    "import pandas as pd\n",
    "import torch\n",
    "from transformers import pipeline, AutoTokenizer, AutoModelForSequenceClassification\n",
    "from tqdm.auto import tqdm\n",
    "\n",
    "# Enable progress_apply for pandas\n",
    "tqdm.pandas()"
   ]
  },
  {
   "cell_type": "code",
   "execution_count": 2,
   "id": "ee0a86e2",
   "metadata": {},
   "outputs": [
    {
     "data": {
      "application/vnd.microsoft.datawrangler.viewer.v0+json": {
       "columns": [
        {
         "name": "index",
         "rawType": "int64",
         "type": "integer"
        },
        {
         "name": "Review",
         "rawType": "object",
         "type": "string"
        },
        {
         "name": "Reply",
         "rawType": "object",
         "type": "unknown"
        }
       ],
       "conversionMethod": "pd.DataFrame",
       "ref": "e52535fa-6028-4892-80d2-dfad7b3d40a5",
       "rows": [
        [
         "0",
         "Alhamdulillah.. the best al quran application, easy to use every day and carry anywhere.. I pray that God will bless and reward the developer of this best application.. aamiin yaa rabbal aalamiin😄🤲.. tqvm admin",
         null
        ],
        [
         "1",
         "the best quraan app you can find. it literally has word by word translation and a tafsir option, which is very useful for non arab people. this app has NO ADS and is literally FREE, tho there is a donate option for anyone who wants to help. may Allah be pleased with us and help us do sadka jariya",
         null
        ],
        [
         "2",
         "Very helpful",
         null
        ],
        [
         "3",
         "The recent edition does explain the source of suratul alaq",
         "BarakAllahu feekum for your kind words and support. Pray for us so that Allah may accept our efforts. Visit gtaf.org to check our other apps and share with others in sha Allah!"
        ],
        [
         "4",
         "May Allah reward you richly rewarded",
         null
        ],
        [
         "5",
         "I've rate 5 star but the app could give us mor fonts; for example simple font or Othman Taha font.",
         null
        ],
        [
         "6",
         "Outstanding apps,Though audio is not working..",
         null
        ],
        [
         "7",
         "This is app is amizing and i really liked",
         null
        ],
        [
         "8",
         "Good app.",
         null
        ],
        [
         "9",
         "Masha Allah",
         null
        ],
        [
         "10",
         "Linked to this application, thank you",
         null
        ],
        [
         "11",
         "Very good and easy app",
         null
        ],
        [
         "12",
         "Best App to read The Holy Quran.. Love it so much....word by word meaning and it's tafsir makes it more helpful to common user....",
         null
        ],
        [
         "13",
         "Very excited",
         null
        ],
        [
         "14",
         "I really enjoy it",
         null
        ],
        [
         "15",
         "It was helpful to have a translator.",
         null
        ],
        [
         "16",
         "Recent update has ruined the app. More glitches. Highlighting and verses don't follow the audio. Please fix to how it was before this recent update.",
         null
        ],
        [
         "17",
         "Masha Allah. This is one of the best Qur'an app i have seen so far. With great features that makes learning and recitation easier.",
         null
        ],
        [
         "18",
         "May allah bless and reinforce you",
         null
        ],
        [
         "19",
         "Fantastic",
         null
        ],
        [
         "20",
         "SubhanAllah",
         null
        ],
        [
         "21",
         "Good app",
         null
        ],
        [
         "22",
         "MashAllah Amazing App! Well organised & smooth flow🤍🤍🤍🤍",
         null
        ],
        [
         "23",
         "Perfect💗",
         null
        ],
        [
         "24",
         "5 stars are missing, I give 100 stars!!! I recommend it to everyone, many Arab teachers recommend this program. I think you can download it. 👍👍👍👍👍👍 May God be pleased with you",
         null
        ],
        [
         "25",
         "Great app",
         null
        ],
        [
         "26",
         "I really like this👍",
         null
        ],
        [
         "27",
         "Very helpful",
         null
        ],
        [
         "28",
         "Ma Sha Allah, a great app to learn to read Arabic. Also, each verse of the surah is followed by a tafsir for mental progress. May Allah bless you and your business!",
         null
        ],
        [
         "29",
         "It is the most beneficiary app i have seen. jazakallah",
         null
        ],
        [
         "30",
         "It is free and has so many functions. I LOVE IT. Jazak Allah! to the developers of this app...",
         null
        ],
        [
         "31",
         "Masha Allah very good in translation, it's really nice app",
         null
        ],
        [
         "32",
         "Thank you very much",
         null
        ],
        [
         "33",
         "It's THE BEST",
         null
        ],
        [
         "34",
         "Looking at all the good comments, it makes me want to use this Anroit Al-Qur'an even more quickly. May blessings be upon all, amen",
         null
        ],
        [
         "35",
         "three good",
         null
        ],
        [
         "36",
         "Excellent",
         null
        ],
        [
         "37",
         "I love the app",
         null
        ],
        [
         "38",
         "Great, very helpful",
         null
        ],
        [
         "39",
         "This app is very good to every muslim to read and listing and also understand the meaning of verses of qur an may Allh grantu jannatul firdaus thsnk",
         null
        ],
        [
         "40",
         "This is the best app to learn Al Quran.",
         null
        ],
        [
         "41",
         "Best app ever focus on your deen",
         null
        ],
        [
         "42",
         "Allah bless you with Al Ferdus inshallah for your effort ❤️",
         null
        ],
        [
         "43",
         "This is the best app of Quran I have ever seen. NO ADD. EASY TO USE.JUST AMAZING. ALHAMDULILLAH.",
         null
        ],
        [
         "44",
         "This is very useful app",
         null
        ],
        [
         "45",
         "Thank you very much",
         null
        ],
        [
         "46",
         "Great app",
         null
        ],
        [
         "47",
         "Million Stars!!!",
         null
        ],
        [
         "48",
         "Alhamdulillah. A very good up",
         null
        ],
        [
         "49",
         "It's user friendly and really educational",
         null
        ]
       ],
       "shape": {
        "columns": 2,
        "rows": 70460
       }
      },
      "text/html": [
       "<div>\n",
       "<style scoped>\n",
       "    .dataframe tbody tr th:only-of-type {\n",
       "        vertical-align: middle;\n",
       "    }\n",
       "\n",
       "    .dataframe tbody tr th {\n",
       "        vertical-align: top;\n",
       "    }\n",
       "\n",
       "    .dataframe thead th {\n",
       "        text-align: right;\n",
       "    }\n",
       "</style>\n",
       "<table border=\"1\" class=\"dataframe\">\n",
       "  <thead>\n",
       "    <tr style=\"text-align: right;\">\n",
       "      <th></th>\n",
       "      <th>Review</th>\n",
       "      <th>Reply</th>\n",
       "    </tr>\n",
       "  </thead>\n",
       "  <tbody>\n",
       "    <tr>\n",
       "      <th>0</th>\n",
       "      <td>Alhamdulillah.. the best al quran application,...</td>\n",
       "      <td>None</td>\n",
       "    </tr>\n",
       "    <tr>\n",
       "      <th>1</th>\n",
       "      <td>the best quraan app you can find. it literally...</td>\n",
       "      <td>None</td>\n",
       "    </tr>\n",
       "    <tr>\n",
       "      <th>2</th>\n",
       "      <td>Very helpful</td>\n",
       "      <td>None</td>\n",
       "    </tr>\n",
       "    <tr>\n",
       "      <th>3</th>\n",
       "      <td>The recent edition does explain the source of ...</td>\n",
       "      <td>BarakAllahu feekum for your kind words and sup...</td>\n",
       "    </tr>\n",
       "    <tr>\n",
       "      <th>4</th>\n",
       "      <td>May Allah reward you richly rewarded</td>\n",
       "      <td>None</td>\n",
       "    </tr>\n",
       "    <tr>\n",
       "      <th>...</th>\n",
       "      <td>...</td>\n",
       "      <td>...</td>\n",
       "    </tr>\n",
       "    <tr>\n",
       "      <th>70455</th>\n",
       "      <td>\\tVery good app</td>\n",
       "      <td>BarakAllahu feekum for your kind words and sup...</td>\n",
       "    </tr>\n",
       "    <tr>\n",
       "      <th>70456</th>\n",
       "      <td>\\tThank God, this application is really good!!...</td>\n",
       "      <td>BarakAllahu feekum for your kind words and sup...</td>\n",
       "    </tr>\n",
       "    <tr>\n",
       "      <th>70457</th>\n",
       "      <td>\\tMashallah, may God bless you</td>\n",
       "      <td>BarakAllahu feekum for your kind words and sup...</td>\n",
       "    </tr>\n",
       "    <tr>\n",
       "      <th>70458</th>\n",
       "      <td>\\tThank God this application helps👍</td>\n",
       "      <td>BarakAllahu feekum for your kind words and sup...</td>\n",
       "    </tr>\n",
       "    <tr>\n",
       "      <th>70459</th>\n",
       "      <td>\\tAwesome app</td>\n",
       "      <td>BarakAllahu feekum for your kind words and sup...</td>\n",
       "    </tr>\n",
       "  </tbody>\n",
       "</table>\n",
       "<p>70460 rows × 2 columns</p>\n",
       "</div>"
      ],
      "text/plain": [
       "                                                  Review  \\\n",
       "0      Alhamdulillah.. the best al quran application,...   \n",
       "1      the best quraan app you can find. it literally...   \n",
       "2                                           Very helpful   \n",
       "3      The recent edition does explain the source of ...   \n",
       "4                   May Allah reward you richly rewarded   \n",
       "...                                                  ...   \n",
       "70455                                    \\tVery good app   \n",
       "70456  \\tThank God, this application is really good!!...   \n",
       "70457                     \\tMashallah, may God bless you   \n",
       "70458                \\tThank God this application helps👍   \n",
       "70459                                      \\tAwesome app   \n",
       "\n",
       "                                                   Reply  \n",
       "0                                                   None  \n",
       "1                                                   None  \n",
       "2                                                   None  \n",
       "3      BarakAllahu feekum for your kind words and sup...  \n",
       "4                                                   None  \n",
       "...                                                  ...  \n",
       "70455  BarakAllahu feekum for your kind words and sup...  \n",
       "70456  BarakAllahu feekum for your kind words and sup...  \n",
       "70457  BarakAllahu feekum for your kind words and sup...  \n",
       "70458  BarakAllahu feekum for your kind words and sup...  \n",
       "70459  BarakAllahu feekum for your kind words and sup...  \n",
       "\n",
       "[70460 rows x 2 columns]"
      ]
     },
     "execution_count": 2,
     "metadata": {},
     "output_type": "execute_result"
    }
   ],
   "source": [
    "# 1. Load user reviews from the SQLite database\n",
    "db_path = \"Auto_Reply_v3.db\"\n",
    "conn = sqlite3.connect(db_path)\n",
    "queries = [\n",
    "    'SELECT \"translation\" AS Review, \"Developer Reply Text\" AS Reply FROM All_Reviews',\n",
    "    'SELECT \"translation\" AS Review, \"Reply\" AS Reply FROM \"Auto Reply Hadith\"',\n",
    "    'SELECT \"translation\" AS Review, \"Reply\" AS Reply FROM Auto_Reply_Reviews',\n",
    "    'SELECT \"translation\" AS Review, \"Reply\" AS Reply FROM Auto_Reply_Reviews_Al_Quran'\n",
    "]\n",
    "dfs = [pd.read_sql_query(q, conn) for q in queries]\n",
    "df = pd.concat(dfs, ignore_index=True)\n",
    "conn.close()\n",
    "df"
   ]
  },
  {
   "cell_type": "code",
   "execution_count": null,
   "id": "19d82821",
   "metadata": {},
   "outputs": [],
   "source": [
    "# 2. Load the tokenizer and model for sequence classification\n",
    "model_name = \"tabularisai/multilingual-sentiment-analysis\"\n",
    "tokenizer = AutoTokenizer.from_pretrained(model_name)\n",
    "model = AutoModelForSequenceClassification.from_pretrained(model_name)\n"
   ]
  },
  {
   "cell_type": "code",
   "execution_count": 4,
   "id": "638b0668",
   "metadata": {},
   "outputs": [
    {
     "name": "stdout",
     "output_type": "stream",
     "text": [
      "Loaded 'tabularisai/multilingual-sentiment-analysis' on cuda.\n"
     ]
    }
   ],
   "source": [
    "# Move model to GPU if available\n",
    "device = torch.device(\"cuda\" if torch.cuda.is_available() else \"cpu\")\n",
    "model.to(device)\n",
    "print(f\"Loaded '{model_name}' on {device}.\")\n"
   ]
  },
  {
   "cell_type": "code",
   "execution_count": 10,
   "id": "c88f7c55",
   "metadata": {},
   "outputs": [
    {
     "name": "stdout",
     "output_type": "stream",
     "text": [
      "Starting sentiment analysis...\n"
     ]
    },
    {
     "name": "stderr",
     "output_type": "stream",
     "text": [
      "100%|██████████| 70460/70460 [02:53<00:00, 406.94it/s]\n"
     ]
    }
   ],
   "source": [
    "# 3. Sentiment prediction function using logits\n",
    "def predict_sentiment(text):\n",
    "    if not isinstance(text, str) or not text.strip():\n",
    "        return None\n",
    "    inputs = tokenizer(\n",
    "        text,\n",
    "        return_tensors=\"pt\",\n",
    "        truncation=True,\n",
    "        padding=True,\n",
    "        max_length=512\n",
    "    )\n",
    "    inputs = {k: v.to(device) for k, v in inputs.items()}\n",
    "    with torch.no_grad():\n",
    "        outputs = model(**inputs)\n",
    "    logits = outputs.logits\n",
    "    prediction = torch.argmax(logits, dim=1).item()\n",
    "    sentiment_labels = {0: \"negative\", 1: \"negative\", 2: \"neutral\", 3: \"positive\", 4: \"positive\"}\n",
    "    return sentiment_labels.get(prediction)\n",
    "\n",
    "# 4. Apply sentiment prediction with progress bar\n",
    "print(\"Starting sentiment analysis...\")\n",
    "df['Sentiment'] = df['Review'].progress_apply(predict_sentiment)\n",
    "\n",
    "# 5. Save the results to CSV\n",
    "# df.to_csv('multiLingual.csv', index=False)\n",
    "# print(f\"Processed {len(df)} reviews. Results saved to 'multiLingual.csv'.\")"
   ]
  },
  {
   "cell_type": "code",
   "execution_count": 12,
   "id": "33394b30",
   "metadata": {},
   "outputs": [
    {
     "data": {
      "application/vnd.microsoft.datawrangler.viewer.v0+json": {
       "columns": [
        {
         "name": "index",
         "rawType": "int64",
         "type": "integer"
        },
        {
         "name": "Review",
         "rawType": "object",
         "type": "string"
        },
        {
         "name": "Reply",
         "rawType": "object",
         "type": "unknown"
        },
        {
         "name": "Sentiment",
         "rawType": "object",
         "type": "string"
        }
       ],
       "conversionMethod": "pd.DataFrame",
       "ref": "32e86105-153c-44ce-b326-327ab348ab97",
       "rows": [
        [
         "0",
         "Alhamdulillah.. the best al quran application, easy to use every day and carry anywhere.. I pray that God will bless and reward the developer of this best application.. aamiin yaa rabbal aalamiin😄🤲.. tqvm admin",
         null,
         "positive"
        ],
        [
         "1",
         "the best quraan app you can find. it literally has word by word translation and a tafsir option, which is very useful for non arab people. this app has NO ADS and is literally FREE, tho there is a donate option for anyone who wants to help. may Allah be pleased with us and help us do sadka jariya",
         null,
         "positive"
        ],
        [
         "2",
         "Very helpful",
         null,
         "positive"
        ],
        [
         "3",
         "The recent edition does explain the source of suratul alaq",
         "BarakAllahu feekum for your kind words and support. Pray for us so that Allah may accept our efforts. Visit gtaf.org to check our other apps and share with others in sha Allah!",
         "neutral"
        ],
        [
         "4",
         "May Allah reward you richly rewarded",
         null,
         "positive"
        ],
        [
         "5",
         "I've rate 5 star but the app could give us mor fonts; for example simple font or Othman Taha font.",
         null,
         "neutral"
        ],
        [
         "6",
         "Outstanding apps,Though audio is not working..",
         null,
         "neutral"
        ],
        [
         "7",
         "This is app is amizing and i really liked",
         null,
         "positive"
        ],
        [
         "8",
         "Good app.",
         null,
         "positive"
        ],
        [
         "9",
         "Masha Allah",
         null,
         "positive"
        ],
        [
         "10",
         "Linked to this application, thank you",
         null,
         "neutral"
        ],
        [
         "11",
         "Very good and easy app",
         null,
         "positive"
        ],
        [
         "12",
         "Best App to read The Holy Quran.. Love it so much....word by word meaning and it's tafsir makes it more helpful to common user....",
         null,
         "positive"
        ],
        [
         "13",
         "Very excited",
         null,
         "positive"
        ],
        [
         "14",
         "I really enjoy it",
         null,
         "positive"
        ],
        [
         "15",
         "It was helpful to have a translator.",
         null,
         "positive"
        ],
        [
         "16",
         "Recent update has ruined the app. More glitches. Highlighting and verses don't follow the audio. Please fix to how it was before this recent update.",
         null,
         "negative"
        ],
        [
         "17",
         "Masha Allah. This is one of the best Qur'an app i have seen so far. With great features that makes learning and recitation easier.",
         null,
         "positive"
        ],
        [
         "18",
         "May allah bless and reinforce you",
         null,
         "positive"
        ],
        [
         "19",
         "Fantastic",
         null,
         "positive"
        ],
        [
         "20",
         "SubhanAllah",
         null,
         "positive"
        ],
        [
         "21",
         "Good app",
         null,
         "positive"
        ],
        [
         "22",
         "MashAllah Amazing App! Well organised & smooth flow🤍🤍🤍🤍",
         null,
         "positive"
        ],
        [
         "23",
         "Perfect💗",
         null,
         "neutral"
        ],
        [
         "24",
         "5 stars are missing, I give 100 stars!!! I recommend it to everyone, many Arab teachers recommend this program. I think you can download it. 👍👍👍👍👍👍 May God be pleased with you",
         null,
         "positive"
        ],
        [
         "25",
         "Great app",
         null,
         "negative"
        ],
        [
         "26",
         "I really like this👍",
         null,
         "positive"
        ],
        [
         "27",
         "Very helpful",
         null,
         "positive"
        ],
        [
         "28",
         "Ma Sha Allah, a great app to learn to read Arabic. Also, each verse of the surah is followed by a tafsir for mental progress. May Allah bless you and your business!",
         null,
         "positive"
        ],
        [
         "29",
         "It is the most beneficiary app i have seen. jazakallah",
         null,
         "positive"
        ],
        [
         "30",
         "It is free and has so many functions. I LOVE IT. Jazak Allah! to the developers of this app...",
         null,
         "positive"
        ],
        [
         "31",
         "Masha Allah very good in translation, it's really nice app",
         null,
         "positive"
        ],
        [
         "32",
         "Thank you very much",
         null,
         "positive"
        ],
        [
         "33",
         "It's THE BEST",
         null,
         "positive"
        ],
        [
         "34",
         "Looking at all the good comments, it makes me want to use this Anroit Al-Qur'an even more quickly. May blessings be upon all, amen",
         null,
         "positive"
        ],
        [
         "35",
         "three good",
         null,
         "positive"
        ],
        [
         "36",
         "Excellent",
         null,
         "positive"
        ],
        [
         "37",
         "I love the app",
         null,
         "positive"
        ],
        [
         "38",
         "Great, very helpful",
         null,
         "positive"
        ],
        [
         "39",
         "This app is very good to every muslim to read and listing and also understand the meaning of verses of qur an may Allh grantu jannatul firdaus thsnk",
         null,
         "positive"
        ],
        [
         "40",
         "This is the best app to learn Al Quran.",
         null,
         "positive"
        ],
        [
         "41",
         "Best app ever focus on your deen",
         null,
         "positive"
        ],
        [
         "42",
         "Allah bless you with Al Ferdus inshallah for your effort ❤️",
         null,
         "positive"
        ],
        [
         "43",
         "This is the best app of Quran I have ever seen. NO ADD. EASY TO USE.JUST AMAZING. ALHAMDULILLAH.",
         null,
         "positive"
        ],
        [
         "44",
         "This is very useful app",
         null,
         "positive"
        ],
        [
         "45",
         "Thank you very much",
         null,
         "positive"
        ],
        [
         "46",
         "Great app",
         null,
         "negative"
        ],
        [
         "47",
         "Million Stars!!!",
         null,
         "positive"
        ],
        [
         "48",
         "Alhamdulillah. A very good up",
         null,
         "positive"
        ],
        [
         "49",
         "It's user friendly and really educational",
         null,
         "positive"
        ]
       ],
       "shape": {
        "columns": 3,
        "rows": 70460
       }
      },
      "text/html": [
       "<div>\n",
       "<style scoped>\n",
       "    .dataframe tbody tr th:only-of-type {\n",
       "        vertical-align: middle;\n",
       "    }\n",
       "\n",
       "    .dataframe tbody tr th {\n",
       "        vertical-align: top;\n",
       "    }\n",
       "\n",
       "    .dataframe thead th {\n",
       "        text-align: right;\n",
       "    }\n",
       "</style>\n",
       "<table border=\"1\" class=\"dataframe\">\n",
       "  <thead>\n",
       "    <tr style=\"text-align: right;\">\n",
       "      <th></th>\n",
       "      <th>Review</th>\n",
       "      <th>Reply</th>\n",
       "      <th>Sentiment</th>\n",
       "    </tr>\n",
       "  </thead>\n",
       "  <tbody>\n",
       "    <tr>\n",
       "      <th>0</th>\n",
       "      <td>Alhamdulillah.. the best al quran application,...</td>\n",
       "      <td>None</td>\n",
       "      <td>positive</td>\n",
       "    </tr>\n",
       "    <tr>\n",
       "      <th>1</th>\n",
       "      <td>the best quraan app you can find. it literally...</td>\n",
       "      <td>None</td>\n",
       "      <td>positive</td>\n",
       "    </tr>\n",
       "    <tr>\n",
       "      <th>2</th>\n",
       "      <td>Very helpful</td>\n",
       "      <td>None</td>\n",
       "      <td>positive</td>\n",
       "    </tr>\n",
       "    <tr>\n",
       "      <th>3</th>\n",
       "      <td>The recent edition does explain the source of ...</td>\n",
       "      <td>BarakAllahu feekum for your kind words and sup...</td>\n",
       "      <td>neutral</td>\n",
       "    </tr>\n",
       "    <tr>\n",
       "      <th>4</th>\n",
       "      <td>May Allah reward you richly rewarded</td>\n",
       "      <td>None</td>\n",
       "      <td>positive</td>\n",
       "    </tr>\n",
       "    <tr>\n",
       "      <th>...</th>\n",
       "      <td>...</td>\n",
       "      <td>...</td>\n",
       "      <td>...</td>\n",
       "    </tr>\n",
       "    <tr>\n",
       "      <th>70455</th>\n",
       "      <td>\\tVery good app</td>\n",
       "      <td>BarakAllahu feekum for your kind words and sup...</td>\n",
       "      <td>positive</td>\n",
       "    </tr>\n",
       "    <tr>\n",
       "      <th>70456</th>\n",
       "      <td>\\tThank God, this application is really good!!...</td>\n",
       "      <td>BarakAllahu feekum for your kind words and sup...</td>\n",
       "      <td>positive</td>\n",
       "    </tr>\n",
       "    <tr>\n",
       "      <th>70457</th>\n",
       "      <td>\\tMashallah, may God bless you</td>\n",
       "      <td>BarakAllahu feekum for your kind words and sup...</td>\n",
       "      <td>positive</td>\n",
       "    </tr>\n",
       "    <tr>\n",
       "      <th>70458</th>\n",
       "      <td>\\tThank God this application helps👍</td>\n",
       "      <td>BarakAllahu feekum for your kind words and sup...</td>\n",
       "      <td>positive</td>\n",
       "    </tr>\n",
       "    <tr>\n",
       "      <th>70459</th>\n",
       "      <td>\\tAwesome app</td>\n",
       "      <td>BarakAllahu feekum for your kind words and sup...</td>\n",
       "      <td>positive</td>\n",
       "    </tr>\n",
       "  </tbody>\n",
       "</table>\n",
       "<p>70460 rows × 3 columns</p>\n",
       "</div>"
      ],
      "text/plain": [
       "                                                  Review  \\\n",
       "0      Alhamdulillah.. the best al quran application,...   \n",
       "1      the best quraan app you can find. it literally...   \n",
       "2                                           Very helpful   \n",
       "3      The recent edition does explain the source of ...   \n",
       "4                   May Allah reward you richly rewarded   \n",
       "...                                                  ...   \n",
       "70455                                    \\tVery good app   \n",
       "70456  \\tThank God, this application is really good!!...   \n",
       "70457                     \\tMashallah, may God bless you   \n",
       "70458                \\tThank God this application helps👍   \n",
       "70459                                      \\tAwesome app   \n",
       "\n",
       "                                                   Reply Sentiment  \n",
       "0                                                   None  positive  \n",
       "1                                                   None  positive  \n",
       "2                                                   None  positive  \n",
       "3      BarakAllahu feekum for your kind words and sup...   neutral  \n",
       "4                                                   None  positive  \n",
       "...                                                  ...       ...  \n",
       "70455  BarakAllahu feekum for your kind words and sup...  positive  \n",
       "70456  BarakAllahu feekum for your kind words and sup...  positive  \n",
       "70457  BarakAllahu feekum for your kind words and sup...  positive  \n",
       "70458  BarakAllahu feekum for your kind words and sup...  positive  \n",
       "70459  BarakAllahu feekum for your kind words and sup...  positive  \n",
       "\n",
       "[70460 rows x 3 columns]"
      ]
     },
     "execution_count": 12,
     "metadata": {},
     "output_type": "execute_result"
    }
   ],
   "source": [
    "df"
   ]
  },
  {
   "cell_type": "code",
   "execution_count": 13,
   "id": "83549d7c",
   "metadata": {},
   "outputs": [
    {
     "name": "stdout",
     "output_type": "stream",
     "text": [
      "Processed 70460 reviews. Results saved to 'multiLingual.csv'.\n"
     ]
    }
   ],
   "source": [
    "# 5. Generate automated replies based on sentiment\n",
    "\n",
    "def generate_reply(sentiment):\n",
    "    if sentiment == \"positive\":\n",
    "        return (\n",
    "            \"BarakAllahu feekum for your kind words and support. Pray for us so that Allah may accept our efforts. Visit gtaf.org to check our other apps and share with others in sha Allah!\"\n",
    "        )\n",
    "    elif sentiment == \"negative\":\n",
    "        return (\n",
    "            \"Assalamu 'alaykum dear user. We would love to make your experience better in sha Allah. If you are still facing the same issues or have any feature requests, please provide your feedback on feedback.gtaf.org. JazakAllahu khayran.\"\n",
    "        )\n",
    "    else:\n",
    "        return \"JazakAllahu khayran for your review! If you face any issues or have feature requests, please provide your feedback on feedback.gtaf.org.\"\n",
    "\n",
    "# Apply reply generation\n",
    "df['Reply'] = df['Sentiment'].apply(generate_reply)\n",
    "\n",
    "# 6. Save the results to CSV including Review, sentiment, and reply\n",
    "df.to_csv('5.multiLingual.csv', index=False)\n",
    "print(f\"Processed {len(df)} reviews. Results saved to 'multiLingual.csv'.\")"
   ]
  }
 ],
 "metadata": {
  "kernelspec": {
   "display_name": "venv",
   "language": "python",
   "name": "python3"
  },
  "language_info": {
   "codemirror_mode": {
    "name": "ipython",
    "version": 3
   },
   "file_extension": ".py",
   "mimetype": "text/x-python",
   "name": "python",
   "nbconvert_exporter": "python",
   "pygments_lexer": "ipython3",
   "version": "3.12.3"
  }
 },
 "nbformat": 4,
 "nbformat_minor": 5
}
