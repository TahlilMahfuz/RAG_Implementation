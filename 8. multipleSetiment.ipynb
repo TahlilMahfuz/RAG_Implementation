{
 "cells": [
  {
   "cell_type": "code",
   "execution_count": 1,
   "id": "3a95c9d3",
   "metadata": {},
   "outputs": [
    {
     "name": "stderr",
     "output_type": "stream",
     "text": [
      "/home/tahlilmahfuz/RAG_Implementation/venv/lib/python3.12/site-packages/tqdm/auto.py:21: TqdmWarning: IProgress not found. Please update jupyter and ipywidgets. See https://ipywidgets.readthedocs.io/en/stable/user_install.html\n",
      "  from .autonotebook import tqdm as notebook_tqdm\n"
     ]
    }
   ],
   "source": [
    "import sqlite3\n",
    "import pandas as pd\n",
    "import torch\n",
    "from transformers import pipeline, AutoTokenizer\n",
    "from tqdm.auto import tqdm"
   ]
  },
  {
   "cell_type": "code",
   "execution_count": 2,
   "id": "326e29f1",
   "metadata": {},
   "outputs": [],
   "source": [
    "# Enable pandas progress_apply\n",
    "tqdm.pandas()"
   ]
  },
  {
   "cell_type": "code",
   "execution_count": 3,
   "id": "d942483e",
   "metadata": {},
   "outputs": [],
   "source": [
    "# Connect to your SQLite database and load data\n",
    "conn = sqlite3.connect(\"Auto_Reply_v3.db\")\n",
    "queries = [\n",
    "    'SELECT \"translation\" AS Review, \"Developer Reply Text\" AS Reply FROM All_Reviews',\n",
    "    'SELECT \"translation\" AS Review, \"Reply\" AS Reply FROM \"Auto Reply Hadith\"',\n",
    "    'SELECT \"translation\" AS Review, \"Reply\" AS Reply FROM Auto_Reply_Reviews',\n",
    "    'SELECT \"translation\" AS Review, \"Reply\" AS Reply FROM Auto_Reply_Reviews_Al_Quran'\n",
    "]\n",
    "dfs = [pd.read_sql_query(q, conn) for q in queries]\n",
    "df = pd.concat(dfs, ignore_index=True)\n",
    "conn.close()\n"
   ]
  },
  {
   "cell_type": "code",
   "execution_count": 4,
   "id": "3671025a",
   "metadata": {},
   "outputs": [
    {
     "name": "stdout",
     "output_type": "stream",
     "text": [
      "CUDA is available. Using GPU: NVIDIA GeForce RTX 4070 Ti SUPER\n"
     ]
    }
   ],
   "source": [
    "# Check CUDA availability and select device\n",
    "device = 0 if torch.cuda.is_available() else -1\n",
    "if device == 0:\n",
    "    print(f\"CUDA is available. Using GPU: {torch.cuda.get_device_name(0)}\")\n",
    "else:\n",
    "    print(\"CUDA is not available. Using CPU.\")"
   ]
  },
  {
   "cell_type": "code",
   "execution_count": 5,
   "id": "a7e34eb3",
   "metadata": {},
   "outputs": [
    {
     "name": "stderr",
     "output_type": "stream",
     "text": [
      "Device set to use cuda:0\n",
      "/home/tahlilmahfuz/RAG_Implementation/venv/lib/python3.12/site-packages/transformers/pipelines/text_classification.py:106: UserWarning: `return_all_scores` is now deprecated,  if want a similar functionality use `top_k=None` instead of `return_all_scores=True` or `top_k=1` instead of `return_all_scores=False`.\n",
      "  warnings.warn(\n"
     ]
    },
    {
     "name": "stdout",
     "output_type": "stream",
     "text": [
      "Sentiment pipeline will run on: GPU (device index 0)\n",
      "Starting sentiment analysis on reviews...\n"
     ]
    },
    {
     "name": "stderr",
     "output_type": "stream",
     "text": [
      "  0%|          | 8/70460 [00:00<14:43, 79.77it/s]You seem to be using the pipelines sequentially on GPU. In order to maximize efficiency please use a dataset\n",
      "100%|██████████| 70460/70460 [08:10<00:00, 143.56it/s]\n"
     ]
    },
    {
     "name": "stdout",
     "output_type": "stream",
     "text": [
      "Processed 70460 rows. Results saved to 8.multipleSentiment.csv\n"
     ]
    }
   ],
   "source": [
    "# Model for multi-class emotion classification\n",
    "model_name = 'bhadresh-savani/bert-base-uncased-emotion'\n",
    "tokenizer = AutoTokenizer.from_pretrained(model_name)\n",
    "sentiment_analyzer = pipeline(\n",
    "    'text-classification',\n",
    "    model=model_name,\n",
    "    tokenizer=tokenizer,\n",
    "    device=device,\n",
    "    return_all_scores=True\n",
    ")\n",
    "print(f\"Sentiment pipeline will run on: {'GPU' if device==0 else 'CPU'} (device index {device})\")\n",
    "\n",
    "# Helper: standardize output lists\n",
    "\n",
    "def analyze_sentiment(text):\n",
    "    if not isinstance(text, str) or not text.strip():\n",
    "        return None\n",
    "    output = sentiment_analyzer(\n",
    "        text,\n",
    "        truncation=True,\n",
    "        max_length=512\n",
    "    )\n",
    "    # pipeline may return list of list when batching; handle both\n",
    "    scores = output[0] if isinstance(output, list) and isinstance(output[0], list) else output\n",
    "    best = max(scores, key=lambda x: x['score'])\n",
    "    return best['label']\n",
    "\n",
    "# Apply sentiment analysis with progress bar and save to CSV\n",
    "print(\"Starting sentiment analysis on reviews...\")\n",
    "df['sentiment'] = df['Review'].progress_apply(analyze_sentiment)\n",
    "\n",
    "# Save results\n",
    "df.to_csv('8.multipleSentiment.csv', index=False)\n",
    "print(f\"Processed {len(df)} rows. Results saved to 8.multipleSentiment.csv\")"
   ]
  }
 ],
 "metadata": {
  "kernelspec": {
   "display_name": "venv",
   "language": "python",
   "name": "python3"
  },
  "language_info": {
   "codemirror_mode": {
    "name": "ipython",
    "version": 3
   },
   "file_extension": ".py",
   "mimetype": "text/x-python",
   "name": "python",
   "nbconvert_exporter": "python",
   "pygments_lexer": "ipython3",
   "version": "3.12.3"
  }
 },
 "nbformat": 4,
 "nbformat_minor": 5
}
