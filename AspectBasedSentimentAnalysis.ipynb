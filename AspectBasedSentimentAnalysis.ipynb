{
 "cells": [
  {
   "cell_type": "code",
   "execution_count": 1,
   "id": "db6ee497",
   "metadata": {},
   "outputs": [
    {
     "name": "stderr",
     "output_type": "stream",
     "text": [
      "/home/tahlilmahfuz/RAG_Implementation/venv/lib/python3.12/site-packages/tqdm/auto.py:21: TqdmWarning: IProgress not found. Please update jupyter and ipywidgets. See https://ipywidgets.readthedocs.io/en/stable/user_install.html\n",
      "  from .autonotebook import tqdm as notebook_tqdm\n"
     ]
    },
    {
     "name": "stdout",
     "output_type": "stream",
     "text": [
      "Using device: cuda\n"
     ]
    }
   ],
   "source": [
    "import torch\n",
    "import torch.nn.functional as F\n",
    "import pandas as pd\n",
    "from transformers import AutoTokenizer, AutoModelForSequenceClassification, pipeline\n",
    "from tqdm import tqdm\n",
    "\n",
    "# Setup device\n",
    "device = torch.device(\"cuda\" if torch.cuda.is_available() else \"cpu\")\n",
    "print(f\"Using device: {device}\")\n"
   ]
  },
  {
   "cell_type": "code",
   "execution_count": 2,
   "id": "88be2900",
   "metadata": {},
   "outputs": [
    {
     "name": "stderr",
     "output_type": "stream",
     "text": [
      "/home/tahlilmahfuz/RAG_Implementation/venv/lib/python3.12/site-packages/transformers/convert_slow_tokenizer.py:559: UserWarning: The sentencepiece tokenizer that you are converting to a fast tokenizer uses the byte fallback option which is not implemented in the fast tokenizers. In practice this means that the fast version of the tokenizer can produce unknown tokens whereas the sentencepiece version would have converted these unknown tokens into a sequence of byte tokens matching the original piece of text.\n",
      "  warnings.warn(\n"
     ]
    }
   ],
   "source": [
    "# Load ABSA model\n",
    "absa_model_name = \"yangheng/deberta-v3-base-absa-v1.1\"\n",
    "absa_tokenizer = AutoTokenizer.from_pretrained(absa_model_name)\n",
    "absa_model = AutoModelForSequenceClassification.from_pretrained(absa_model_name).to(device)"
   ]
  },
  {
   "cell_type": "code",
   "execution_count": 3,
   "id": "0c68650a",
   "metadata": {},
   "outputs": [
    {
     "name": "stderr",
     "output_type": "stream",
     "text": [
      "Device set to use cuda:0\n"
     ]
    }
   ],
   "source": [
    "# Load overall sentiment model\n",
    "sentiment_model_name = \"cardiffnlp/twitter-xlm-roberta-base-sentiment\"\n",
    "sentiment_model = pipeline(\"sentiment-analysis\", model=sentiment_model_name,\n",
    "                           tokenizer=sentiment_model_name, device=0 if torch.cuda.is_available() else -1)"
   ]
  },
  {
   "cell_type": "code",
   "execution_count": null,
   "id": "f444917e",
   "metadata": {},
   "outputs": [],
   "source": [
    "# Define aspects you're interested in analyzing\n",
    "aspects = [\"feature\", \"ads\", \"performance\"]\n",
    "\n",
    "# Load your review data\n",
    "import sqlite3\n",
    "conn = sqlite3.connect(\"Auto_Reply_v3.db\")\n",
    "queries = [\n",
    "    'SELECT \"translation\" AS Review FROM All_Reviews',\n",
    "    'SELECT \"translation\" AS Review FROM \"Auto Reply Hadith\"',\n",
    "    'SELECT \"translation\" AS Review FROM Auto_Reply_Reviews',\n",
    "    'SELECT \"translation\" AS Review FROM Auto_Reply_Reviews_Al_Quran'\n",
    "]\n",
    "df = pd.concat([pd.read_sql_query(q, conn) for q in queries], ignore_index=True)\n",
    "conn.close()"
   ]
  },
  {
   "cell_type": "code",
   "execution_count": 5,
   "id": "7d8be1ae",
   "metadata": {},
   "outputs": [],
   "source": [
    "# Function to run ABSA for multiple aspects\n",
    "def get_absa_sentiments(sentence):\n",
    "    results = {}\n",
    "    for aspect in aspects:\n",
    "        # Format input as [CLS] sentence [SEP] aspect [SEP]\n",
    "        inputs = absa_tokenizer(f\"[CLS] {sentence} [SEP] {aspect} [SEP]\",\n",
    "                                return_tensors=\"pt\", truncation=True, padding=True, max_length=512).to(device)\n",
    "        with torch.no_grad():\n",
    "            outputs = absa_model(**inputs)\n",
    "        probs = F.softmax(outputs.logits, dim=1).detach().cpu().numpy()[0]\n",
    "        label = [\"Negative\", \"Neutral\", \"Positive\"][probs.argmax()]\n",
    "        results[aspect] = label\n",
    "    return results"
   ]
  },
  {
   "cell_type": "code",
   "execution_count": 6,
   "id": "5a73ba90",
   "metadata": {},
   "outputs": [
    {
     "name": "stdout",
     "output_type": "stream",
     "text": [
      "Running sentiment analysis...\n"
     ]
    },
    {
     "name": "stderr",
     "output_type": "stream",
     "text": [
      "Processing Reviews:   1%|          | 8/1000 [00:00<01:10, 14.14it/s]You seem to be using the pipelines sequentially on GPU. In order to maximize efficiency please use a dataset\n",
      "Processing Reviews: 100%|██████████| 1000/1000 [00:23<00:00, 42.32it/s]\n"
     ]
    },
    {
     "data": {
      "application/vnd.microsoft.datawrangler.viewer.v0+json": {
       "columns": [
        {
         "name": "index",
         "rawType": "int64",
         "type": "integer"
        },
        {
         "name": "Review",
         "rawType": "object",
         "type": "string"
        },
        {
         "name": "feature",
         "rawType": "object",
         "type": "string"
        },
        {
         "name": "ads",
         "rawType": "object",
         "type": "string"
        },
        {
         "name": "performance",
         "rawType": "object",
         "type": "string"
        },
        {
         "name": "overall_sentiment",
         "rawType": "object",
         "type": "string"
        }
       ],
       "conversionMethod": "pd.DataFrame",
       "ref": "0130c80c-b533-4f36-b4ec-ace9daee0cfe",
       "rows": [
        [
         "0",
         "Alhamdulillah.. the best al quran application, easy to use every day and carry anywhere.. I pray that God will bless and reward the developer of this best application.. aamiin yaa rabbal aalamiin😄🤲.. tqvm admin",
         "Positive",
         "Positive",
         "Positive",
         "positive"
        ],
        [
         "1",
         "the best quraan app you can find. it literally has word by word translation and a tafsir option, which is very useful for non arab people. this app has NO ADS and is literally FREE, tho there is a donate option for anyone who wants to help. may Allah be pleased with us and help us do sadka jariya",
         "Positive",
         "Positive",
         "Positive",
         "positive"
        ],
        [
         "2",
         "Very helpful",
         "Positive",
         "Positive",
         "Positive",
         "positive"
        ],
        [
         "3",
         "The recent edition does explain the source of suratul alaq",
         "Neutral",
         "Neutral",
         "Neutral",
         "neutral"
        ],
        [
         "4",
         "May Allah reward you richly rewarded",
         "Positive",
         "Neutral",
         "Positive",
         "positive"
        ],
        [
         "5",
         "I've rate 5 star but the app could give us mor fonts; for example simple font or Othman Taha font.",
         "Negative",
         "Neutral",
         "Negative",
         "neutral"
        ],
        [
         "6",
         "Outstanding apps,Though audio is not working..",
         "Positive",
         "Positive",
         "Positive",
         "negative"
        ],
        [
         "7",
         "This is app is amizing and i really liked",
         "Positive",
         "Positive",
         "Positive",
         "positive"
        ],
        [
         "8",
         "Good app.",
         "Positive",
         "Positive",
         "Positive",
         "positive"
        ],
        [
         "9",
         "Masha Allah",
         "Neutral",
         "Neutral",
         "Neutral",
         "positive"
        ],
        [
         "10",
         "Linked to this application, thank you",
         "Positive",
         "Neutral",
         "Neutral",
         "positive"
        ],
        [
         "11",
         "Very good and easy app",
         "Positive",
         "Positive",
         "Positive",
         "positive"
        ],
        [
         "12",
         "Best App to read The Holy Quran.. Love it so much....word by word meaning and it's tafsir makes it more helpful to common user....",
         "Positive",
         "Positive",
         "Positive",
         "positive"
        ],
        [
         "13",
         "Very excited",
         "Positive",
         "Positive",
         "Positive",
         "positive"
        ],
        [
         "14",
         "I really enjoy it",
         "Positive",
         "Positive",
         "Positive",
         "positive"
        ],
        [
         "15",
         "It was helpful to have a translator.",
         "Neutral",
         "Neutral",
         "Positive",
         "positive"
        ],
        [
         "16",
         "Recent update has ruined the app. More glitches. Highlighting and verses don't follow the audio. Please fix to how it was before this recent update.",
         "Negative",
         "Negative",
         "Negative",
         "negative"
        ],
        [
         "17",
         "Masha Allah. This is one of the best Qur'an app i have seen so far. With great features that makes learning and recitation easier.",
         "Positive",
         "Positive",
         "Positive",
         "positive"
        ],
        [
         "18",
         "May allah bless and reinforce you",
         "Neutral",
         "Neutral",
         "Positive",
         "positive"
        ],
        [
         "19",
         "Fantastic",
         "Positive",
         "Positive",
         "Positive",
         "positive"
        ],
        [
         "20",
         "SubhanAllah",
         "Neutral",
         "Neutral",
         "Positive",
         "positive"
        ],
        [
         "21",
         "Good app",
         "Positive",
         "Positive",
         "Positive",
         "positive"
        ],
        [
         "22",
         "MashAllah Amazing App! Well organised & smooth flow🤍🤍🤍🤍",
         "Positive",
         "Positive",
         "Positive",
         "positive"
        ],
        [
         "23",
         "Perfect💗",
         "Positive",
         "Positive",
         "Positive",
         "positive"
        ],
        [
         "24",
         "5 stars are missing, I give 100 stars!!! I recommend it to everyone, many Arab teachers recommend this program. I think you can download it. 👍👍👍👍👍👍 May God be pleased with you",
         "Positive",
         "Positive",
         "Positive",
         "positive"
        ],
        [
         "25",
         "Great app",
         "Positive",
         "Positive",
         "Positive",
         "positive"
        ],
        [
         "26",
         "I really like this👍",
         "Positive",
         "Positive",
         "Positive",
         "positive"
        ],
        [
         "27",
         "Very helpful",
         "Positive",
         "Positive",
         "Positive",
         "positive"
        ],
        [
         "28",
         "Ma Sha Allah, a great app to learn to read Arabic. Also, each verse of the surah is followed by a tafsir for mental progress. May Allah bless you and your business!",
         "Positive",
         "Positive",
         "Positive",
         "positive"
        ],
        [
         "29",
         "It is the most beneficiary app i have seen. jazakallah",
         "Positive",
         "Neutral",
         "Positive",
         "positive"
        ],
        [
         "30",
         "It is free and has so many functions. I LOVE IT. Jazak Allah! to the developers of this app...",
         "Positive",
         "Positive",
         "Positive",
         "positive"
        ],
        [
         "31",
         "Masha Allah very good in translation, it's really nice app",
         "Positive",
         "Positive",
         "Positive",
         "positive"
        ],
        [
         "32",
         "Thank you very much",
         "Positive",
         "Positive",
         "Positive",
         "positive"
        ],
        [
         "33",
         "It's THE BEST",
         "Positive",
         "Positive",
         "Positive",
         "positive"
        ],
        [
         "34",
         "Looking at all the good comments, it makes me want to use this Anroit Al-Qur'an even more quickly. May blessings be upon all, amen",
         "Positive",
         "Positive",
         "Positive",
         "positive"
        ],
        [
         "35",
         "three good",
         "Positive",
         "Positive",
         "Positive",
         "positive"
        ],
        [
         "36",
         "Excellent",
         "Positive",
         "Positive",
         "Positive",
         "positive"
        ],
        [
         "37",
         "I love the app",
         "Positive",
         "Positive",
         "Positive",
         "positive"
        ],
        [
         "38",
         "Great, very helpful",
         "Positive",
         "Positive",
         "Positive",
         "positive"
        ],
        [
         "39",
         "This app is very good to every muslim to read and listing and also understand the meaning of verses of qur an may Allh grantu jannatul firdaus thsnk",
         "Positive",
         "Neutral",
         "Positive",
         "positive"
        ],
        [
         "40",
         "This is the best app to learn Al Quran.",
         "Neutral",
         "Neutral",
         "Positive",
         "positive"
        ],
        [
         "41",
         "Best app ever focus on your deen",
         "Positive",
         "Positive",
         "Positive",
         "positive"
        ],
        [
         "42",
         "Allah bless you with Al Ferdus inshallah for your effort ❤️",
         "Positive",
         "Neutral",
         "Positive",
         "positive"
        ],
        [
         "43",
         "This is the best app of Quran I have ever seen. NO ADD. EASY TO USE.JUST AMAZING. ALHAMDULILLAH.",
         "Positive",
         "Negative",
         "Positive",
         "positive"
        ],
        [
         "44",
         "This is very useful app",
         "Positive",
         "Positive",
         "Positive",
         "positive"
        ],
        [
         "45",
         "Thank you very much",
         "Positive",
         "Positive",
         "Positive",
         "positive"
        ],
        [
         "46",
         "Great app",
         "Positive",
         "Positive",
         "Positive",
         "positive"
        ],
        [
         "47",
         "Million Stars!!!",
         "Positive",
         "Neutral",
         "Positive",
         "positive"
        ],
        [
         "48",
         "Alhamdulillah. A very good up",
         "Positive",
         "Positive",
         "Positive",
         "positive"
        ],
        [
         "49",
         "It's user friendly and really educational",
         "Positive",
         "Positive",
         "Positive",
         "positive"
        ]
       ],
       "shape": {
        "columns": 5,
        "rows": 1000
       }
      },
      "text/html": [
       "<div>\n",
       "<style scoped>\n",
       "    .dataframe tbody tr th:only-of-type {\n",
       "        vertical-align: middle;\n",
       "    }\n",
       "\n",
       "    .dataframe tbody tr th {\n",
       "        vertical-align: top;\n",
       "    }\n",
       "\n",
       "    .dataframe thead th {\n",
       "        text-align: right;\n",
       "    }\n",
       "</style>\n",
       "<table border=\"1\" class=\"dataframe\">\n",
       "  <thead>\n",
       "    <tr style=\"text-align: right;\">\n",
       "      <th></th>\n",
       "      <th>Review</th>\n",
       "      <th>feature</th>\n",
       "      <th>ads</th>\n",
       "      <th>performance</th>\n",
       "      <th>overall_sentiment</th>\n",
       "    </tr>\n",
       "  </thead>\n",
       "  <tbody>\n",
       "    <tr>\n",
       "      <th>0</th>\n",
       "      <td>Alhamdulillah.. the best al quran application,...</td>\n",
       "      <td>Positive</td>\n",
       "      <td>Positive</td>\n",
       "      <td>Positive</td>\n",
       "      <td>positive</td>\n",
       "    </tr>\n",
       "    <tr>\n",
       "      <th>1</th>\n",
       "      <td>the best quraan app you can find. it literally...</td>\n",
       "      <td>Positive</td>\n",
       "      <td>Positive</td>\n",
       "      <td>Positive</td>\n",
       "      <td>positive</td>\n",
       "    </tr>\n",
       "    <tr>\n",
       "      <th>2</th>\n",
       "      <td>Very helpful</td>\n",
       "      <td>Positive</td>\n",
       "      <td>Positive</td>\n",
       "      <td>Positive</td>\n",
       "      <td>positive</td>\n",
       "    </tr>\n",
       "    <tr>\n",
       "      <th>3</th>\n",
       "      <td>The recent edition does explain the source of ...</td>\n",
       "      <td>Neutral</td>\n",
       "      <td>Neutral</td>\n",
       "      <td>Neutral</td>\n",
       "      <td>neutral</td>\n",
       "    </tr>\n",
       "    <tr>\n",
       "      <th>4</th>\n",
       "      <td>May Allah reward you richly rewarded</td>\n",
       "      <td>Positive</td>\n",
       "      <td>Neutral</td>\n",
       "      <td>Positive</td>\n",
       "      <td>positive</td>\n",
       "    </tr>\n",
       "    <tr>\n",
       "      <th>...</th>\n",
       "      <td>...</td>\n",
       "      <td>...</td>\n",
       "      <td>...</td>\n",
       "      <td>...</td>\n",
       "      <td>...</td>\n",
       "    </tr>\n",
       "    <tr>\n",
       "      <th>995</th>\n",
       "      <td>God bless you</td>\n",
       "      <td>Positive</td>\n",
       "      <td>Neutral</td>\n",
       "      <td>Positive</td>\n",
       "      <td>positive</td>\n",
       "    </tr>\n",
       "    <tr>\n",
       "      <th>996</th>\n",
       "      <td>It needs update. I experience a lot of issues ...</td>\n",
       "      <td>Negative</td>\n",
       "      <td>Negative</td>\n",
       "      <td>Negative</td>\n",
       "      <td>negative</td>\n",
       "    </tr>\n",
       "    <tr>\n",
       "      <th>997</th>\n",
       "      <td>May God bless you and reward you with all the ...</td>\n",
       "      <td>Positive</td>\n",
       "      <td>Positive</td>\n",
       "      <td>Positive</td>\n",
       "      <td>positive</td>\n",
       "    </tr>\n",
       "    <tr>\n",
       "      <th>998</th>\n",
       "      <td>Very useful and easy to understand</td>\n",
       "      <td>Positive</td>\n",
       "      <td>Positive</td>\n",
       "      <td>Positive</td>\n",
       "      <td>positive</td>\n",
       "    </tr>\n",
       "    <tr>\n",
       "      <th>999</th>\n",
       "      <td>A very good app learining the meaning of each ...</td>\n",
       "      <td>Positive</td>\n",
       "      <td>Positive</td>\n",
       "      <td>Positive</td>\n",
       "      <td>positive</td>\n",
       "    </tr>\n",
       "  </tbody>\n",
       "</table>\n",
       "<p>1000 rows × 5 columns</p>\n",
       "</div>"
      ],
      "text/plain": [
       "                                                Review   feature       ads  \\\n",
       "0    Alhamdulillah.. the best al quran application,...  Positive  Positive   \n",
       "1    the best quraan app you can find. it literally...  Positive  Positive   \n",
       "2                                         Very helpful  Positive  Positive   \n",
       "3    The recent edition does explain the source of ...   Neutral   Neutral   \n",
       "4                 May Allah reward you richly rewarded  Positive   Neutral   \n",
       "..                                                 ...       ...       ...   \n",
       "995                                      God bless you  Positive   Neutral   \n",
       "996  It needs update. I experience a lot of issues ...  Negative  Negative   \n",
       "997  May God bless you and reward you with all the ...  Positive  Positive   \n",
       "998                 Very useful and easy to understand  Positive  Positive   \n",
       "999  A very good app learining the meaning of each ...  Positive  Positive   \n",
       "\n",
       "    performance overall_sentiment  \n",
       "0      Positive          positive  \n",
       "1      Positive          positive  \n",
       "2      Positive          positive  \n",
       "3       Neutral           neutral  \n",
       "4      Positive          positive  \n",
       "..          ...               ...  \n",
       "995    Positive          positive  \n",
       "996    Negative          negative  \n",
       "997    Positive          positive  \n",
       "998    Positive          positive  \n",
       "999    Positive          positive  \n",
       "\n",
       "[1000 rows x 5 columns]"
      ]
     },
     "execution_count": 6,
     "metadata": {},
     "output_type": "execute_result"
    }
   ],
   "source": [
    "# Function to get overall sentiment\n",
    "def get_overall_sentiment(sentence):\n",
    "    try:\n",
    "        result = sentiment_model([sentence])[0]\n",
    "        return result[\"label\"]\n",
    "    except Exception:\n",
    "        return \"Unknown\"\n",
    "\n",
    "# Apply sentiment analysis\n",
    "aspect_sentiments = []\n",
    "overall_sentiments = []\n",
    "\n",
    "print(\"Running sentiment analysis...\")\n",
    "for review in tqdm(df[\"Review\"], desc=\"Processing Reviews\"):\n",
    "    absa = get_absa_sentiments(review)\n",
    "    aspect_sentiments.append(absa)\n",
    "    overall_sentiments.append(get_overall_sentiment(review))\n",
    "\n",
    "# Expand aspect sentiment dictionary into columns\n",
    "aspect_df = pd.DataFrame(aspect_sentiments)\n",
    "df = pd.concat([df, aspect_df], axis=1)\n",
    "df[\"overall_sentiment\"] = overall_sentiments\n",
    "df"
   ]
  },
  {
   "cell_type": "code",
   "execution_count": 7,
   "id": "9745240f",
   "metadata": {},
   "outputs": [
    {
     "name": "stdout",
     "output_type": "stream",
     "text": [
      "Analysis complete! Results saved to IslamicApp_Aspect_Sentiment.csv\n"
     ]
    }
   ],
   "source": [
    "# Save to CSV\n",
    "df.to_csv(\"IslamicApp_Aspect_Sentiment.csv\", index=False)\n",
    "print(\"Analysis complete! Results saved to IslamicApp_Aspect_Sentiment.csv\")"
   ]
  }
 ],
 "metadata": {
  "kernelspec": {
   "display_name": "venv",
   "language": "python",
   "name": "python3"
  },
  "language_info": {
   "codemirror_mode": {
    "name": "ipython",
    "version": 3
   },
   "file_extension": ".py",
   "mimetype": "text/x-python",
   "name": "python",
   "nbconvert_exporter": "python",
   "pygments_lexer": "ipython3",
   "version": "3.12.3"
  }
 },
 "nbformat": 4,
 "nbformat_minor": 5
}
