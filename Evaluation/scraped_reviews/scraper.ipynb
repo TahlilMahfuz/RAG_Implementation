{
 "cells": [
  {
   "cell_type": "code",
   "execution_count": 9,
   "id": "5be62a46",
   "metadata": {},
   "outputs": [
    {
     "name": "stdout",
     "output_type": "stream",
     "text": [
      "\n",
      "📥 Fetching reviews for Muslim Pro (com.bitsmedia.android.muslimpro)\n"
     ]
    },
    {
     "name": "stderr",
     "output_type": "stream",
     "text": [
      "Processing Muslim Pro: 0review [00:00, ?review/s]\n"
     ]
    },
    {
     "name": "stdout",
     "output_type": "stream",
     "text": [
      "✅ Saved 0 reviews to 'muslim_pro_reviews.csv'\n"
     ]
    }
   ],
   "source": [
    "from google_play_scraper import Sort, reviews\n",
    "import pandas as pd\n",
    "from tqdm import tqdm\n",
    "import time\n",
    "\n",
    "# List of Islamic apps (add more as needed)\n",
    "apps = {\n",
    "    \"Muslim Pro\": \"com.bitsmedia.android.muslimpro\"\n",
    "}\n",
    "\n",
    "# Function to fetch reviews\n",
    "def fetch_reviews(app_name, app_id, review_count=100):\n",
    "    all_reviews = []\n",
    "    print(f\"\\n📥 Fetching reviews for {app_name} ({app_id})\")\n",
    "    result, _ = reviews(\n",
    "        app_id,\n",
    "        lang='en',\n",
    "        country='us',\n",
    "        sort=Sort.NEWEST,\n",
    "        count=review_count,\n",
    "        filter_score_with=None\n",
    "    )\n",
    "\n",
    "    for r in tqdm(result, desc=f\"Processing {app_name}\", unit=\"review\"):\n",
    "        review = {\n",
    "            'userName': r['userName'],\n",
    "            'score': r['score'],\n",
    "            'review': r['content'],\n",
    "            'date': r['at'],\n",
    "            'reply': r.get('replyContent'),\n",
    "            'replyDate': r.get('repliedAt')\n",
    "        }\n",
    "        all_reviews.append(review)\n",
    "\n",
    "    df = pd.DataFrame(all_reviews)\n",
    "    filename = f\"{app_name.replace(' ', '_').lower()}_reviews.csv\"\n",
    "    df.to_csv(filename, index=False)\n",
    "    print(f\"✅ Saved {len(df)} reviews to '{filename}'\")\n",
    "    time.sleep(1)  # Be polite to the server\n",
    "\n",
    "# Main script\n",
    "for name, package in apps.items():\n",
    "    fetch_reviews(name, package, review_count=100)"
   ]
  }
 ],
 "metadata": {
  "kernelspec": {
   "display_name": "venv",
   "language": "python",
   "name": "python3"
  },
  "language_info": {
   "codemirror_mode": {
    "name": "ipython",
    "version": 3
   },
   "file_extension": ".py",
   "mimetype": "text/x-python",
   "name": "python",
   "nbconvert_exporter": "python",
   "pygments_lexer": "ipython3",
   "version": "3.12.3"
  }
 },
 "nbformat": 4,
 "nbformat_minor": 5
}
