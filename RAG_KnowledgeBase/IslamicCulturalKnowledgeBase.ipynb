{
 "cells": [
  {
   "cell_type": "code",
   "execution_count": 9,
   "metadata": {},
   "outputs": [],
   "source": [
    "from googlesearch import search\n",
    "from newspaper import Article\n",
    "import json\n",
    "import time"
   ]
  },
  {
   "cell_type": "code",
   "execution_count": 2,
   "metadata": {},
   "outputs": [],
   "source": [
    "queries = [\n",
    "    \"Islamic etiquette and greetings\",\n",
    "    \"Islamic manners and social etiquette\",\n",
    "    \"Islamic greetings and their meanings\",\n",
    "    \"Islamic social behavior and etiquette\",\n",
    "    \"Islamic etiquette in daily life\"\n",
    "]"
   ]
  },
  {
   "cell_type": "code",
   "execution_count": 3,
   "metadata": {},
   "outputs": [
    {
     "ename": "HTTPError",
     "evalue": "429 Client Error: Too Many Requests for url: https://www.google.com/sorry/index?continue=https://www.google.com/search%3Fq%3DIslamic%2Betiquette%2Band%2Bgreetings%26num%3D10%26hl%3Den%26start%3D0%26safe%3Dactive&hl=en&q=EgR2s9MBGKGexcEGIjDykCPlc1SkG6jwTVkIWZXByl20SToEyHh0xynxROZlx0B7REtmrgGd_azr-ZVDQo8yAnJSWgFD",
     "output_type": "error",
     "traceback": [
      "\u001b[31m---------------------------------------------------------------------------\u001b[39m",
      "\u001b[31mHTTPError\u001b[39m                                 Traceback (most recent call last)",
      "\u001b[36mCell\u001b[39m\u001b[36m \u001b[39m\u001b[32mIn[3]\u001b[39m\u001b[32m, line 9\u001b[39m\n\u001b[32m      6\u001b[39m             time.sleep(\u001b[32m2\u001b[39m)  \u001b[38;5;66;03m# Respectful delay between requests\u001b[39;00m\n\u001b[32m      7\u001b[39m     \u001b[38;5;28;01mreturn\u001b[39;00m \u001b[38;5;28mlist\u001b[39m(urls)\n\u001b[32m----> \u001b[39m\u001b[32m9\u001b[39m urls = \u001b[43mget_search_results\u001b[49m\u001b[43m(\u001b[49m\u001b[43mqueries\u001b[49m\u001b[43m)\u001b[49m\n\u001b[32m     10\u001b[39m \u001b[38;5;28;01mwith\u001b[39;00m \u001b[38;5;28mopen\u001b[39m(\u001b[33m\"\u001b[39m\u001b[33murls_list.txt\u001b[39m\u001b[33m\"\u001b[39m, \u001b[33m\"\u001b[39m\u001b[33mw\u001b[39m\u001b[33m\"\u001b[39m, encoding=\u001b[33m\"\u001b[39m\u001b[33mutf-8\u001b[39m\u001b[33m\"\u001b[39m) \u001b[38;5;28;01mas\u001b[39;00m file:\n\u001b[32m     11\u001b[39m     \u001b[38;5;28;01mfor\u001b[39;00m url \u001b[38;5;129;01min\u001b[39;00m urls:\n",
      "\u001b[36mCell\u001b[39m\u001b[36m \u001b[39m\u001b[32mIn[3]\u001b[39m\u001b[32m, line 4\u001b[39m, in \u001b[36mget_search_results\u001b[39m\u001b[34m(queries, num_results)\u001b[39m\n\u001b[32m      2\u001b[39m urls = \u001b[38;5;28mset\u001b[39m()\n\u001b[32m      3\u001b[39m \u001b[38;5;28;01mfor\u001b[39;00m query \u001b[38;5;129;01min\u001b[39;00m queries:\n\u001b[32m----> \u001b[39m\u001b[32m4\u001b[39m \u001b[43m    \u001b[49m\u001b[38;5;28;43;01mfor\u001b[39;49;00m\u001b[43m \u001b[49m\u001b[43murl\u001b[49m\u001b[43m \u001b[49m\u001b[38;5;129;43;01min\u001b[39;49;00m\u001b[43m \u001b[49m\u001b[43msearch\u001b[49m\u001b[43m(\u001b[49m\u001b[43mquery\u001b[49m\u001b[43m,\u001b[49m\u001b[43m \u001b[49m\u001b[43mnum_results\u001b[49m\u001b[43m=\u001b[49m\u001b[43mnum_results\u001b[49m\u001b[43m)\u001b[49m\u001b[43m:\u001b[49m\n\u001b[32m      5\u001b[39m \u001b[43m        \u001b[49m\u001b[43murls\u001b[49m\u001b[43m.\u001b[49m\u001b[43madd\u001b[49m\u001b[43m(\u001b[49m\u001b[43murl\u001b[49m\u001b[43m)\u001b[49m\n\u001b[32m      6\u001b[39m \u001b[43m        \u001b[49m\u001b[43mtime\u001b[49m\u001b[43m.\u001b[49m\u001b[43msleep\u001b[49m\u001b[43m(\u001b[49m\u001b[32;43m2\u001b[39;49m\u001b[43m)\u001b[49m  \u001b[38;5;66;03m# Respectful delay between requests\u001b[39;00m\n",
      "\u001b[36mFile \u001b[39m\u001b[32m~/RAG_Implementation/venv/lib/python3.12/site-packages/googlesearch/__init__.py:58\u001b[39m, in \u001b[36msearch\u001b[39m\u001b[34m(term, num_results, lang, proxy, advanced, sleep_interval, timeout, safe, ssl_verify, region, start_num, unique)\u001b[39m\n\u001b[32m     54\u001b[39m fetched_links = \u001b[38;5;28mset\u001b[39m() \u001b[38;5;66;03m# to keep track of links that are already seen previously\u001b[39;00m\n\u001b[32m     56\u001b[39m \u001b[38;5;28;01mwhile\u001b[39;00m fetched_results < num_results:\n\u001b[32m     57\u001b[39m     \u001b[38;5;66;03m# Send request\u001b[39;00m\n\u001b[32m---> \u001b[39m\u001b[32m58\u001b[39m     resp = \u001b[43m_req\u001b[49m\u001b[43m(\u001b[49m\u001b[43mterm\u001b[49m\u001b[43m,\u001b[49m\u001b[43m \u001b[49m\u001b[43mnum_results\u001b[49m\u001b[43m \u001b[49m\u001b[43m-\u001b[49m\u001b[43m \u001b[49m\u001b[43mstart\u001b[49m\u001b[43m,\u001b[49m\n\u001b[32m     59\u001b[39m \u001b[43m                \u001b[49m\u001b[43mlang\u001b[49m\u001b[43m,\u001b[49m\u001b[43m \u001b[49m\u001b[43mstart\u001b[49m\u001b[43m,\u001b[49m\u001b[43m \u001b[49m\u001b[43mproxies\u001b[49m\u001b[43m,\u001b[49m\u001b[43m \u001b[49m\u001b[43mtimeout\u001b[49m\u001b[43m,\u001b[49m\u001b[43m \u001b[49m\u001b[43msafe\u001b[49m\u001b[43m,\u001b[49m\u001b[43m \u001b[49m\u001b[43mssl_verify\u001b[49m\u001b[43m,\u001b[49m\u001b[43m \u001b[49m\u001b[43mregion\u001b[49m\u001b[43m)\u001b[49m\n\u001b[32m     61\u001b[39m     \u001b[38;5;66;03m# put in file - comment for debugging purpose\u001b[39;00m\n\u001b[32m     62\u001b[39m     \u001b[38;5;66;03m# with open('google.html', 'w') as f:\u001b[39;00m\n\u001b[32m     63\u001b[39m     \u001b[38;5;66;03m#     f.write(resp.text)\u001b[39;00m\n\u001b[32m     64\u001b[39m     \n\u001b[32m     65\u001b[39m     \u001b[38;5;66;03m# Parse\u001b[39;00m\n\u001b[32m     66\u001b[39m     soup = BeautifulSoup(resp.text, \u001b[33m\"\u001b[39m\u001b[33mhtml.parser\u001b[39m\u001b[33m\"\u001b[39m)\n",
      "\u001b[36mFile \u001b[39m\u001b[32m~/RAG_Implementation/venv/lib/python3.12/site-packages/googlesearch/__init__.py:32\u001b[39m, in \u001b[36m_req\u001b[39m\u001b[34m(term, results, lang, start, proxies, timeout, safe, ssl_verify, region)\u001b[39m\n\u001b[32m      9\u001b[39m \u001b[38;5;28;01mdef\u001b[39;00m\u001b[38;5;250m \u001b[39m\u001b[34m_req\u001b[39m(term, results, lang, start, proxies, timeout, safe, ssl_verify, region):\n\u001b[32m     10\u001b[39m     resp = get(\n\u001b[32m     11\u001b[39m         url=\u001b[33m\"\u001b[39m\u001b[33mhttps://www.google.com/search\u001b[39m\u001b[33m\"\u001b[39m,\n\u001b[32m     12\u001b[39m         headers={\n\u001b[32m   (...)\u001b[39m\u001b[32m     30\u001b[39m         }\n\u001b[32m     31\u001b[39m     )\n\u001b[32m---> \u001b[39m\u001b[32m32\u001b[39m     \u001b[43mresp\u001b[49m\u001b[43m.\u001b[49m\u001b[43mraise_for_status\u001b[49m\u001b[43m(\u001b[49m\u001b[43m)\u001b[49m\n\u001b[32m     33\u001b[39m     \u001b[38;5;28;01mreturn\u001b[39;00m resp\n",
      "\u001b[36mFile \u001b[39m\u001b[32m~/RAG_Implementation/venv/lib/python3.12/site-packages/requests/models.py:1024\u001b[39m, in \u001b[36mResponse.raise_for_status\u001b[39m\u001b[34m(self)\u001b[39m\n\u001b[32m   1019\u001b[39m     http_error_msg = (\n\u001b[32m   1020\u001b[39m         \u001b[33mf\u001b[39m\u001b[33m\"\u001b[39m\u001b[38;5;132;01m{\u001b[39;00m\u001b[38;5;28mself\u001b[39m.status_code\u001b[38;5;132;01m}\u001b[39;00m\u001b[33m Server Error: \u001b[39m\u001b[38;5;132;01m{\u001b[39;00mreason\u001b[38;5;132;01m}\u001b[39;00m\u001b[33m for url: \u001b[39m\u001b[38;5;132;01m{\u001b[39;00m\u001b[38;5;28mself\u001b[39m.url\u001b[38;5;132;01m}\u001b[39;00m\u001b[33m\"\u001b[39m\n\u001b[32m   1021\u001b[39m     )\n\u001b[32m   1023\u001b[39m \u001b[38;5;28;01mif\u001b[39;00m http_error_msg:\n\u001b[32m-> \u001b[39m\u001b[32m1024\u001b[39m     \u001b[38;5;28;01mraise\u001b[39;00m HTTPError(http_error_msg, response=\u001b[38;5;28mself\u001b[39m)\n",
      "\u001b[31mHTTPError\u001b[39m: 429 Client Error: Too Many Requests for url: https://www.google.com/sorry/index?continue=https://www.google.com/search%3Fq%3DIslamic%2Betiquette%2Band%2Bgreetings%26num%3D10%26hl%3Den%26start%3D0%26safe%3Dactive&hl=en&q=EgR2s9MBGKGexcEGIjDykCPlc1SkG6jwTVkIWZXByl20SToEyHh0xynxROZlx0B7REtmrgGd_azr-ZVDQo8yAnJSWgFD"
     ]
    }
   ],
   "source": [
    "def get_search_results(queries, num_results=8):\n",
    "    urls = set()\n",
    "    for query in queries:\n",
    "        for url in search(query, num_results=num_results):\n",
    "            urls.add(url)\n",
    "            time.sleep(2)  # Respectful delay between requests\n",
    "    return list(urls)\n",
    "\n",
    "urls = get_search_results(queries)\n",
    "with open(\"urls_list.txt\", \"w\", encoding=\"utf-8\") as file:\n",
    "    for url in urls:\n",
    "        file.write(url + \"\\n\")\n",
    "\n",
    "print(\"URLs saved to 'urls_list.txt'\")"
   ]
  },
  {
   "cell_type": "code",
   "execution_count": null,
   "metadata": {},
   "outputs": [
    {
     "name": "stdout",
     "output_type": "stream",
     "text": [
      "Unique URLs (33):\n",
      "https://nooracademy.com/islamic-manners-and-etiquette/\n",
      "https://resala-academy.com/etiquettes-of-islam/\n",
      "https://myislamicdua.com/knowledgebase/common-islamic-greetings-phrases/\n",
      "https://www.themostgracious.com/books/Etiquettes%20of%20Life%20in%20Islam%20(www.themostgracious.com).pdf\n",
      "https://myislam.org/islamic-phrases-for-everyday-use/\n",
      "https://kalimah-center.com/arabic-greeting-words/\n",
      "https://messageinternational.org/five-islamic-manners-that-have-enhanced-my-life/\n",
      "https://al-islam.org/islamic-teachings-book-2/social-etiquette\n",
      "https://hubeali.com/article/greeting-etiquettes-in-islam/\n",
      "https://scholar.google.com/scholar?q=Islamic+social+behavior+and+etiquette&hl=en&as_sdt=0&as_vis=1&oi=scholart\n",
      "https://blog.une.edu.au/new-england-muslims/2019/11/14/the-75-good-manners-commandments-in-the-quran/comment-page-1/\n",
      "https://www.islamicity.org/5691/the-dignity-of-islams-social-etiquette-2/\n",
      "https://islamqa.info/en/categories/topics/227/manners-of-greeting-with-salam\n",
      "https://islamicstudies.uok.edu.in/Files/36892408-1fed-4431-9848-0761b9e02587/Journal/20a4b854-b0ab-4171-945b-7948d4497545.pdf\n",
      "https://www.talibeilm.net/uploads/4/7/1/3/4713847/islamic_manners_shaykh_abdul_fattah_abu_ghuddah.pdf\n",
      "https://islameasy.org/islamic-manners-and-etiquettes\n",
      "https://hikmahboutique.com.au/blogs/useful-articles/100-islamic-manners-and-etiquettes?srsltid=AfmBOopkBNmBs16xIQByGCZ6rU5YTKP8EVtLHcjRygz75cHuXDqJlfu7\n",
      "https://hibamagazine.com/islamic-social-etiquette/\n",
      "https://deenislam24.wordpress.com/2010/10/05/the-islamic-greeting-and-it%E2%80%99s-etiquette/\n",
      "https://www.wikihow.com/Greet-in-Islam\n",
      "https://www.islamic-relief.org.uk/resources/knowledge-base/islamic-phrases/\n",
      "https://preply.com/en/blog/arabic-greetings/\n",
      "https://iqranetwork.com/blog/the-beauty-of-muslim-greetings-a-gateway-to-connection-and-blessings/\n",
      "https://www.dawateislami.net/magazine/en/bright-teachings-of-islam/social-etiquettes\n",
      "https://free-islamic-course.org/stageone/stageone-module-3/islamic-manners-eqituettes.html\n",
      "https://www.altaregional.org/sites/main/files/file-attachments/uie_aw._islamic_etiquette_training.ppt_embedded.pdf?1597350315\n",
      "https://www.google.com/search?safe=active\n",
      "https://www.iium.edu.my/deed/hadith/muslim/026_smt.html\n",
      "https://iqraonline.com/what-are-the-manners-and-etiquette-in-islam/\n",
      "https://hikmahboutique.com.au/blogs/useful-articles/100-islamic-manners-and-etiquettes?srsltid=AfmBOoqwB80r82n-tx9Fe7t7oXwWyLpTFFyb8Ok3quTdt4VyJtcBBm6r\n",
      "https://fajrnoor.com/blogs/fajrnoor/100-islamic-etiquettes?srsltid=AfmBOorIqjnHBP8YJEKlMDdNtdgm6czEYac5OvZst9SMWDckLMQGSuDv\n",
      "https://al-islam.org/simplified-islamic-laws-young-adults-lutfullah-safi-golpaygani/rules-greeting-one-another\n",
      "https://dergipark.org.tr/en/download/article-file/184579\n"
     ]
    }
   ],
   "source": [
    "unique_urls = list(set(urls))\n",
    "\n",
    "# Print the unique URLs and their count\n",
    "print(f\"Unique URLs ({len(unique_urls)}):\")\n",
    "for unique_url in unique_urls:\n",
    "    print(unique_url)"
   ]
  },
  {
   "cell_type": "code",
   "execution_count": null,
   "metadata": {},
   "outputs": [
    {
     "name": "stdout",
     "output_type": "stream",
     "text": [
      "Error processing https://myislam.org/islamic-phrases-for-everyday-use/: Article `download()` failed with 403 Client Error: Forbidden for url: https://myislam.org/islamic-phrases-for-everyday-use/ on URL https://myislam.org/islamic-phrases-for-everyday-use/\n",
      "Error processing https://messageinternational.org/five-islamic-manners-that-have-enhanced-my-life/: Article `download()` failed with HTTPSConnectionPool(host='messageinternational.org', port=443): Max retries exceeded with url: /five-islamic-manners-that-have-enhanced-my-life/ (Caused by NameResolutionError(\"<urllib3.connection.HTTPSConnection object at 0x796b0e5459a0>: Failed to resolve 'messageinternational.org' ([Errno -3] Temporary failure in name resolution)\")) on URL https://messageinternational.org/five-islamic-manners-that-have-enhanced-my-life/\n",
      "Error processing https://al-islam.org/islamic-teachings-book-2/social-etiquette: Article `download()` failed with 403 Client Error: Forbidden for url: https://al-islam.org/islamic-teachings-book-2/social-etiquette on URL https://al-islam.org/islamic-teachings-book-2/social-etiquette\n",
      "Error processing https://islamicstudies.uok.edu.in/Files/36892408-1fed-4431-9848-0761b9e02587/Journal/20a4b854-b0ab-4171-945b-7948d4497545.pdf: Article `download()` failed with 403 Client Error: Forbidden for url: https://islamicstudies.uok.edu.in/Files/36892408-1fed-4431-9848-0761b9e02587/Journal/20a4b854-b0ab-4171-945b-7948d4497545.pdf on URL https://islamicstudies.uok.edu.in/Files/36892408-1fed-4431-9848-0761b9e02587/Journal/20a4b854-b0ab-4171-945b-7948d4497545.pdf\n",
      "Error processing https://islameasy.org/islamic-manners-and-etiquettes: Article `download()` failed with 403 Client Error: Forbidden for url: https://islameasy.org/islamic-manners-and-etiquettes on URL https://islameasy.org/islamic-manners-and-etiquettes\n",
      "Error processing https://www.islamic-relief.org.uk/resources/knowledge-base/islamic-phrases/: Article `download()` failed with 403 Client Error: Forbidden for url: https://www.islamic-relief.org.uk/resources/knowledge-base/islamic-phrases/ on URL https://www.islamic-relief.org.uk/resources/knowledge-base/islamic-phrases/\n",
      "Error processing https://www.dawateislami.net/magazine/en/bright-teachings-of-islam/social-etiquettes: Article `download()` failed with 403 Client Error: Forbidden for url: https://www.dawateislami.net/magazine/en/bright-teachings-of-islam/social-etiquettes on URL https://www.dawateislami.net/magazine/en/bright-teachings-of-islam/social-etiquettes\n",
      "Error processing https://iqraonline.com/what-are-the-manners-and-etiquette-in-islam/: Article `download()` failed with HTTPSConnectionPool(host='iqraonline.com', port=443): Read timed out. (read timeout=7) on URL https://iqraonline.com/what-are-the-manners-and-etiquette-in-islam/\n",
      "Error processing https://al-islam.org/simplified-islamic-laws-young-adults-lutfullah-safi-golpaygani/rules-greeting-one-another: Article `download()` failed with 403 Client Error: Forbidden for url: https://al-islam.org/simplified-islamic-laws-young-adults-lutfullah-safi-golpaygani/rules-greeting-one-another on URL https://al-islam.org/simplified-islamic-laws-young-adults-lutfullah-safi-golpaygani/rules-greeting-one-another\n",
      "Error processing https://free-islamic-course.org/stageone/stageone-module-3/islamic-manners-eqituettes.html: Article `download()` failed with HTTPSConnectionPool(host='free-islamic-course.org', port=443): Read timed out. (read timeout=7) on URL https://free-islamic-course.org/stageone/stageone-module-3/islamic-manners-eqituettes.html\n"
     ]
    }
   ],
   "source": [
    "def scrape_articles(urls):\n",
    "    articles = []\n",
    "    for url in urls:\n",
    "        try:\n",
    "            article = Article(url)\n",
    "            article.download()\n",
    "            article.parse()\n",
    "            if article.text.strip():\n",
    "                articles.append({\n",
    "                    \"url\": url,\n",
    "                    \"title\": article.title,\n",
    "                    \"text\": article.text\n",
    "                })\n",
    "        except Exception as e:\n",
    "            print(f\"Error processing {url}: {e}\")\n",
    "        time.sleep(1)  # Respectful delay between requests\n",
    "    return articles\n",
    "\n",
    "knowledge_base = scrape_articles(urls)"
   ]
  },
  {
   "cell_type": "code",
   "execution_count": null,
   "metadata": {},
   "outputs": [
    {
     "name": "stdout",
     "output_type": "stream",
     "text": [
      "Knowledge base saved to 'islamic_etiquette_knowledge_base.json'\n"
     ]
    }
   ],
   "source": [
    "with open(\"islamic_etiquette_knowledge_base.json\", \"w\", encoding=\"utf-8\") as f:\n",
    "    json.dump(knowledge_base, f, ensure_ascii=False, indent=4)\n",
    "\n",
    "print(\"Knowledge base saved to 'islamic_etiquette_knowledge_base.json'\")"
   ]
  },
  {
   "cell_type": "code",
   "execution_count": 10,
   "metadata": {},
   "outputs": [
    {
     "data": {
      "text/plain": [
       "['https://gtaf.org/blog/explore-by-topic-in-quran-app/?fbclid=IwY2xjawL0bHxleHRuA2FlbQIxMABicmlkETFmSGVJS3hCRDlCMU5zNUhqAR4oaAxZ-_-1W9pdsQWXvY5qQYbtz6Ti2-byIf6H_WMBG2dXZ-SpAWfi-xsuIQ_aem_CgtPkPGc61w3zh6gIBFt1Q',\n",
       " 'https://gtaf.org/blog/build-a-daily-quran-reading-habit/?fbclid=IwY2xjawL0bH5leHRuA2FlbQIxMABicmlkETFmSGVJS3hCRDlCMU5zNUhqAR7Wk_cGnaE0T7xYf4Bt3J_qwdNB5HZ81kPrCTjeA_24fVI8SxhivQv30xdTJw_aem_NXINU7Tq84Pl8Qxhvx-9TA',\n",
       " 'https://gtaf.org/blog/translations-tafsir-wbw-translations-in-quran-app/?fbclid=IwY2xjawL0bIBleHRuA2FlbQIxMABicmlkETFmSGVJS3hCRDlCMU5zNUhqAR7Wk_cGnaE0T7xYf4Bt3J_qwdNB5HZ81kPrCTjeA_24fVI8SxhivQv30xdTJw_aem_NXINU7Tq84Pl8Qxhvx-9TA',\n",
       " 'https://gtaf.org/blog/search-option-in-quran-app/?fbclid=IwY2xjawL0bIJleHRuA2FlbQIxMABicmlkETFmSGVJS3hCRDlCMU5zNUhqAR7nLIJEj0oMqn073aQlqYn2PNe5XmAIqD1abGPapvnOE0qxxRS7wulIb7JGIg_aem_8JhZJyueZ1bw6-qnBZydmA',\n",
       " 'https://gtaf.org/blog/deepen-your-quran-understanding-with-the-quran-app/?fbclid=IwY2xjawL0bIRleHRuA2FlbQIxMABicmlkETFmSGVJS3hCRDlCMU5zNUhqAR5ffYiaJmb1rbP-by5uV52ThZdpcJaDftQthcnhQ7Pmh73_Q_uvTCaAmfyxSQ_aem_gCDUN_1FaFrEInvpvy-h5w',\n",
       " 'https://gtaf.org/blog/audio-feature-in-quran-app/?fbclid=IwY2xjawL0bIZleHRuA2FlbQIxMABicmlkETFmSGVJS3hCRDlCMU5zNUhqAR4aYJYn7ftHGkfYQbTiZDuaCaRNOz1AspTU0loZZgmK3EcN74sWyhMeXLNOhw_aem_oNi9qtfPwjVOyVVq36IE3g',\n",
       " 'https://gtaf.org/blog/library-bookmarks-notes-in-quran-app/?fbclid=IwY2xjawL0bItleHRuA2FlbQIxMABicmlkETFmSGVJS3hCRDlCMU5zNUhqAR7nLIJEj0oMqn073aQlqYn2PNe5XmAIqD1abGPapvnOE0qxxRS7wulIb7JGIg_aem_8JhZJyueZ1bw6-qnBZydmA',\n",
       " 'https://gtaf.org/blog/planner-feature-in-quran-app/?fbclid=IwY2xjawL0bIxleHRuA2FlbQIxMABicmlkETFmSGVJS3hCRDlCMU5zNUhqAR5qbQoNUXlMpzbxIshcw3YRhMhM0UKRfkfXXEzFxsoyxt-y1b-jJeylEILGQQ_aem_P6GPwvd1bq_B3fTNbMNSUg',\n",
       " 'https://gtaf.org/blog/mushaf-mode-in-quran-app/?fbclid=IwY2xjawL0bI9leHRuA2FlbQIxMABicmlkETFmSGVJS3hCRDlCMU5zNUhqAR7nLIJEj0oMqn073aQlqYn2PNe5XmAIqD1abGPapvnOE0qxxRS7wulIb7JGIg_aem_8JhZJyueZ1bw6-qnBZydmA',\n",
       " 'https://gtaf.org/blog/tajweed-colour-code-in-quran-app/?fbclid=IwY2xjawL0bJBleHRuA2FlbQIxMABicmlkETFmSGVJS3hCRDlCMU5zNUhqAR40Z0Cq3t0w2BuSTMPSOPA1DCnLNUuD9K7SbQZqBthb8unQTn5AV1xm5q21fg_aem_oOtlXEcIMi1b-HJRtQmLRw']"
      ]
     },
     "execution_count": 10,
     "metadata": {},
     "output_type": "execute_result"
    }
   ],
   "source": [
    "urls = [\n",
    "    \"https://gtaf.org/blog/explore-by-topic-in-quran-app/?fbclid=IwY2xjawL0bHxleHRuA2FlbQIxMABicmlkETFmSGVJS3hCRDlCMU5zNUhqAR4oaAxZ-_-1W9pdsQWXvY5qQYbtz6Ti2-byIf6H_WMBG2dXZ-SpAWfi-xsuIQ_aem_CgtPkPGc61w3zh6gIBFt1Q\",\n",
    "    \"https://gtaf.org/blog/build-a-daily-quran-reading-habit/?fbclid=IwY2xjawL0bH5leHRuA2FlbQIxMABicmlkETFmSGVJS3hCRDlCMU5zNUhqAR7Wk_cGnaE0T7xYf4Bt3J_qwdNB5HZ81kPrCTjeA_24fVI8SxhivQv30xdTJw_aem_NXINU7Tq84Pl8Qxhvx-9TA\",\n",
    "    \"https://gtaf.org/blog/translations-tafsir-wbw-translations-in-quran-app/?fbclid=IwY2xjawL0bIBleHRuA2FlbQIxMABicmlkETFmSGVJS3hCRDlCMU5zNUhqAR7Wk_cGnaE0T7xYf4Bt3J_qwdNB5HZ81kPrCTjeA_24fVI8SxhivQv30xdTJw_aem_NXINU7Tq84Pl8Qxhvx-9TA\",\n",
    "    \"https://gtaf.org/blog/search-option-in-quran-app/?fbclid=IwY2xjawL0bIJleHRuA2FlbQIxMABicmlkETFmSGVJS3hCRDlCMU5zNUhqAR7nLIJEj0oMqn073aQlqYn2PNe5XmAIqD1abGPapvnOE0qxxRS7wulIb7JGIg_aem_8JhZJyueZ1bw6-qnBZydmA\",\n",
    "    \"https://gtaf.org/blog/deepen-your-quran-understanding-with-the-quran-app/?fbclid=IwY2xjawL0bIRleHRuA2FlbQIxMABicmlkETFmSGVJS3hCRDlCMU5zNUhqAR5ffYiaJmb1rbP-by5uV52ThZdpcJaDftQthcnhQ7Pmh73_Q_uvTCaAmfyxSQ_aem_gCDUN_1FaFrEInvpvy-h5w\",\n",
    "    \"https://gtaf.org/blog/audio-feature-in-quran-app/?fbclid=IwY2xjawL0bIZleHRuA2FlbQIxMABicmlkETFmSGVJS3hCRDlCMU5zNUhqAR4aYJYn7ftHGkfYQbTiZDuaCaRNOz1AspTU0loZZgmK3EcN74sWyhMeXLNOhw_aem_oNi9qtfPwjVOyVVq36IE3g\",\n",
    "    \"https://gtaf.org/blog/library-bookmarks-notes-in-quran-app/?fbclid=IwY2xjawL0bItleHRuA2FlbQIxMABicmlkETFmSGVJS3hCRDlCMU5zNUhqAR7nLIJEj0oMqn073aQlqYn2PNe5XmAIqD1abGPapvnOE0qxxRS7wulIb7JGIg_aem_8JhZJyueZ1bw6-qnBZydmA\",\n",
    "    \"https://gtaf.org/blog/planner-feature-in-quran-app/?fbclid=IwY2xjawL0bIxleHRuA2FlbQIxMABicmlkETFmSGVJS3hCRDlCMU5zNUhqAR5qbQoNUXlMpzbxIshcw3YRhMhM0UKRfkfXXEzFxsoyxt-y1b-jJeylEILGQQ_aem_P6GPwvd1bq_B3fTNbMNSUg\",\n",
    "    \"https://gtaf.org/blog/mushaf-mode-in-quran-app/?fbclid=IwY2xjawL0bI9leHRuA2FlbQIxMABicmlkETFmSGVJS3hCRDlCMU5zNUhqAR7nLIJEj0oMqn073aQlqYn2PNe5XmAIqD1abGPapvnOE0qxxRS7wulIb7JGIg_aem_8JhZJyueZ1bw6-qnBZydmA\",\n",
    "    \"https://gtaf.org/blog/tajweed-colour-code-in-quran-app/?fbclid=IwY2xjawL0bJBleHRuA2FlbQIxMABicmlkETFmSGVJS3hCRDlCMU5zNUhqAR40Z0Cq3t0w2BuSTMPSOPA1DCnLNUuD9K7SbQZqBthb8unQTn5AV1xm5q21fg_aem_oOtlXEcIMi1b-HJRtQmLRw\"\n",
    "]\n",
    "\n",
    "urls"
   ]
  },
  {
   "cell_type": "code",
   "execution_count": 19,
   "metadata": {},
   "outputs": [],
   "source": [
    "def scrape_articles(urls):\n",
    "    articles = []\n",
    "    for url in urls:\n",
    "        try:\n",
    "            article = Article(url)\n",
    "            article.download()\n",
    "            article.parse()\n",
    "            if article.text.strip():\n",
    "                articles.append({\n",
    "                    \"url\": url,\n",
    "                    \"title\": article.title,\n",
    "                    \"text\": article.text,\n",
    "                    # \"authors\": article.authors,\n",
    "                    # \"publish_date\": article.publish_date,\n",
    "                    # \"top_image\": article.top_image,\n",
    "                    # \"movies\": article.movies,\n",
    "                    # \"keywords\": article.keywords,\n",
    "                    # \"summary\": article.summary\n",
    "                })\n",
    "        except Exception as e:\n",
    "            print(f\"Error processing {url}: {e}\")\n",
    "        time.sleep(1)  # Respectful delay between requests\n",
    "    return articles\n",
    "\n"
   ]
  },
  {
   "cell_type": "code",
   "execution_count": 20,
   "metadata": {},
   "outputs": [
    {
     "data": {
      "text/plain": [
       "[{'url': 'https://gtaf.org/blog/explore-by-topic-in-quran-app/?fbclid=IwY2xjawL0bHxleHRuA2FlbQIxMABicmlkETFmSGVJS3hCRDlCMU5zNUhqAR4oaAxZ-_-1W9pdsQWXvY5qQYbtz6Ti2-byIf6H_WMBG2dXZ-SpAWfi-xsuIQ_aem_CgtPkPGc61w3zh6gIBFt1Q',\n",
       "  'title': 'Explore the Quran by topics – enhance your knowledge on a topic',\n",
       "  'text': 'Explore the Quran by topics – enhance your knowledge on a topic\\n\\nWant to know more about what the Quran says about “Etiquette of Honoring the Guests”? Or want to know what’s mentioned in the Quran about Riba (Interest)?\\n\\nExplore any topics and read the related ayahs together easily from the Al Quran app. This will enhance your knowledge on a particular topic in sha Allah!\\n\\nWe have 9 important topics broken down into 200+ topics and subtopics. Read the translation and explanations of the ayahs in great detail.\\n\\nGetting started\\n\\nOpen the menu drawer Tap the “Explore by Topic” to see the top level 9 topics Each topic is categorised into more sub-categories to help understand a specific topic better You can also click on the Search icon to see the entire topics list and find any particular topic\\n\\nHow to explore topics in your language?\\n\\nAlhamdulillah, we’ve translated the topics into Arabic, Bangla, German, Indonesian, Filipino, Turkish, and Urdu.\\n\\nTo explore the topics in your language:\\n\\nGo to Settings and change the Language Then go back and open “Explore by Topic” from the menu drawer Swipe down to refresh and start exploring the topics in your preferred language\\n\\nYou can watch the video to understand the process better.\\n\\nWe plan to add more languages in the coming months, in sha Allah.\\n\\nConclusion\\n\\nStart exploring the topics in the Al Quran (Tafsir & by Word) app today. Looking for guidance on daily life or want to learn more about a particular topic? This helps you find all the relevant ayahs in one place, making it easier to understand what the Quran teaches.\\n\\nDid you find this guide useful? Help us improve by sharing your quick feedback here.'},\n",
       " {'url': 'https://gtaf.org/blog/build-a-daily-quran-reading-habit/?fbclid=IwY2xjawL0bH5leHRuA2FlbQIxMABicmlkETFmSGVJS3hCRDlCMU5zNUhqAR7Wk_cGnaE0T7xYf4Bt3J_qwdNB5HZ81kPrCTjeA_24fVI8SxhivQv30xdTJw_aem_NXINU7Tq84Pl8Qxhvx-9TA',\n",
       "  'title': 'Build a daily Quran reading habit ♥️',\n",
       "  'text': 'Build a daily Quran reading habit ♥️\\n\\nDaily Quran reading is key to developing a deeper connection with the Quran. Whether you read one ayah or several pages, consistency helps you build a lasting connection with Allah’s words.\\n\\nOur new Stats, Streaks, and Badges features make this journey more rewarding and motivational.\\n\\nTrack your daily progress\\n\\nDaily reading goal\\n\\nSet a daily reading target that fits your schedule. Whether it’s 1 minute or 60 minutes, you can start small and grow gradually.\\n\\nWe plan to introduce personalized goals that adjust to your reading patterns and help you progress naturally in the future, in sha Allah.\\n\\nStreak milestones\\n\\nStreak tracks the number of days in a row you’ve read the Quran in the app. It’s designed to motivate reading the Quran daily. Each day of reading builds your streak, helping you stay consistent.\\n\\nMilestones to build your habit:\\n\\n3 days : Getting started\\n\\n: Getting started 7 days : Completing your first week\\n\\n: Completing your first week 30 days : One month strong!\\n\\n: One month strong! Keep going: Unlock new milestones every 15 days (e.g., 45, 60, 75 days)\\n\\nTarget small milestones and gradually establish your habit of reading the Quran daily. We can’t wait to see you reach that 30-day streak and beyond!\\n\\nThe following video demonstrates the streak milestones feature.\\n\\nBadges and Achievements\\n\\nEarn badges for completing milestones or exploring app features. Celebrate your progress and stay motivated!\\n\\nMilestone Badges : Earn badges for 7-day, 14-day, 30-day, and 100-day streaks\\n\\n: Earn badges for 7-day, 14-day, 30-day, and 100-day streaks Explorer Badges: Unlock achievements like the Search Explorer (complete 20 searches) or Audio Explorer (listen to 20 recitations).\\n\\nMore badges coming soon to celebrate your Quran journey!\\n\\nThe following video demonstrates the badges feature.\\n\\nWeekly stats\\n\\nVisualise how much time you’ve spent reading the Quran with a daily breakdown for the current week. Identify your most productive days and aim to improve.\\n\\nLifetime stats\\n\\nSee your total ayah read, time spent and best streak. Reflecting on these stats inspires you to keep going.\\n\\nNote: Lifetime stats are tracked for logged-in users only. Sign in to save your lifetime stats and never lose your progress.\\n\\nStreak widget (coming soon)\\n\\nA simple widget to keep your streak visible and remind you to maintain it.\\n\\nWhy do these features matter?\\n\\nOur goal is simple: help you build a stronger connection with the Quran. These features encourage daily reading and help you stay consistent. While also motivating you to explore the Quran deeply.\\n\\nVisit the Profile section in the Al Quran (Tafsir & by Word) app to explore these features. Check your streaks, reach milestones, review weekly activity, and unlock achievements!\\n\\nReady to begin? Start building your Quran habit today.\\n\\nDid you find this guide useful? Help us improve by sharing your quick feedback here.'},\n",
       " {'url': 'https://gtaf.org/blog/translations-tafsir-wbw-translations-in-quran-app/?fbclid=IwY2xjawL0bIBleHRuA2FlbQIxMABicmlkETFmSGVJS3hCRDlCMU5zNUhqAR7Wk_cGnaE0T7xYf4Bt3J_qwdNB5HZ81kPrCTjeA_24fVI8SxhivQv30xdTJw_aem_NXINU7Tq84Pl8Qxhvx-9TA',\n",
       "  'title': 'Understand the Quran in your language: Translations, Tafsirs, Word by word translation',\n",
       "  'text': 'Understand the Quran in your language: Translations, Tafsirs, Word by word translation\\n\\nAre you looking for ways to deepen your connection with the Quran?\\n\\nAl Quran (Tafsir & by Word) app makes it easy to understand the Quran in your language with reliable translations and tafsirs. With word-by-word translations and recitations, you can connect with every ayah on a deeper level.\\n\\nStart your journey today and feel the words of the Quran come alive.\\n\\nWord by word analysis & translations\\n\\nMultiple languages: Explore word-by-word translations in Bangla, Chinese, English, French, German, Hindi, Indonesian, Ingush, Malay, Russian, Tamil, Turkish, Urdu, and more. Arabic grammar insights: Dive deeper with root/lemma information, grammar details, and verb forms to improve your understanding of Arabic and expand your vocabulary, in sha Allah.\\n\\nSeveral translations and tafsirs\\n\\n90+ Translations and Tafsirs: Access translations and tafsirs in over 60 languages, including Bangla, Chinese, English, French, German, Hindi, Indonesian, Italian, Malay, Russian, Spanish, Urdu, and many more. 8 Arabic Tafsirs: Read Tafsir Ibn Kathir, Tafsir Tabari, and other classical Arabic tafsirs alongside additional resources like E‘rab (morphology), Gharib (uncommon word meanings), and Asbabun Nuzool (reasons for revelation).\\n\\nWhich translation should you start with?\\n\\nIf you’re just beginning, the default translation is an excellent choice. Feel free to explore other translations in the app’s settings to find one that resonates with you.\\n\\nWhich tafsir should you start with?\\n\\nThe books of tafsir are many, all praise be to Allah. However, these books of Tafsir vary – amongst them are those that are long and in-depth and those that are short and abridged, as well as those that are free from errors and those that contain errors.\\n\\nFor general readers: Start with Tafsir Ibn Kathir for a comprehensive and detailed explanation of the Quran. It is the greatest of tafsirs and the one that uses the best way and method for interpreting the Quran. Alhamdulillah, we have Tafsir Ibn Kathir in Arabic, Bangla, English, French, Urdu, etc. languages.\\n\\nStart with Tafsir Ibn Kathir for a comprehensive and detailed explanation of the Quran. It is the greatest of tafsirs and the one that uses the best way and method for interpreting the Quran. Alhamdulillah, we have Tafsir Ibn Kathir in Arabic, Bangla, English, French, Urdu, etc. languages. For a shorter tafsir: Begin with Tafsir As-Sa’di for a concise and accessible tafsir. It’s available in 7 languages currently.\\n\\nBegin with Tafsir As-Sa’di for a concise and accessible tafsir. It’s available in 7 languages currently. For students of knowledge: Explore our collection of 7+ Arabic tafsirs, including Tafsir Tabari and Tafsir Baghawi. You can study and compare different tafsirs to dive even deeper. Additional tools like E3rab and Gharib can help your studies, in sha Allah.\\n\\nChoose your preferred ones from the settings.\\n\\nHow to read tafsirs in the Quran app?\\n\\nThere are multiple ways you can read Tafsirs in the Quran app. Access tafsirs easily by:\\n\\nClicking the tafsir icon below any ayah to go to focused tafsir reading mode\\n\\nbelow any ayah to go to focused tafsir reading mode Using the three-dot menu and selecting “Tafsir/note view”\\n\\nConclusion\\n\\nAlhamdulillah, Al Quran (Tafsir & by Word) app provides access to a vast library of tafsirs and translations in various languages, and we hope to add even more reliable resources in the future.\\n\\nStart your journey to a deeper understanding of the Quran today. Bismillah – start now with Surah Al-Fatiha\\n\\nDid you find this guide useful? Help us improve by sharing your quick feedback here.\\n\\nReferences:'},\n",
       " {'url': 'https://gtaf.org/blog/search-option-in-quran-app/?fbclid=IwY2xjawL0bIJleHRuA2FlbQIxMABicmlkETFmSGVJS3hCRDlCMU5zNUhqAR7nLIJEj0oMqn073aQlqYn2PNe5XmAIqD1abGPapvnOE0qxxRS7wulIb7JGIg_aem_8JhZJyueZ1bw6-qnBZydmA',\n",
       "  'title': 'Search – Find just the ayah or topic you’re looking for',\n",
       "  'text': 'Search – Find just the ayah or topic you’re looking for\\n\\nLooking for a specific ayah or topic in the Quran? Find exactly what you’re looking for using the search in the Al Quran (Tafsir & by Word) app.\\n\\nSearch through surah names, Arabic ayahs, translations, and tafsirs all in one place.\\n\\nWays to search\\n\\nQuick surah access\\n\\nSimply type a surah name to open it instantly. Our search understands minor spelling variations, making it easy to find what you need.\\n\\nJump to specific ayah\\n\\nUse simple notation like “2:255” to go to any ayah quickly.\\n\\nSearch Translations and Tafsirs\\n\\nWant to learn what the Quran says about paradise? Search “paradise” and see the ayahs that mentioned “paradise” in the translations or tafsirs.\\n\\nFilter results by specific translations or tafsirs to show results only from that source.\\n\\nExplore Quranic Topics\\n\\nExplore our organized collection of Quranic topics. Find ayahs related to specific themes and teachings.\\n\\nAccess this from the “Explore by Topics” option in the menu drawer.\\n\\nWord Analysis Search\\n\\nYou can also see the occurrences of Arabic words, lemma, roots across the Quran.\\n\\nTo see word/root/lemma occurrences, first tap on a word. Then tap on the lemma/root/word portion as you prefer.\\n\\nVoice search (experimental on android)\\n\\nVoice search is also available on android experimentally. However, we observed a few bugs in the Arabic search. We will work on improving the Arabic search in the coming months, in sha Allah.\\n\\nConclusion\\n\\nStart searching now in the Al Quran (Tafsir & by Word) app.\\n\\nDid you find this guide useful? Help us improve by sharing your quick feedback here.'},\n",
       " {'url': 'https://gtaf.org/blog/deepen-your-quran-understanding-with-the-quran-app/?fbclid=IwY2xjawL0bIRleHRuA2FlbQIxMABicmlkETFmSGVJS3hCRDlCMU5zNUhqAR5ffYiaJmb1rbP-by5uV52ThZdpcJaDftQthcnhQ7Pmh73_Q_uvTCaAmfyxSQ_aem_gCDUN_1FaFrEInvpvy-h5w',\n",
       "  'title': 'Deepening Quran Understanding: Tools for Students of Knowledge and Arabic Learners',\n",
       "  'text': 'Deepening Quran Understanding: Tools for Students of Knowledge and Arabic Learners\\n\\nDeepen your understanding of the Quran through our comprehensive Arabic analysis tools.\\n\\nWhether you’re a beginner in Arabic or an advanced student of knowledge, our Quran app offers tools that make learning Arabic easier and more meaningful.\\n\\nLet’s look at how features like e3rab (morphology), gharib (uncommon Arabic word meanings), word root, lemma, grammar details, verb forms, word occurrences can help you.\\n\\nE3rab (Morphology)\\n\\nE3rab explains the grammatical structure of each word in the Quran. It helps you:\\n\\nUnderstand how words fit into an ayah\\n\\nSee how grammar changes the meaning of ayahs\\n\\nImprove your knowledge of Quranic Arabic grammar for deeper studies\\n\\nFor example, when you read Surah Al-Fatiha, you’ll see why “الحمد” and “لله” are written this way and how they connect.\\n\\nTo study E3rab, go to Settings > Tafsirs. You can download the E3rab by Qasim Hamidan Da’s from the list and start studying.\\n\\nGharib (Uncommon Arabic Word Meanings)\\n\\nThe Quran has words that are not often used in modern Arabic. The Gharib tool helps you:\\n\\nLearn the meanings of uncommon words\\n\\nUnderstand their context in Quranic ayahs\\n\\nBuild your vocabulary for classical and modern Arabic\\n\\nYou can download Gharib from the Tafsirs list. Currently, we have 2 Arabic word meanings.\\n\\nWord Lemma and Root\\n\\nRoots and lemmas are key to understanding Arabic. Our app highlights:\\n\\nLemma: See the base form of words to understand patterns and variations\\n\\nRoots: Learn the core meaning of words by studying their roots\\n\\nMost Arabic words come from three or four letter roots. This helps you see how words are connected, learn word families faster and spot patterns across the Quran.\\n\\nFor example, the words “book” (كتاب), “library” (مكتبة), and “writer” (كاتب) all come from ك-ت-ب. Once you know this, you’ll start seeing these patterns everywhere!\\n\\nYou can easily see the word lemma and root by tapping on a word in the app.\\n\\nWord occurrences in various forms and Quran Dictionary\\n\\nTracking how words appear in different forms in different places helps you:\\n\\nFind every instance of a word in the Quran and track word frequencies\\n\\nRemember words better by recognizing patterns\\n\\nStudy how the same word is used in different contexts\\n\\nBuild deeper understanding through cross-referencing\\n\\nAppreciate the beauty and consistency of the Quran\\n\\nFor example, the root ك-ت-ب was found 319 times in 7 derived forms (lemma) across the Quran. While one of the 7 lemmas كاتب was found 6 times.\\n\\nAfter tapping on a word, tap on “Click for more” to see the word occurrences.\\n\\nOur Quran dictionary organizes words by their root letters. You can browse the words by Arabic alphabet and roots to see all the derivatives for each root. Access the dictionary by clicking on menu drawer > dictionary.\\n\\nGrammar details\\n\\nGrammar for each word is labelled in the app. Grammar details make it easier to:\\n\\nSpot parts of speech like nouns, verbs, and adjectives\\n\\nUnderstand how the ayahs are formed\\n\\nVerb forms and conjugation\\n\\nVerbs are essential in Arabic. When you come across a verb, you can open it to see the verb forms and conjugation. It can help you:\\n\\nLearn verb forms like perfect, imperfect, imperative, active/passive participles and noun form\\n\\nUnderstand how verbs change with tense and case\\n\\nApply this knowledge to Quranic and modern Arabic\\n\\nCheck this article to learn more\\n\\nPractical Applications\\n\\nIdentify unfamiliar words using Gharib\\n\\nAnalyze grammatical structure with E3rab\\n\\nStudy word lemmas, roots and their relationships\\n\\nExplore similar usage across the Quran\\n\\nReview verb conjugations when encountered\\n\\nConclusion\\n\\nWhether you are starting out learning Arabic or already an advanced student, these tools make learning Quranic Arabic easier and more effective. Try them in the Al Quran (Tafsir & by Word) app and take your learning to the next level connecting more deeply with the Quran.\\n\\nDid you find this guide useful? Help us improve by sharing your quick feedback here.'},\n",
       " {'url': 'https://gtaf.org/blog/audio-feature-in-quran-app/?fbclid=IwY2xjawL0bIZleHRuA2FlbQIxMABicmlkETFmSGVJS3hCRDlCMU5zNUhqAR4aYJYn7ftHGkfYQbTiZDuaCaRNOz1AspTU0loZZgmK3EcN74sWyhMeXLNOhw_aem_oNi9qtfPwjVOyVVq36IE3g',\n",
       "  'title': 'Audio – Listen to the Quran to memorise and recharge your soul',\n",
       "  'text': 'Audio – Listen to the Quran to memorise and recharge your soul\\n\\nRecharge your soul and iman by listening to beautiful Quran recitations. Whether you’re memorizing, learning tajweed, or seeking comfort, our audio features support your journey.\\n\\nOverview\\n\\nOver 50 renowned reciters with user-friendly controls\\n\\nDownload audio for offline listening or stream to save storage space\\n\\nUse the repeat option to assist with Quran memorization (Hifz)\\n\\nAudio translations in English, Bangla, and Urdu to aid understanding by listening. More translations are planned, in sha Allah.\\n\\nRich collection of reciters\\n\\nChoose from over 50 renowned reciters including Mishary Al Afasy, Husary (Muallim), Ayman Suwaid, Abdur Rahman As-Sudais, Abdul Basit, Minshawi and many others.\\n\\nFor improving recitation and tajweed: Try Ayman Suwaid or Husary (Muallim).\\n\\nPrefer faster recitation? Listen to Yasser Salama Hadr.\\n\\nWe have a few audio translations also to help you understand the Quran by listening.\\n\\nQuick start guide\\n\\nOpen any Surah. Tap the play icon below any ayah to play that ayah To play a range of ayahs or the entire surah, tap the play audio button at the bottom. Choose the start and end ayah range. Change reciters or audio translations from the reciters list. Use repeat options to listen to ayahs multiple times. Perfect for memorization practice. Download audio for offline listening or stream to save storage. You can switch to streaming mode from the advanced options. This won’t require downloading the audio to listen. Adjust the playback speed to match your pace from advanced options.\\n\\nPro tip: Recitation modes\\n\\nSingle: One reciter at a time — ideal for most users. Multiple: Select up to 3 reciters to play sequentially, such as Arabic followed by a translation.\\n\\nSelect your preferred mode from the reciters list. By default, single recitation mode is selected.\\n\\nConclusion\\n\\nStart listening to your favourite reciter now on the Al Quran (Tafsir & by Word) app.\\n\\nDid you find this guide useful? Help us improve by sharing your quick feedback here.'},\n",
       " {'url': 'https://gtaf.org/blog/library-bookmarks-notes-in-quran-app/?fbclid=IwY2xjawL0bItleHRuA2FlbQIxMABicmlkETFmSGVJS3hCRDlCMU5zNUhqAR7nLIJEj0oMqn073aQlqYn2PNe5XmAIqD1abGPapvnOE0qxxRS7wulIb7JGIg_aem_8JhZJyueZ1bw6-qnBZydmA',\n",
       "  'title': 'Library – Study the Quran deeply with bookmarks and notes',\n",
       "  'text': 'Library – Study the Quran deeply with bookmarks and notes\\n\\nIntroduction to Library\\n\\nThe Library section is designed to help you engage deeply with the Quran by bookmarking ayahs, taking notes, and organizing your reflections.\\n\\nWhether you’re saving ayahs for study, tracking recitation progress, or jotting down your thoughts, the Library brings all your study tools together in one place.\\n\\nEasily access Collections, Pins, and Notes under their respective tabs in the Library section.\\n\\nCollections\\n\\nCollections are folders where you can save multiple ayahs together. They’re perfect for grouping related ayahs under topics like Salah or Zakat. Create as many collections as you need and save any number of ayahs in each one.\\n\\nPins\\n\\nPins are simple bookmarks that save one ayah at a time. When you save a new ayah to a pin, it replaces the previous one – making pins perfect for tracking your recitation progress. Give each pin a meaningful name, and update it with new ayahs as you progress.\\n\\nNotes\\n\\nAs you read and reflect on the Quran, write down your thoughts and insights using notes. You can take notes for any ayah, and they’re automatically organized by surah for easy access later.\\n\\nUsing the Library\\n\\nSave ayah to collections / pins\\n\\nSave ayah by simply tapping the bookmark icon below any ayah or using the three dots menu and selecting “Add bookmark”. From there, choose to save the ayah in an existing Collection or Pin folder, or create a new one.\\n\\nTake notes\\n\\nTo add notes, open the Tafsir reading view by tapping the Tafsir icon below any ayah. Then, select “Add Note” and write down your thoughts and reflections.\\n\\nAccess saved ayahs and notes\\n\\nAccess your saved ayahs and notes conveniently in the library. Find collections or pins easily by searching for their names. Tap a Collection to view all saved ayahs or tap a Pin to go directly to the saved ayah.\\n\\nNotes are organized by surah under the Notes section. Use the search to find specific notes by their content.\\n\\nInside a collection folder\\n\\nWhen you open a Collection folder, read the saved ayahs directly, or tap an ayah to navigate to its surah.\\n\\nSwitch between detailed view (with full ayah text) and compact view (references only) by tapping the toggle icon at the top. The compact view is ideal for quickly skimming references.\\n\\nOrganize with sorting options\\n\\nYou can sort your Collections, Pins, and ayahs inside collections in several ways. Sort them by name, date or custom order by using the drag-and-drop option. By default, it’s sorted by the date.\\n\\nEdit / Delete\\n\\nTap the three dots icon next to a collection or pin to edit names, change colour or delete the folder. Be careful with deleting a collection, as it will delete all the ayahs inside.\\n\\nSimilarly, you can remove ayahs from a collection by tapping the three dots icon beside an ayah when inside a collection.\\n\\nTo edit or delete a note, tap on a note to open the tafsir view and make changes, or tap and hold to see the delete option.\\n\\nKeep your data safe\\n\\nKeep your Library, Planner, and Stats data safe and accessible by syncing them online. This ensures you don’t lose your data when switching devices.\\n\\nYou can also export your library data as a backup or to share with others. Import collections from other users to benefit from their study organization.\\n\\nStart your journey\\n\\nThe Library section is here to help you build a deeper connection with the Quran.\\n\\nStart engaging with the Quran deeply today in the Al Quran (Tafsir & by Word) app. Create your first collection, save ayahs, and write down your reflections. As you continue reading, your personal library of Quranic knowledge will grow in sha Allah ♥️\\n\\nDid you find this guide useful? Help us improve by sharing your quick feedback here.'},\n",
       " {'url': 'https://gtaf.org/blog/planner-feature-in-quran-app/?fbclid=IwY2xjawL0bIxleHRuA2FlbQIxMABicmlkETFmSGVJS3hCRDlCMU5zNUhqAR5qbQoNUXlMpzbxIshcw3YRhMhM0UKRfkfXXEzFxsoyxt-y1b-jJeylEILGQQ_aem_P6GPwvd1bq_B3fTNbMNSUg',\n",
       "  'title': 'Planner – Complete the Quran on your schedule',\n",
       "  'text': 'Planner – Complete the Quran on your schedule\\n\\nWant to finish reading the Quran in a set time? Our Quran Planner helps you break down your reading into manageable daily sessions.\\n\\nWhether it’s throughout the year or during the blessed month of Ramadan, the Planner keeps you organized and motivated to reach your goal.\\n\\nSet Your Reading Goals\\n\\nChoose what works for you:\\n\\nRead the Quran in 29 days (ideal for Ramadan)\\n\\nComplete it in one year (about 2 pages daily)\\n\\nRead the Quran translation in 90 days to improve your understanding\\n\\nCreate your own custom schedule\\n\\nHow to start using the Quran Planner?\\n\\nCreate your plan: Go to the planner section and tap Add Planner to create a new plan. Enter the details: select the start and end range, and set the number of days. Don’t forget to set a notification time to stay on track. Start Reading: After creating your plan, tap Read to begin. Read the Quran following your schedule. Save and track progress: After completing a session, tap the planner icon at the bottom-right corner to save your progress. Check your planner regularly to stay on track. Celebrate completion: Mark the planner as complete once you finish all sessions. It’s a fulfilling moment to celebrate!\\n\\nTips for Success\\n\\nStart with a realistic goal\\n\\nSet reminders at a consistent time to stay on track\\n\\nPlan ahead for busy days\\n\\nAdjust your schedule if needed\\n\\nReady to start? Create your reading plan now and prepare for your next Quran completion in the Al Quran (Tafsir & by Word) app!\\n\\nDid you find this guide useful? Help us improve by sharing your quick feedback here.'},\n",
       " {'url': 'https://gtaf.org/blog/mushaf-mode-in-quran-app/?fbclid=IwY2xjawL0bI9leHRuA2FlbQIxMABicmlkETFmSGVJS3hCRDlCMU5zNUhqAR7nLIJEj0oMqn073aQlqYn2PNe5XmAIqD1abGPapvnOE0qxxRS7wulIb7JGIg_aem_8JhZJyueZ1bw6-qnBZydmA',\n",
       "  'title': 'Mushaf Mode – Read the Quran in familiar Mushaf pages',\n",
       "  'text': 'Mushaf Mode – Read the Quran in familiar Mushaf pages\\n\\nExperience the familiar comfort of your favourite hard-copy mushaf in digital form. Perfect for focused recitation when you prefer the classic Quran layout without translations.\\n\\nMushaf reading mode is quite popular among the Arab demographic, students of knowledge and people doing hifz. Consistency in mushaf layouts helps memorization by building photographic memory. It also helps traditional readers.\\n\\nLet’s explore the mushafs available in the Al Quran (Tafsir & by Word) app and how to select your preferred one.\\n\\nAvailable mushafs in the Quran app\\n\\nMushaf unicode: Customisable mushaf with options to resize and change fonts according to your preference Uthmanic mushaf Classic madani mushaf from the King Fahd Quran Complex (Hijri 1405) Madani mushaf with tajweed colouring Updated madani mushaf (Hijri 1440) Shemerly Mushaf, popular in Egypt and a few other countries Naskh (Indopak): Popular in Bangladesh, India, Indonesia, Pakistan Different riwayahs: Warsh mushaf: Used by the people of Maghreb, Western and Central Africa and Western Europe (France and Spain) Qaloon mushaf: Used by people of North African countries, including Libya, Tunisia and some areas in Mauritania, Algeria Important note: Choose these only if you specifically read these riwayahs. If you don’t understand what the Warsh/Qaloon riwayah means, please download madani or naskh indopak mushaf instead.\\n\\nHow to enable mushaf reading mode?\\n\\nFollow these steps:\\n\\nOpen any Surah in the app Tap the book icon at the top right corner Enjoy reciting the Quran in mushaf mode To switch back to regular mode, tap the 3-bar icon at the top right corner.\\n\\nTo change the mushaf type:\\n\\nGo to settings Select the mushaf type option Choose your preferred mushaf style\\n\\nHow to access translations or tafsirs while reciting in mushaf mode?\\n\\nWant to know translations or tafsir of an ayah while reciting? Simply long-press any ayah to view its translation or tafsir without leaving the mushaf mode.\\n\\nDifferent riwayah\\n\\nIn normal reading mode, our app currently supports the Hafs riwayah in both Uthmanic and Indopak scripts.\\n\\nFor those who read in Warsh or Qaloon riwayah, these are available only in our mushaf mode.\\n\\nIf you’re reading in Warsh or Qaloon for the first time, you may notice minor differences from the more widely used Hafs riwayah.\\n\\nTo learn more about the different riwayah of the Quran, check the following articles:\\n\\nConclusion\\n\\nOur mushaf mode is designed to enhance your Quran reading experience. Whether for memorization, traditional reading, or study, it offers a familiar and intuitive way to connect with the Quran.\\n\\nExplore the mushaf reading mode in our Quran app.\\n\\nShare this with others and help them enrich their recitation journey.\\n\\nDid you find this guide useful? Help us improve by sharing your quick feedback here.'},\n",
       " {'url': 'https://gtaf.org/blog/tajweed-colour-code-in-quran-app/?fbclid=IwY2xjawL0bJBleHRuA2FlbQIxMABicmlkETFmSGVJS3hCRDlCMU5zNUhqAR40Z0Cq3t0w2BuSTMPSOPA1DCnLNUuD9K7SbQZqBthb8unQTn5AV1xm5q21fg_aem_oOtlXEcIMi1b-HJRtQmLRw',\n",
       "  'title': 'Tajweed colour code – Never miss a tajweed again',\n",
       "  'text': 'Tajweed colour code – Never miss a tajweed again\\n\\nReading the Quran with proper Tajweed is a key aspect of reciting beautifully and accurately. Our Quran app makes it easier with Tajweed colour coding. The colour codes help you identify and apply Tajweed rules effortlessly while reciting, ensuring you never miss a rule again.\\n\\nWhat Is Tajweed Colour Coding?\\n\\nTajweed colour coding is a system where specific Tajweed rules are highlighted in different colours directly on the Quran text. This makes it easy for readers to apply the rules in real time without needing to memorize them separately.\\n\\nTajweed Rules Covered in the Quran App\\n\\nAlhamdulillah, we’ve added the Tajweed rules and Tajweed colour-coding in your favourite Al Quran (Tafsir & by Word) app to enhance your Quran reading experience. Here are the key Tajweed rules we’ve covered.\\n\\n1. Ghunna (nasalisation): Any نّ or مّ will have a sound that emanates from the nose.\\n\\nWe use this colour in the app to represent ‘Gunnah’\\n\\n2. Ikhfaa (lenition/hiding): Highlights where the sound of a letter should be softened or partially hidden.\\n\\nWe use this colour in the app to represent ‘Ikhfaa’\\n\\n3. Idgham (elision/merging): Indicates where letters should merge smoothly during recitation.\\n\\nWe use this colour in the app to represent ‘Idgham’\\n\\n4. Idgham without Ghunnah: Marks merging without nasalization.\\n\\nWe use this colour in the app to represent ‘Idgham without Gunnah’\\n\\n5. Iqlab (assimilation/flipping): Marked to show where a letter changes sound when followed by a specific letter.\\n\\nWe use this colour in the app to represent ‘Iqlab’\\n\\n6. Qalqala (echoing): Highlighted to guide where the echoing sound should be applied.\\n\\nWe use this colour in the app to represent ‘Qalqala’\\n\\nNote: You will find all the Tajweed rules under the settings in the app.\\n\\nHow to Enable and Disable Colour-Coded Tajweed in the App?\\n\\nJust follow these steps:\\n\\n1. Open any surah in the app\\n\\n2. Go to Quick settings\\n\\n3. Tick the Tajweed checkbox to enable colour-coded Tajweed\\n\\nor\\n\\nUntick the Tajweed checkbox to disable colour-coded Tajweed\\n\\nHere is a video demonstration for better understanding.\\n\\nBenefits of Tajweed Colour Coding\\n\\nEase of Learning: Perfect for beginners learning Tajweed.\\n\\nImproved Accuracy: Ensures you don’t skip or misapply rules.\\n\\nConfidence in Recitation: Helps readers feel more assured while reciting aloud.\\n\\nStart Practicing Today\\n\\nOpen the Tajweed colour-coded Quran in our app and experience the ease of applying Tajweed in your recitation. Whether you’re a beginner or an experienced reciter, this is designed to assist your Quran reading experience.\\n\\nStart now in the Quran app and improve your recitation – Bismillah!\\n\\nDid you find this guide useful? Help us improve by sharing your quick feedback here.'}]"
      ]
     },
     "execution_count": 20,
     "metadata": {},
     "output_type": "execute_result"
    }
   ],
   "source": [
    "knowledge_base = scrape_articles(urls)\n",
    "\n",
    "knowledge_base"
   ]
  },
  {
   "cell_type": "code",
   "execution_count": 21,
   "metadata": {},
   "outputs": [
    {
     "name": "stdout",
     "output_type": "stream",
     "text": [
      "Knowledge base saved to 'quran_app_Documentation.json'\n"
     ]
    }
   ],
   "source": [
    "with open(\"Quran_app_Documentation.json\", \"w\", encoding=\"utf-8\") as f:\n",
    "    json.dump(knowledge_base, f, ensure_ascii=False, indent=4)\n",
    "\n",
    "print(\"Knowledge base saved to 'quran_app_Documentation.json'\")"
   ]
  }
 ],
 "metadata": {
  "kernelspec": {
   "display_name": "venv",
   "language": "python",
   "name": "python3"
  },
  "language_info": {
   "codemirror_mode": {
    "name": "ipython",
    "version": 3
   },
   "file_extension": ".py",
   "mimetype": "text/x-python",
   "name": "python",
   "nbconvert_exporter": "python",
   "pygments_lexer": "ipython3",
   "version": "3.12.3"
  }
 },
 "nbformat": 4,
 "nbformat_minor": 2
}
