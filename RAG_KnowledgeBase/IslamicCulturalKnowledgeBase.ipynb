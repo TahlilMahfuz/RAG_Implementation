{
 "cells": [
  {
   "cell_type": "code",
   "execution_count": 1,
   "metadata": {},
   "outputs": [],
   "source": [
    "from googlesearch import search\n",
    "from newspaper import Article\n",
    "import json\n",
    "import time"
   ]
  },
  {
   "cell_type": "code",
   "execution_count": 2,
   "metadata": {},
   "outputs": [],
   "source": [
    "queries = [\n",
    "    \"Islamic etiquette and greetings\",\n",
    "    \"Islamic manners and social etiquette\",\n",
    "    \"Islamic greetings and their meanings\",\n",
    "    \"Islamic social behavior and etiquette\",\n",
    "    \"Islamic etiquette in daily life\"\n",
    "]"
   ]
  },
  {
   "cell_type": "code",
   "execution_count": 3,
   "metadata": {},
   "outputs": [
    {
     "ename": "HTTPError",
     "evalue": "429 Client Error: Too Many Requests for url: https://www.google.com/sorry/index?continue=https://www.google.com/search%3Fq%3DIslamic%2Betiquette%2Band%2Bgreetings%26num%3D10%26hl%3Den%26start%3D0%26safe%3Dactive&hl=en&q=EgR2s9MBGKGexcEGIjDykCPlc1SkG6jwTVkIWZXByl20SToEyHh0xynxROZlx0B7REtmrgGd_azr-ZVDQo8yAnJSWgFD",
     "output_type": "error",
     "traceback": [
      "\u001b[31m---------------------------------------------------------------------------\u001b[39m",
      "\u001b[31mHTTPError\u001b[39m                                 Traceback (most recent call last)",
      "\u001b[36mCell\u001b[39m\u001b[36m \u001b[39m\u001b[32mIn[3]\u001b[39m\u001b[32m, line 9\u001b[39m\n\u001b[32m      6\u001b[39m             time.sleep(\u001b[32m2\u001b[39m)  \u001b[38;5;66;03m# Respectful delay between requests\u001b[39;00m\n\u001b[32m      7\u001b[39m     \u001b[38;5;28;01mreturn\u001b[39;00m \u001b[38;5;28mlist\u001b[39m(urls)\n\u001b[32m----> \u001b[39m\u001b[32m9\u001b[39m urls = \u001b[43mget_search_results\u001b[49m\u001b[43m(\u001b[49m\u001b[43mqueries\u001b[49m\u001b[43m)\u001b[49m\n\u001b[32m     10\u001b[39m \u001b[38;5;28;01mwith\u001b[39;00m \u001b[38;5;28mopen\u001b[39m(\u001b[33m\"\u001b[39m\u001b[33murls_list.txt\u001b[39m\u001b[33m\"\u001b[39m, \u001b[33m\"\u001b[39m\u001b[33mw\u001b[39m\u001b[33m\"\u001b[39m, encoding=\u001b[33m\"\u001b[39m\u001b[33mutf-8\u001b[39m\u001b[33m\"\u001b[39m) \u001b[38;5;28;01mas\u001b[39;00m file:\n\u001b[32m     11\u001b[39m     \u001b[38;5;28;01mfor\u001b[39;00m url \u001b[38;5;129;01min\u001b[39;00m urls:\n",
      "\u001b[36mCell\u001b[39m\u001b[36m \u001b[39m\u001b[32mIn[3]\u001b[39m\u001b[32m, line 4\u001b[39m, in \u001b[36mget_search_results\u001b[39m\u001b[34m(queries, num_results)\u001b[39m\n\u001b[32m      2\u001b[39m urls = \u001b[38;5;28mset\u001b[39m()\n\u001b[32m      3\u001b[39m \u001b[38;5;28;01mfor\u001b[39;00m query \u001b[38;5;129;01min\u001b[39;00m queries:\n\u001b[32m----> \u001b[39m\u001b[32m4\u001b[39m \u001b[43m    \u001b[49m\u001b[38;5;28;43;01mfor\u001b[39;49;00m\u001b[43m \u001b[49m\u001b[43murl\u001b[49m\u001b[43m \u001b[49m\u001b[38;5;129;43;01min\u001b[39;49;00m\u001b[43m \u001b[49m\u001b[43msearch\u001b[49m\u001b[43m(\u001b[49m\u001b[43mquery\u001b[49m\u001b[43m,\u001b[49m\u001b[43m \u001b[49m\u001b[43mnum_results\u001b[49m\u001b[43m=\u001b[49m\u001b[43mnum_results\u001b[49m\u001b[43m)\u001b[49m\u001b[43m:\u001b[49m\n\u001b[32m      5\u001b[39m \u001b[43m        \u001b[49m\u001b[43murls\u001b[49m\u001b[43m.\u001b[49m\u001b[43madd\u001b[49m\u001b[43m(\u001b[49m\u001b[43murl\u001b[49m\u001b[43m)\u001b[49m\n\u001b[32m      6\u001b[39m \u001b[43m        \u001b[49m\u001b[43mtime\u001b[49m\u001b[43m.\u001b[49m\u001b[43msleep\u001b[49m\u001b[43m(\u001b[49m\u001b[32;43m2\u001b[39;49m\u001b[43m)\u001b[49m  \u001b[38;5;66;03m# Respectful delay between requests\u001b[39;00m\n",
      "\u001b[36mFile \u001b[39m\u001b[32m~/RAG_Implementation/venv/lib/python3.12/site-packages/googlesearch/__init__.py:58\u001b[39m, in \u001b[36msearch\u001b[39m\u001b[34m(term, num_results, lang, proxy, advanced, sleep_interval, timeout, safe, ssl_verify, region, start_num, unique)\u001b[39m\n\u001b[32m     54\u001b[39m fetched_links = \u001b[38;5;28mset\u001b[39m() \u001b[38;5;66;03m# to keep track of links that are already seen previously\u001b[39;00m\n\u001b[32m     56\u001b[39m \u001b[38;5;28;01mwhile\u001b[39;00m fetched_results < num_results:\n\u001b[32m     57\u001b[39m     \u001b[38;5;66;03m# Send request\u001b[39;00m\n\u001b[32m---> \u001b[39m\u001b[32m58\u001b[39m     resp = \u001b[43m_req\u001b[49m\u001b[43m(\u001b[49m\u001b[43mterm\u001b[49m\u001b[43m,\u001b[49m\u001b[43m \u001b[49m\u001b[43mnum_results\u001b[49m\u001b[43m \u001b[49m\u001b[43m-\u001b[49m\u001b[43m \u001b[49m\u001b[43mstart\u001b[49m\u001b[43m,\u001b[49m\n\u001b[32m     59\u001b[39m \u001b[43m                \u001b[49m\u001b[43mlang\u001b[49m\u001b[43m,\u001b[49m\u001b[43m \u001b[49m\u001b[43mstart\u001b[49m\u001b[43m,\u001b[49m\u001b[43m \u001b[49m\u001b[43mproxies\u001b[49m\u001b[43m,\u001b[49m\u001b[43m \u001b[49m\u001b[43mtimeout\u001b[49m\u001b[43m,\u001b[49m\u001b[43m \u001b[49m\u001b[43msafe\u001b[49m\u001b[43m,\u001b[49m\u001b[43m \u001b[49m\u001b[43mssl_verify\u001b[49m\u001b[43m,\u001b[49m\u001b[43m \u001b[49m\u001b[43mregion\u001b[49m\u001b[43m)\u001b[49m\n\u001b[32m     61\u001b[39m     \u001b[38;5;66;03m# put in file - comment for debugging purpose\u001b[39;00m\n\u001b[32m     62\u001b[39m     \u001b[38;5;66;03m# with open('google.html', 'w') as f:\u001b[39;00m\n\u001b[32m     63\u001b[39m     \u001b[38;5;66;03m#     f.write(resp.text)\u001b[39;00m\n\u001b[32m     64\u001b[39m     \n\u001b[32m     65\u001b[39m     \u001b[38;5;66;03m# Parse\u001b[39;00m\n\u001b[32m     66\u001b[39m     soup = BeautifulSoup(resp.text, \u001b[33m\"\u001b[39m\u001b[33mhtml.parser\u001b[39m\u001b[33m\"\u001b[39m)\n",
      "\u001b[36mFile \u001b[39m\u001b[32m~/RAG_Implementation/venv/lib/python3.12/site-packages/googlesearch/__init__.py:32\u001b[39m, in \u001b[36m_req\u001b[39m\u001b[34m(term, results, lang, start, proxies, timeout, safe, ssl_verify, region)\u001b[39m\n\u001b[32m      9\u001b[39m \u001b[38;5;28;01mdef\u001b[39;00m\u001b[38;5;250m \u001b[39m\u001b[34m_req\u001b[39m(term, results, lang, start, proxies, timeout, safe, ssl_verify, region):\n\u001b[32m     10\u001b[39m     resp = get(\n\u001b[32m     11\u001b[39m         url=\u001b[33m\"\u001b[39m\u001b[33mhttps://www.google.com/search\u001b[39m\u001b[33m\"\u001b[39m,\n\u001b[32m     12\u001b[39m         headers={\n\u001b[32m   (...)\u001b[39m\u001b[32m     30\u001b[39m         }\n\u001b[32m     31\u001b[39m     )\n\u001b[32m---> \u001b[39m\u001b[32m32\u001b[39m     \u001b[43mresp\u001b[49m\u001b[43m.\u001b[49m\u001b[43mraise_for_status\u001b[49m\u001b[43m(\u001b[49m\u001b[43m)\u001b[49m\n\u001b[32m     33\u001b[39m     \u001b[38;5;28;01mreturn\u001b[39;00m resp\n",
      "\u001b[36mFile \u001b[39m\u001b[32m~/RAG_Implementation/venv/lib/python3.12/site-packages/requests/models.py:1024\u001b[39m, in \u001b[36mResponse.raise_for_status\u001b[39m\u001b[34m(self)\u001b[39m\n\u001b[32m   1019\u001b[39m     http_error_msg = (\n\u001b[32m   1020\u001b[39m         \u001b[33mf\u001b[39m\u001b[33m\"\u001b[39m\u001b[38;5;132;01m{\u001b[39;00m\u001b[38;5;28mself\u001b[39m.status_code\u001b[38;5;132;01m}\u001b[39;00m\u001b[33m Server Error: \u001b[39m\u001b[38;5;132;01m{\u001b[39;00mreason\u001b[38;5;132;01m}\u001b[39;00m\u001b[33m for url: \u001b[39m\u001b[38;5;132;01m{\u001b[39;00m\u001b[38;5;28mself\u001b[39m.url\u001b[38;5;132;01m}\u001b[39;00m\u001b[33m\"\u001b[39m\n\u001b[32m   1021\u001b[39m     )\n\u001b[32m   1023\u001b[39m \u001b[38;5;28;01mif\u001b[39;00m http_error_msg:\n\u001b[32m-> \u001b[39m\u001b[32m1024\u001b[39m     \u001b[38;5;28;01mraise\u001b[39;00m HTTPError(http_error_msg, response=\u001b[38;5;28mself\u001b[39m)\n",
      "\u001b[31mHTTPError\u001b[39m: 429 Client Error: Too Many Requests for url: https://www.google.com/sorry/index?continue=https://www.google.com/search%3Fq%3DIslamic%2Betiquette%2Band%2Bgreetings%26num%3D10%26hl%3Den%26start%3D0%26safe%3Dactive&hl=en&q=EgR2s9MBGKGexcEGIjDykCPlc1SkG6jwTVkIWZXByl20SToEyHh0xynxROZlx0B7REtmrgGd_azr-ZVDQo8yAnJSWgFD"
     ]
    }
   ],
   "source": [
    "def get_search_results(queries, num_results=8):\n",
    "    urls = set()\n",
    "    for query in queries:\n",
    "        for url in search(query, num_results=num_results):\n",
    "            urls.add(url)\n",
    "            time.sleep(2)  # Respectful delay between requests\n",
    "    return list(urls)\n",
    "\n",
    "urls = get_search_results(queries)\n",
    "with open(\"urls_list.txt\", \"w\", encoding=\"utf-8\") as file:\n",
    "    for url in urls:\n",
    "        file.write(url + \"\\n\")\n",
    "\n",
    "print(\"URLs saved to 'urls_list.txt'\")"
   ]
  },
  {
   "cell_type": "code",
   "execution_count": null,
   "metadata": {},
   "outputs": [
    {
     "name": "stdout",
     "output_type": "stream",
     "text": [
      "Unique URLs (33):\n",
      "https://nooracademy.com/islamic-manners-and-etiquette/\n",
      "https://resala-academy.com/etiquettes-of-islam/\n",
      "https://myislamicdua.com/knowledgebase/common-islamic-greetings-phrases/\n",
      "https://www.themostgracious.com/books/Etiquettes%20of%20Life%20in%20Islam%20(www.themostgracious.com).pdf\n",
      "https://myislam.org/islamic-phrases-for-everyday-use/\n",
      "https://kalimah-center.com/arabic-greeting-words/\n",
      "https://messageinternational.org/five-islamic-manners-that-have-enhanced-my-life/\n",
      "https://al-islam.org/islamic-teachings-book-2/social-etiquette\n",
      "https://hubeali.com/article/greeting-etiquettes-in-islam/\n",
      "https://scholar.google.com/scholar?q=Islamic+social+behavior+and+etiquette&hl=en&as_sdt=0&as_vis=1&oi=scholart\n",
      "https://blog.une.edu.au/new-england-muslims/2019/11/14/the-75-good-manners-commandments-in-the-quran/comment-page-1/\n",
      "https://www.islamicity.org/5691/the-dignity-of-islams-social-etiquette-2/\n",
      "https://islamqa.info/en/categories/topics/227/manners-of-greeting-with-salam\n",
      "https://islamicstudies.uok.edu.in/Files/36892408-1fed-4431-9848-0761b9e02587/Journal/20a4b854-b0ab-4171-945b-7948d4497545.pdf\n",
      "https://www.talibeilm.net/uploads/4/7/1/3/4713847/islamic_manners_shaykh_abdul_fattah_abu_ghuddah.pdf\n",
      "https://islameasy.org/islamic-manners-and-etiquettes\n",
      "https://hikmahboutique.com.au/blogs/useful-articles/100-islamic-manners-and-etiquettes?srsltid=AfmBOopkBNmBs16xIQByGCZ6rU5YTKP8EVtLHcjRygz75cHuXDqJlfu7\n",
      "https://hibamagazine.com/islamic-social-etiquette/\n",
      "https://deenislam24.wordpress.com/2010/10/05/the-islamic-greeting-and-it%E2%80%99s-etiquette/\n",
      "https://www.wikihow.com/Greet-in-Islam\n",
      "https://www.islamic-relief.org.uk/resources/knowledge-base/islamic-phrases/\n",
      "https://preply.com/en/blog/arabic-greetings/\n",
      "https://iqranetwork.com/blog/the-beauty-of-muslim-greetings-a-gateway-to-connection-and-blessings/\n",
      "https://www.dawateislami.net/magazine/en/bright-teachings-of-islam/social-etiquettes\n",
      "https://free-islamic-course.org/stageone/stageone-module-3/islamic-manners-eqituettes.html\n",
      "https://www.altaregional.org/sites/main/files/file-attachments/uie_aw._islamic_etiquette_training.ppt_embedded.pdf?1597350315\n",
      "https://www.google.com/search?safe=active\n",
      "https://www.iium.edu.my/deed/hadith/muslim/026_smt.html\n",
      "https://iqraonline.com/what-are-the-manners-and-etiquette-in-islam/\n",
      "https://hikmahboutique.com.au/blogs/useful-articles/100-islamic-manners-and-etiquettes?srsltid=AfmBOoqwB80r82n-tx9Fe7t7oXwWyLpTFFyb8Ok3quTdt4VyJtcBBm6r\n",
      "https://fajrnoor.com/blogs/fajrnoor/100-islamic-etiquettes?srsltid=AfmBOorIqjnHBP8YJEKlMDdNtdgm6czEYac5OvZst9SMWDckLMQGSuDv\n",
      "https://al-islam.org/simplified-islamic-laws-young-adults-lutfullah-safi-golpaygani/rules-greeting-one-another\n",
      "https://dergipark.org.tr/en/download/article-file/184579\n"
     ]
    }
   ],
   "source": [
    "unique_urls = list(set(urls))\n",
    "\n",
    "# Print the unique URLs and their count\n",
    "print(f\"Unique URLs ({len(unique_urls)}):\")\n",
    "for unique_url in unique_urls:\n",
    "    print(unique_url)"
   ]
  },
  {
   "cell_type": "code",
   "execution_count": null,
   "metadata": {},
   "outputs": [
    {
     "name": "stdout",
     "output_type": "stream",
     "text": [
      "Error processing https://myislam.org/islamic-phrases-for-everyday-use/: Article `download()` failed with 403 Client Error: Forbidden for url: https://myislam.org/islamic-phrases-for-everyday-use/ on URL https://myislam.org/islamic-phrases-for-everyday-use/\n",
      "Error processing https://messageinternational.org/five-islamic-manners-that-have-enhanced-my-life/: Article `download()` failed with HTTPSConnectionPool(host='messageinternational.org', port=443): Max retries exceeded with url: /five-islamic-manners-that-have-enhanced-my-life/ (Caused by NameResolutionError(\"<urllib3.connection.HTTPSConnection object at 0x796b0e5459a0>: Failed to resolve 'messageinternational.org' ([Errno -3] Temporary failure in name resolution)\")) on URL https://messageinternational.org/five-islamic-manners-that-have-enhanced-my-life/\n",
      "Error processing https://al-islam.org/islamic-teachings-book-2/social-etiquette: Article `download()` failed with 403 Client Error: Forbidden for url: https://al-islam.org/islamic-teachings-book-2/social-etiquette on URL https://al-islam.org/islamic-teachings-book-2/social-etiquette\n",
      "Error processing https://islamicstudies.uok.edu.in/Files/36892408-1fed-4431-9848-0761b9e02587/Journal/20a4b854-b0ab-4171-945b-7948d4497545.pdf: Article `download()` failed with 403 Client Error: Forbidden for url: https://islamicstudies.uok.edu.in/Files/36892408-1fed-4431-9848-0761b9e02587/Journal/20a4b854-b0ab-4171-945b-7948d4497545.pdf on URL https://islamicstudies.uok.edu.in/Files/36892408-1fed-4431-9848-0761b9e02587/Journal/20a4b854-b0ab-4171-945b-7948d4497545.pdf\n",
      "Error processing https://islameasy.org/islamic-manners-and-etiquettes: Article `download()` failed with 403 Client Error: Forbidden for url: https://islameasy.org/islamic-manners-and-etiquettes on URL https://islameasy.org/islamic-manners-and-etiquettes\n",
      "Error processing https://www.islamic-relief.org.uk/resources/knowledge-base/islamic-phrases/: Article `download()` failed with 403 Client Error: Forbidden for url: https://www.islamic-relief.org.uk/resources/knowledge-base/islamic-phrases/ on URL https://www.islamic-relief.org.uk/resources/knowledge-base/islamic-phrases/\n",
      "Error processing https://www.dawateislami.net/magazine/en/bright-teachings-of-islam/social-etiquettes: Article `download()` failed with 403 Client Error: Forbidden for url: https://www.dawateislami.net/magazine/en/bright-teachings-of-islam/social-etiquettes on URL https://www.dawateislami.net/magazine/en/bright-teachings-of-islam/social-etiquettes\n",
      "Error processing https://iqraonline.com/what-are-the-manners-and-etiquette-in-islam/: Article `download()` failed with HTTPSConnectionPool(host='iqraonline.com', port=443): Read timed out. (read timeout=7) on URL https://iqraonline.com/what-are-the-manners-and-etiquette-in-islam/\n",
      "Error processing https://al-islam.org/simplified-islamic-laws-young-adults-lutfullah-safi-golpaygani/rules-greeting-one-another: Article `download()` failed with 403 Client Error: Forbidden for url: https://al-islam.org/simplified-islamic-laws-young-adults-lutfullah-safi-golpaygani/rules-greeting-one-another on URL https://al-islam.org/simplified-islamic-laws-young-adults-lutfullah-safi-golpaygani/rules-greeting-one-another\n",
      "Error processing https://free-islamic-course.org/stageone/stageone-module-3/islamic-manners-eqituettes.html: Article `download()` failed with HTTPSConnectionPool(host='free-islamic-course.org', port=443): Read timed out. (read timeout=7) on URL https://free-islamic-course.org/stageone/stageone-module-3/islamic-manners-eqituettes.html\n"
     ]
    }
   ],
   "source": [
    "def scrape_articles(urls):\n",
    "    articles = []\n",
    "    for url in urls:\n",
    "        try:\n",
    "            article = Article(url)\n",
    "            article.download()\n",
    "            article.parse()\n",
    "            if article.text.strip():\n",
    "                articles.append({\n",
    "                    \"url\": url,\n",
    "                    \"title\": article.title,\n",
    "                    \"text\": article.text\n",
    "                })\n",
    "        except Exception as e:\n",
    "            print(f\"Error processing {url}: {e}\")\n",
    "        time.sleep(1)  # Respectful delay between requests\n",
    "    return articles\n",
    "\n",
    "knowledge_base = scrape_articles(urls)"
   ]
  },
  {
   "cell_type": "code",
   "execution_count": null,
   "metadata": {},
   "outputs": [
    {
     "name": "stdout",
     "output_type": "stream",
     "text": [
      "Knowledge base saved to 'islamic_etiquette_knowledge_base.json'\n"
     ]
    }
   ],
   "source": [
    "with open(\"islamic_etiquette_knowledge_base.json\", \"w\", encoding=\"utf-8\") as f:\n",
    "    json.dump(knowledge_base, f, ensure_ascii=False, indent=4)\n",
    "\n",
    "print(\"Knowledge base saved to 'islamic_etiquette_knowledge_base.json'\")"
   ]
  }
 ],
 "metadata": {
  "kernelspec": {
   "display_name": "venv",
   "language": "python",
   "name": "python3"
  },
  "language_info": {
   "codemirror_mode": {
    "name": "ipython",
    "version": 3
   },
   "file_extension": ".py",
   "mimetype": "text/x-python",
   "name": "python",
   "nbconvert_exporter": "python",
   "pygments_lexer": "ipython3",
   "version": "3.12.3"
  }
 },
 "nbformat": 4,
 "nbformat_minor": 2
}
