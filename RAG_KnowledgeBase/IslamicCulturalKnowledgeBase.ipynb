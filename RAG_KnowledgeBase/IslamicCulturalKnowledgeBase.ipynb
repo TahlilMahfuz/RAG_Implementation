{
 "cells": [
  {
   "cell_type": "code",
   "execution_count": null,
   "metadata": {},
   "outputs": [],
   "source": [
    "from googlesearch import search\n",
    "from newspaper import Article\n",
    "import json\n",
    "import time"
   ]
  },
  {
   "cell_type": "code",
   "execution_count": null,
   "metadata": {},
   "outputs": [],
   "source": [
    "queries = [\n",
    "    \"Islamic etiquette and greetings\",\n",
    "    \"Islamic manners and social etiquette\",\n",
    "    \"Islamic greetings and their meanings\",\n",
    "    \"Islamic social behavior and etiquette\",\n",
    "    \"Islamic etiquette in daily life\"\n",
    "]"
   ]
  },
  {
   "cell_type": "code",
   "execution_count": null,
   "metadata": {},
   "outputs": [],
   "source": [
    "def get_search_results(queries, num_results=8):\n",
    "    urls = set()\n",
    "    for query in queries:\n",
    "        for url in search(query, num_results=num_results):\n",
    "            urls.add(url)\n",
    "            time.sleep(2)  # Respectful delay between requests\n",
    "    return list(urls)\n",
    "\n",
    "urls = get_search_results(queries)\n",
    "with open(\"urls_list.txt\", \"w\", encoding=\"utf-8\") as file:\n",
    "    for url in urls:\n",
    "        file.write(url + \"\\n\")\n",
    "\n",
    "print(\"URLs saved to 'urls_list.txt'\")"
   ]
  },
  {
   "cell_type": "code",
   "execution_count": null,
   "metadata": {},
   "outputs": [
    {
     "name": "stdout",
     "output_type": "stream",
     "text": [
      "Unique URLs (33):\n",
      "https://nooracademy.com/islamic-manners-and-etiquette/\n",
      "https://resala-academy.com/etiquettes-of-islam/\n",
      "https://myislamicdua.com/knowledgebase/common-islamic-greetings-phrases/\n",
      "https://www.themostgracious.com/books/Etiquettes%20of%20Life%20in%20Islam%20(www.themostgracious.com).pdf\n",
      "https://myislam.org/islamic-phrases-for-everyday-use/\n",
      "https://kalimah-center.com/arabic-greeting-words/\n",
      "https://messageinternational.org/five-islamic-manners-that-have-enhanced-my-life/\n",
      "https://al-islam.org/islamic-teachings-book-2/social-etiquette\n",
      "https://hubeali.com/article/greeting-etiquettes-in-islam/\n",
      "https://scholar.google.com/scholar?q=Islamic+social+behavior+and+etiquette&hl=en&as_sdt=0&as_vis=1&oi=scholart\n",
      "https://blog.une.edu.au/new-england-muslims/2019/11/14/the-75-good-manners-commandments-in-the-quran/comment-page-1/\n",
      "https://www.islamicity.org/5691/the-dignity-of-islams-social-etiquette-2/\n",
      "https://islamqa.info/en/categories/topics/227/manners-of-greeting-with-salam\n",
      "https://islamicstudies.uok.edu.in/Files/36892408-1fed-4431-9848-0761b9e02587/Journal/20a4b854-b0ab-4171-945b-7948d4497545.pdf\n",
      "https://www.talibeilm.net/uploads/4/7/1/3/4713847/islamic_manners_shaykh_abdul_fattah_abu_ghuddah.pdf\n",
      "https://islameasy.org/islamic-manners-and-etiquettes\n",
      "https://hikmahboutique.com.au/blogs/useful-articles/100-islamic-manners-and-etiquettes?srsltid=AfmBOopkBNmBs16xIQByGCZ6rU5YTKP8EVtLHcjRygz75cHuXDqJlfu7\n",
      "https://hibamagazine.com/islamic-social-etiquette/\n",
      "https://deenislam24.wordpress.com/2010/10/05/the-islamic-greeting-and-it%E2%80%99s-etiquette/\n",
      "https://www.wikihow.com/Greet-in-Islam\n",
      "https://www.islamic-relief.org.uk/resources/knowledge-base/islamic-phrases/\n",
      "https://preply.com/en/blog/arabic-greetings/\n",
      "https://iqranetwork.com/blog/the-beauty-of-muslim-greetings-a-gateway-to-connection-and-blessings/\n",
      "https://www.dawateislami.net/magazine/en/bright-teachings-of-islam/social-etiquettes\n",
      "https://free-islamic-course.org/stageone/stageone-module-3/islamic-manners-eqituettes.html\n",
      "https://www.altaregional.org/sites/main/files/file-attachments/uie_aw._islamic_etiquette_training.ppt_embedded.pdf?1597350315\n",
      "https://www.google.com/search?safe=active\n",
      "https://www.iium.edu.my/deed/hadith/muslim/026_smt.html\n",
      "https://iqraonline.com/what-are-the-manners-and-etiquette-in-islam/\n",
      "https://hikmahboutique.com.au/blogs/useful-articles/100-islamic-manners-and-etiquettes?srsltid=AfmBOoqwB80r82n-tx9Fe7t7oXwWyLpTFFyb8Ok3quTdt4VyJtcBBm6r\n",
      "https://fajrnoor.com/blogs/fajrnoor/100-islamic-etiquettes?srsltid=AfmBOorIqjnHBP8YJEKlMDdNtdgm6czEYac5OvZst9SMWDckLMQGSuDv\n",
      "https://al-islam.org/simplified-islamic-laws-young-adults-lutfullah-safi-golpaygani/rules-greeting-one-another\n",
      "https://dergipark.org.tr/en/download/article-file/184579\n"
     ]
    }
   ],
   "source": [
    "unique_urls = list(set(urls))\n",
    "\n",
    "# Print the unique URLs and their count\n",
    "print(f\"Unique URLs ({len(unique_urls)}):\")\n",
    "for unique_url in unique_urls:\n",
    "    print(unique_url)"
   ]
  },
  {
   "cell_type": "code",
   "execution_count": null,
   "metadata": {},
   "outputs": [
    {
     "name": "stdout",
     "output_type": "stream",
     "text": [
      "Error processing https://myislam.org/islamic-phrases-for-everyday-use/: Article `download()` failed with 403 Client Error: Forbidden for url: https://myislam.org/islamic-phrases-for-everyday-use/ on URL https://myislam.org/islamic-phrases-for-everyday-use/\n",
      "Error processing https://messageinternational.org/five-islamic-manners-that-have-enhanced-my-life/: Article `download()` failed with HTTPSConnectionPool(host='messageinternational.org', port=443): Max retries exceeded with url: /five-islamic-manners-that-have-enhanced-my-life/ (Caused by NameResolutionError(\"<urllib3.connection.HTTPSConnection object at 0x796b0e5459a0>: Failed to resolve 'messageinternational.org' ([Errno -3] Temporary failure in name resolution)\")) on URL https://messageinternational.org/five-islamic-manners-that-have-enhanced-my-life/\n",
      "Error processing https://al-islam.org/islamic-teachings-book-2/social-etiquette: Article `download()` failed with 403 Client Error: Forbidden for url: https://al-islam.org/islamic-teachings-book-2/social-etiquette on URL https://al-islam.org/islamic-teachings-book-2/social-etiquette\n",
      "Error processing https://islamicstudies.uok.edu.in/Files/36892408-1fed-4431-9848-0761b9e02587/Journal/20a4b854-b0ab-4171-945b-7948d4497545.pdf: Article `download()` failed with 403 Client Error: Forbidden for url: https://islamicstudies.uok.edu.in/Files/36892408-1fed-4431-9848-0761b9e02587/Journal/20a4b854-b0ab-4171-945b-7948d4497545.pdf on URL https://islamicstudies.uok.edu.in/Files/36892408-1fed-4431-9848-0761b9e02587/Journal/20a4b854-b0ab-4171-945b-7948d4497545.pdf\n",
      "Error processing https://islameasy.org/islamic-manners-and-etiquettes: Article `download()` failed with 403 Client Error: Forbidden for url: https://islameasy.org/islamic-manners-and-etiquettes on URL https://islameasy.org/islamic-manners-and-etiquettes\n",
      "Error processing https://www.islamic-relief.org.uk/resources/knowledge-base/islamic-phrases/: Article `download()` failed with 403 Client Error: Forbidden for url: https://www.islamic-relief.org.uk/resources/knowledge-base/islamic-phrases/ on URL https://www.islamic-relief.org.uk/resources/knowledge-base/islamic-phrases/\n",
      "Error processing https://www.dawateislami.net/magazine/en/bright-teachings-of-islam/social-etiquettes: Article `download()` failed with 403 Client Error: Forbidden for url: https://www.dawateislami.net/magazine/en/bright-teachings-of-islam/social-etiquettes on URL https://www.dawateislami.net/magazine/en/bright-teachings-of-islam/social-etiquettes\n",
      "Error processing https://iqraonline.com/what-are-the-manners-and-etiquette-in-islam/: Article `download()` failed with HTTPSConnectionPool(host='iqraonline.com', port=443): Read timed out. (read timeout=7) on URL https://iqraonline.com/what-are-the-manners-and-etiquette-in-islam/\n",
      "Error processing https://al-islam.org/simplified-islamic-laws-young-adults-lutfullah-safi-golpaygani/rules-greeting-one-another: Article `download()` failed with 403 Client Error: Forbidden for url: https://al-islam.org/simplified-islamic-laws-young-adults-lutfullah-safi-golpaygani/rules-greeting-one-another on URL https://al-islam.org/simplified-islamic-laws-young-adults-lutfullah-safi-golpaygani/rules-greeting-one-another\n",
      "Error processing https://free-islamic-course.org/stageone/stageone-module-3/islamic-manners-eqituettes.html: Article `download()` failed with HTTPSConnectionPool(host='free-islamic-course.org', port=443): Read timed out. (read timeout=7) on URL https://free-islamic-course.org/stageone/stageone-module-3/islamic-manners-eqituettes.html\n"
     ]
    }
   ],
   "source": [
    "def scrape_articles(urls):\n",
    "    articles = []\n",
    "    for url in urls:\n",
    "        try:\n",
    "            article = Article(url)\n",
    "            article.download()\n",
    "            article.parse()\n",
    "            if article.text.strip():\n",
    "                articles.append({\n",
    "                    \"url\": url,\n",
    "                    \"title\": article.title,\n",
    "                    \"text\": article.text\n",
    "                })\n",
    "        except Exception as e:\n",
    "            print(f\"Error processing {url}: {e}\")\n",
    "        time.sleep(1)  # Respectful delay between requests\n",
    "    return articles\n",
    "\n",
    "knowledge_base = scrape_articles(urls)"
   ]
  },
  {
   "cell_type": "code",
   "execution_count": null,
   "metadata": {},
   "outputs": [
    {
     "name": "stdout",
     "output_type": "stream",
     "text": [
      "Knowledge base saved to 'islamic_etiquette_knowledge_base.json'\n"
     ]
    }
   ],
   "source": [
    "with open(\"islamic_etiquette_knowledge_base.json\", \"w\", encoding=\"utf-8\") as f:\n",
    "    json.dump(knowledge_base, f, ensure_ascii=False, indent=4)\n",
    "\n",
    "print(\"Knowledge base saved to 'islamic_etiquette_knowledge_base.json'\")"
   ]
  }
 ],
 "metadata": {
  "kernelspec": {
   "display_name": "venv",
   "language": "python",
   "name": "python3"
  },
  "language_info": {
   "codemirror_mode": {
    "name": "ipython",
    "version": 3
   },
   "file_extension": ".py",
   "mimetype": "text/x-python",
   "name": "python",
   "nbconvert_exporter": "python",
   "pygments_lexer": "ipython3",
   "version": "3.12.3"
  }
 },
 "nbformat": 4,
 "nbformat_minor": 2
}
