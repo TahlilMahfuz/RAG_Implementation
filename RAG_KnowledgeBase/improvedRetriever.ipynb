{
 "cells": [
  {
   "cell_type": "code",
   "execution_count": 1,
   "metadata": {},
   "outputs": [
    {
     "name": "stderr",
     "output_type": "stream",
     "text": [
      "/home/tahlilmahfuz/RAG_Implementation/venv/lib/python3.12/site-packages/tqdm/auto.py:21: TqdmWarning: IProgress not found. Please update jupyter and ipywidgets. See https://ipywidgets.readthedocs.io/en/stable/user_install.html\n",
      "  from .autonotebook import tqdm as notebook_tqdm\n"
     ]
    },
    {
     "name": "stdout",
     "output_type": "stream",
     "text": [
      "Using device: cuda\n"
     ]
    }
   ],
   "source": [
    "import torch\n",
    "import numpy as np\n",
    "from transformers import AutoTokenizer, AutoModelForSeq2SeqLM\n",
    "from sentence_transformers import SentenceTransformer, CrossEncoder\n",
    "from rank_bm25 import BM25Okapi\n",
    "import faiss\n",
    "import re\n",
    "\n",
    "# Use GPU if available\n",
    "device = torch.device(\"cuda\" if torch.cuda.is_available() else \"cpu\")\n",
    "print(\"Using device:\", device)\n"
   ]
  },
  {
   "cell_type": "code",
   "execution_count": 2,
   "metadata": {},
   "outputs": [],
   "source": [
    "# Load models\n",
    "embedding_model = SentenceTransformer('sentence-transformers/all-mpnet-base-v2', device=device)\n",
    "cross_encoder = CrossEncoder('cross-encoder/ms-marco-MiniLM-L-6-v2', device=device)\n",
    "gen_tokenizer = AutoTokenizer.from_pretrained(\"google/flan-t5-base\")\n",
    "# gen_model = AutoModelForSeq2SeqLM.from_pretrained(\"google/flan-t5-base\").to(device)"
   ]
  },
  {
   "cell_type": "code",
   "execution_count": 3,
   "metadata": {},
   "outputs": [],
   "source": [
    "from transformers import AutoTokenizer as HFTokenizer\n",
    "\n",
    "# Tokenizer for chunking\n",
    "chunk_tokenizer = HFTokenizer.from_pretrained(\"bert-base-uncased\")\n",
    "\n",
    "def chunk_text_token_based(text, chunk_size=300, overlap=100):\n",
    "    tokens = chunk_tokenizer.tokenize(text)\n",
    "    chunks = []\n",
    "    for i in range(0, len(tokens), chunk_size - overlap):\n",
    "        chunk = tokens[i:i + chunk_size]\n",
    "        chunk_text = chunk_tokenizer.convert_tokens_to_string(chunk)\n",
    "        chunks.append(chunk_text)\n",
    "    return chunks\n"
   ]
  },
  {
   "cell_type": "code",
   "execution_count": 4,
   "metadata": {},
   "outputs": [],
   "source": [
    "def build_index(documents):\n",
    "    all_chunks = []\n",
    "    metadata = []\n",
    "\n",
    "    for doc in documents:\n",
    "        chunks = chunk_text_token_based(doc['text'])\n",
    "        for chunk in chunks:\n",
    "            all_chunks.append(chunk)\n",
    "            metadata.append({'title': doc['title'], 'url': doc['url'], 'text': chunk})\n",
    "\n",
    "    # BM25\n",
    "    tokenized_corpus = [chunk.split(\" \") for chunk in all_chunks]\n",
    "    bm25 = BM25Okapi(tokenized_corpus)\n",
    "\n",
    "    # Dense Embeddings\n",
    "    embeddings = embedding_model.encode(all_chunks, convert_to_numpy=True, normalize_embeddings=True)\n",
    "\n",
    "    # Faiss HNSW Index\n",
    "    dim = embeddings.shape[1]\n",
    "    index = faiss.IndexHNSWFlat(dim, 32)\n",
    "    index.hnsw.efConstruction = 40\n",
    "    faiss.normalize_L2(embeddings)\n",
    "    index.add(embeddings)\n",
    "\n",
    "    return bm25, index, embeddings, all_chunks, metadata\n"
   ]
  },
  {
   "cell_type": "code",
   "execution_count": null,
   "metadata": {},
   "outputs": [],
   "source": [
    "def retrieve_relevant_context(query, bm25, index, corpus, metadata, top_k=50, rerank_k=10):\n",
    "    # Sparse retrieval\n",
    "    tokenized_query = query.split(\" \")\n",
    "    bm25_scores = bm25.get_scores(tokenized_query)\n",
    "    bm25_top_idx = np.argsort(bm25_scores)[::-1][:top_k]\n",
    "\n",
    "    # Dense retrieval\n",
    "    query_emb = embedding_model.encode(query, convert_to_numpy=True, normalize_embeddings=True)\n",
    "    faiss.normalize_L2(query_emb.reshape(1, -1))\n",
    "    _, dense_top_idx = index.search(query_emb.reshape(1, -1), top_k)\n",
    "\n",
    "    # Merge candidates\n",
    "    candidate_indices = set(bm25_top_idx) | set(dense_top_idx[0])\n",
    "    candidates = [(i, corpus[i], metadata[i]) for i in candidate_indices]\n",
    "\n",
    "    # Rerank with Cross-Encoder\n",
    "    pairs = [[query, text] for _, text, _ in candidates]\n",
    "    scores = cross_encoder.predict(pairs)\n",
    "    reranked = sorted(zip(scores, candidates), key=lambda x: x[0], reverse=True)[:rerank_k]\n",
    "\n",
    "    # Return top reranked contexts and metadata\n",
    "    contexts = [text for _, (_, text, _) in reranked]\n",
    "    docs = [meta for _, (_, _, meta) in reranked]\n",
    "    return contexts, docs\n"
   ]
  },
  {
   "cell_type": "code",
   "execution_count": 16,
   "metadata": {},
   "outputs": [],
   "source": [
    "def generate_response(review: str, bm25, index, corpus, metadata) -> str:\n",
    "    contexts, docs = retrieve_relevant_context(review, bm25, index, corpus, metadata)\n",
    "    combined_context = \"\\n\\n\".join([f\"{doc['title']}:\\n{ctx}\" for ctx, doc in zip(contexts, docs)])\n",
    "    # prompt = f\"Context:\\n{combined_context}\\n\\nReview: {review}\\n\\nResponse:\" \n",
    "    prompt = f\"Retrieved Chunks:\\n{combined_context}\" \n",
    "    print(prompt)\n",
    "    # inputs = gen_tokenizer(prompt, return_tensors=\"pt\", max_length=512, truncation=True).to(device)\n",
    "    # outputs = gen_model.generate(**inputs, max_new_tokens=150)\n",
    "    # return gen_tokenizer.decode(outputs[0], skip_special_tokens=True)\n"
   ]
  },
  {
   "cell_type": "code",
   "execution_count": 17,
   "metadata": {},
   "outputs": [],
   "source": [
    "import json\n",
    "\n",
    "# Load your Islamic etiquette knowledge base\n",
    "with open('islamic_etiquette_knowledge_base.json') as f:\n",
    "    etiquette_data = json.load(f)\n",
    "\n",
    "# Load Quran app documentation\n",
    "with open('Quran_app_Documentation.json') as f:\n",
    "    quran_app_data = json.load(f)\n",
    "\n",
    "# Prepare chunked documents from both sources\n",
    "documents = []\n",
    "for entry in etiquette_data + quran_app_data:\n",
    "    chunks = chunk_text_token_based(entry['text'])  # use the token-based chunker\n",
    "    for chunk in chunks:\n",
    "        documents.append({\n",
    "            'title': entry['title'],\n",
    "            'url': entry['url'],\n",
    "            'text': chunk\n",
    "        })"
   ]
  },
  {
   "cell_type": "code",
   "execution_count": 18,
   "metadata": {},
   "outputs": [
    {
     "name": "stdout",
     "output_type": "stream",
     "text": [
      "Retrieved Chunks:\n",
      "Audio – Listen to the Quran to memorise and recharge your soul:\n",
      "audio – listen to the quran to memorise and recharge your soul recharge your soul and iman by listening to beautiful quran recitations. whether you ’ re memorizing, learning tajweed, or seeking comfort, our audio features support your journey. overview over 50 renowned reciters with user - friendly controls download audio for offline listening or stream to save storage space use the repeat option to assist with quran memorization ( hifz ) audio translations in english, bangla, and urdu to aid understanding by listening. more translations are planned, in sha allah. rich collection of reciters choose from over 50 renowned reciters including mishary al afasy, husary ( muallim ), ayman suwaid, abdur rahman as - sudais, abdul basit, minshawi and many others. for improving recitation and tajweed : try ayman suwaid or husary ( muallim ). prefer faster recitation? listen to yasser salama hadr. we have a few audio translations also to help you understand the quran by listening. quick start guide open any surah. tap the play icon below any ayah to play that ayah to play a range of ayahs or the entire surah, tap the play audio button at the bottom. choose the start and end ayah range. change reciters or audio translations from the reciters list. use\n",
      "\n",
      "Audio – Listen to the Quran to memorise and recharge your soul:\n",
      "). prefer faster recitation? listen to yasser salama hadr. we have a few audio translations also to help you understand the quran by listening. quick start guide open any surah. tap the play icon below any ayah to play that ayah to play a range of ayahs or the entire surah, tap the play audio button at the bottom. choose the start and end ayah range. change reciters or audio translations from the reciters list. use repeat options to listen to ayahs multiple times. perfect for memorization practice. download audio for offline listening or stream to save storage. you can switch to streaming mode from the advanced options. this won ’ t require downloading the audio to listen. adjust the playback speed to match your pace from advanced options. pro tip : recitation modes single : one reciter at a time — ideal for most users. multiple : select up to 3 reciters to play sequentially, such as arabic followed by a translation. select your preferred mode from the reciters list. by default, single recitation mode is selected. conclusion start listening to your favourite reciter now on the al quran ( tafsir & by word ) app. did you find this guide useful? help us improve by sharing your quick feedback here.\n",
      "\n",
      "Audio – Listen to the Quran to memorise and recharge your soul:\n",
      "). prefer faster recitation? listen to yasser salama hadr. we have a few audio translations also to help you understand the quran by listening. quick start guide open any surah. tap the play icon below any ayah to play that ayah to play a range of ayahs or the entire surah, tap the play audio button at the bottom. choose the start and end ayah range. change reciters or audio translations from the reciters list. use\n",
      "\n",
      "Tajweed colour code – Never miss a tajweed again:\n",
      "tajweed colour code – never miss a tajweed again reading the quran with proper tajweed is a key aspect of reciting beautifully and accurately. our quran app makes it easier with tajweed colour coding. the colour codes help you identify and apply tajweed rules effortlessly while reciting, ensuring you never miss a rule again. what is tajweed colour coding? tajweed colour coding is a system where specific tajweed rules are highlighted in different colours directly on the quran text. this makes it easy for readers to apply the rules in real time without needing to memorize them separately. tajweed rules covered in the quran app alhamdulillah, we ’ ve added the tajweed rules and tajweed colour - coding in your favourite al quran ( tafsir & by word ) app to enhance your quran reading experience. here are the key tajweed rules we ’ ve covered. 1. ghunna ( nasalisation ) : any ن or م will have a sound that emanates from the nose. we use this colour in the app to represent ‘ gunnah ’ 2. ikhfaa ( lenition / hiding ) : highlights where the sound of a letter should be softened or partially hidden. we use this colour in the app to represent ‘ ikhfaa ’ 3. idgham ( elision / merging ) : indicates where letters should merge smoothly during recitation. we use this colour in the app to\n",
      "\n",
      "Audio – Listen to the Quran to memorise and recharge your soul:\n",
      "arabic followed by a translation. select your preferred mode from the reciters list. by default, single recitation mode is selected. conclusion start listening to your favourite reciter now on the al quran ( tafsir & by word ) app. did you find this guide useful? help us improve by sharing your quick feedback here.\n",
      "\n",
      "Audio – Listen to the Quran to memorise and recharge your soul:\n",
      "arabic followed by a translation. select your preferred mode from the reciters list. by default, single recitation mode is selected. conclusion start listening to your favourite reciter now on the al quran ( tafsir & by word ) app. did you find this guide useful? help us improve by sharing your quick feedback here.\n",
      "\n",
      "Deepening Quran Understanding: Tools for Students of Knowledge and Arabic Learners:\n",
      "deepening quran understanding : tools for students of knowledge and arabic learners deepen your understanding of the quran through our comprehensive arabic analysis tools. whether you ’ re a beginner in arabic or an advanced student of knowledge, our quran app offers tools that make learning arabic easier and more meaningful. let ’ s look at how features like e3rab ( morphology ), gharib ( uncommon arabic word meanings ), word root, lemma, grammar details, verb forms, word occurrences can help you. e3rab ( morphology ) e3rab explains the grammatical structure of each word in the quran. it helps you : understand how words fit into an ayah see how grammar changes the meaning of ayahs improve your knowledge of quranic arabic grammar for deeper studies for example, when you read surah al - fatiha, you ’ ll see why “ الحمد ” and “ لله ” are written this way and how they connect. to study e3rab, go to settings > tafsirs. you can download the e3rab by qasim hamidan da ’ s from the list and start studying. gharib ( uncommon arabic word meanings ) the quran has words that are not often used in modern arabic. the gharib tool helps you : learn the meanings of uncommon words understand their context in quranic ayahs build your vocabulary for classical and modern arabic you can download gharib from the tafsirs\n",
      "\n",
      "Tajweed colour code – Never miss a tajweed again:\n",
      "reciter, this is designed to assist your quran reading experience. start now in the quran app and improve your recitation – bismillah! did you find this guide useful? help us improve by sharing your quick feedback here.\n",
      "\n",
      "Tajweed colour code – Never miss a tajweed again:\n",
      "reciter, this is designed to assist your quran reading experience. start now in the quran app and improve your recitation – bismillah! did you find this guide useful? help us improve by sharing your quick feedback here.\n",
      "\n",
      "Understand the Quran in your language: Translations, Tafsirs, Word by word translation:\n",
      "understand the quran in your language : translations, tafsirs, word by word translation are you looking for ways to deepen your connection with the quran? al quran ( tafsir & by word ) app makes it easy to understand the quran in your language with reliable translations and tafsirs. with word - by - word translations and recitations, you can connect with every ayah on a deeper level. start your journey today and feel the words of the quran come alive. word by word analysis & translations multiple languages : explore word - by - word translations in bangla, chinese, english, french, german, hindi, indonesian, ingush, malay, russian, tamil, turkish, urdu, and more. arabic grammar insights : dive deeper with root / lemma information, grammar details, and verb forms to improve your understanding of arabic and expand your vocabulary, in sha allah. several translations and tafsirs 90 + translations and tafsirs : access translations and tafsirs in over 60 languages, including bangla, chinese, english, french, german, hindi, indonesian, italian, malay, russian, spanish, urdu, and many more. 8 arabic tafsirs : read tafsir ibn kathir, tafsir tabari, and other classical arabic tafsirs alongside additional resources like e ‘ rab ( morphology ), gharib ( uncommon word meanings ), and asbabun nuzool ( reasons for revelation ). which translation should\n",
      "Generated Response:\n",
      " None\n"
     ]
    }
   ],
   "source": [
    "# Build index\n",
    "bm25, index, embeddings, corpus, metadata = build_index(documents)\n",
    "\n",
    "# Run generation\n",
    "review_text = \"Quran app audio is not working properly. I can't understand how to use the audio feature clearly.\"\n",
    "response = generate_response(review_text, bm25, index, corpus, metadata)\n",
    "\n",
    "# print with wraptext\n",
    "print(\"Generated Response:\\n\", response)"
   ]
  },
  {
   "cell_type": "code",
   "execution_count": 20,
   "metadata": {},
   "outputs": [
    {
     "name": "stdout",
     "output_type": "stream",
     "text": [
      "Retrieved Chunks:\n",
      "Planner – Complete the Quran on your schedule:\n",
      "planner – complete the quran on your schedule want to finish reading the quran in a set time? our quran planner helps you break down your reading into manageable daily sessions. whether it ’ s throughout the year or during the blessed month of ramadan, the planner keeps you organized and motivated to reach your goal. set your reading goals choose what works for you : read the quran in 29 days ( ideal for ramadan ) complete it in one year ( about 2 pages daily ) read the quran translation in 90 days to improve your understanding create your own custom schedule how to start using the quran planner? create your plan : go to the planner section and tap add planner to create a new plan. enter the details : select the start and end range, and set the number of days. don ’ t forget to set a notification time to stay on track. start reading : after creating your plan, tap read to begin. read the quran following your schedule. save and track progress : after completing a session, tap the planner icon at the bottom - right corner to save your progress. check your planner regularly to stay on track. celebrate completion : mark the planner as complete once you finish all sessions. it ’ s a fulfilling moment to celebrate! tips for success start with a realistic goal set reminders at a consistent time to stay on track plan ahead for busy days adjust your schedule if needed ready to start? create your reading plan now and prepare for your next quran completion in the al quran ( tafsir\n",
      "\n",
      "Build a daily Quran reading habit ♥️:\n",
      "build a daily quran reading habit ♥ daily quran reading is key to developing a deeper connection with the quran. whether you read one ayah or several pages, consistency helps you build a lasting connection with allah ’ s words. our new stats, streaks, and badges features make this journey more rewarding and motivational. track your daily progress daily reading goal set a daily reading target that fits your schedule. whether it ’ s 1 minute or 60 minutes, you can start small and grow gradually. we plan to introduce personalized goals that adjust to your reading patterns and help you progress naturally in the future, in sha allah. streak milestones streak tracks the number of days in a row you ’ ve read the quran in the app. it ’ s designed to motivate reading the quran daily. each day of reading builds your streak, helping you stay consistent. milestones to build your habit : 3 days : getting started : getting started 7 days : completing your first week : completing your first week 30 days : one month strong! : one month strong! keep going : unlock new milestones every 15 days ( e. g., 45, 60, 75 days ) target small milestones and gradually establish your habit of reading the quran daily. we can ’ t wait to see you reach that 30 - day streak and beyond! the following video demonstrates the streak milestones feature. badges and achievements earn badges for completing milestones or exploring app features. celebrate your progress and stay motivated! milestone badges :\n",
      "\n",
      "Planner – Complete the Quran on your schedule:\n",
      "tap the planner icon at the bottom - right corner to save your progress. check your planner regularly to stay on track. celebrate completion : mark the planner as complete once you finish all sessions. it ’ s a fulfilling moment to celebrate! tips for success start with a realistic goal set reminders at a consistent time to stay on track plan ahead for busy days adjust your schedule if needed ready to start? create your reading plan now and prepare for your next quran completion in the al quran ( tafsir & by word ) app! did you find this guide useful? help us improve by sharing your quick feedback here.\n",
      "\n",
      "Deepening Quran Understanding: Tools for Students of Knowledge and Arabic Learners:\n",
      "deepening quran understanding : tools for students of knowledge and arabic learners deepen your understanding of the quran through our comprehensive arabic analysis tools. whether you ’ re a beginner in arabic or an advanced student of knowledge, our quran app offers tools that make learning arabic easier and more meaningful. let ’ s look at how features like e3rab ( morphology ), gharib ( uncommon arabic word meanings ), word root, lemma, grammar details, verb forms, word occurrences can help you. e3rab ( morphology ) e3rab explains the grammatical structure of each word in the quran. it helps you : understand how words fit into an ayah see how grammar changes the meaning of ayahs improve your knowledge of quranic arabic grammar for deeper studies for example, when you read surah al - fatiha, you ’ ll see why “ الحمد ” and “ لله ” are written this way and how they connect. to study e3rab, go to settings > tafsirs. you can download the e3rab by qasim hamidan da ’ s from the list and start studying. gharib ( uncommon arabic word meanings ) the quran has words that are not often used in modern arabic. the gharib tool helps you : learn the meanings of uncommon words understand their context in quranic ayahs build your vocabulary for classical and modern arabic you can download gharib from the tafsirs\n",
      "\n",
      "Audio – Listen to the Quran to memorise and recharge your soul:\n",
      "). prefer faster recitation? listen to yasser salama hadr. we have a few audio translations also to help you understand the quran by listening. quick start guide open any surah. tap the play icon below any ayah to play that ayah to play a range of ayahs or the entire surah, tap the play audio button at the bottom. choose the start and end ayah range. change reciters or audio translations from the reciters list. use repeat options to listen to ayahs multiple times. perfect for memorization practice. download audio for offline listening or stream to save storage. you can switch to streaming mode from the advanced options. this won ’ t require downloading the audio to listen. adjust the playback speed to match your pace from advanced options. pro tip : recitation modes single : one reciter at a time — ideal for most users. multiple : select up to 3 reciters to play sequentially, such as arabic followed by a translation. select your preferred mode from the reciters list. by default, single recitation mode is selected. conclusion start listening to your favourite reciter now on the al quran ( tafsir & by word ) app. did you find this guide useful? help us improve by sharing your quick feedback here.\n",
      "\n",
      "Tajweed colour code – Never miss a tajweed again:\n",
      "reciter, this is designed to assist your quran reading experience. start now in the quran app and improve your recitation – bismillah! did you find this guide useful? help us improve by sharing your quick feedback here.\n",
      "\n",
      "Tajweed colour code – Never miss a tajweed again:\n",
      "reciter, this is designed to assist your quran reading experience. start now in the quran app and improve your recitation – bismillah! did you find this guide useful? help us improve by sharing your quick feedback here.\n",
      "\n",
      "Mushaf Mode – Read the Quran in familiar Mushaf pages:\n",
      "enhance your quran reading experience. whether for memorization, traditional reading, or study, it offers a familiar and intuitive way to connect with the quran. explore the mushaf reading mode in our quran app. share this with others and help them enrich their recitation journey. did you find this guide useful? help us improve by sharing your quick feedback here.\n",
      "\n",
      "Mushaf Mode – Read the Quran in familiar Mushaf pages:\n",
      "enhance your quran reading experience. whether for memorization, traditional reading, or study, it offers a familiar and intuitive way to connect with the quran. explore the mushaf reading mode in our quran app. share this with others and help them enrich their recitation journey. did you find this guide useful? help us improve by sharing your quick feedback here.\n",
      "\n",
      "Build a daily Quran reading habit ♥️:\n",
      "a daily breakdown for the current week. identify your most productive days and aim to improve. lifetime stats see your total ayah read, time spent and best streak. reflecting on these stats inspires you to keep going. note : lifetime stats are tracked for logged - in users only. sign in to save your lifetime stats and never lose your progress. streak widget ( coming soon ) a simple widget to keep your streak visible and remind you to maintain it. why do these features matter? our goal is simple : help you build a stronger connection with the quran. these features encourage daily reading and help you stay consistent. while also motivating you to explore the quran deeply. visit the profile section in the al quran ( tafsir & by word ) app to explore these features. check your streaks, reach milestones, review weekly activity, and unlock achievements! ready to begin? start building your quran habit today. did you find this guide useful? help us improve by sharing your quick feedback here.\n",
      "Generated Response:\n",
      " None\n"
     ]
    }
   ],
   "source": [
    "# Run generation\n",
    "review_text = \"The quran app is good but i can't understand how to use the scheduling feature.\"\n",
    "response = generate_response(review_text, bm25, index, corpus, metadata)\n",
    "\n",
    "# print with wraptext\n",
    "print(\"Generated Response:\\n\", response)"
   ]
  },
  {
   "cell_type": "code",
   "execution_count": 19,
   "metadata": {},
   "outputs": [
    {
     "name": "stdout",
     "output_type": "stream",
     "text": [
      "Retrieved Chunks:\n",
      "Deepening Quran Understanding: Tools for Students of Knowledge and Arabic Learners:\n",
      "deepening quran understanding : tools for students of knowledge and arabic learners deepen your understanding of the quran through our comprehensive arabic analysis tools. whether you ’ re a beginner in arabic or an advanced student of knowledge, our quran app offers tools that make learning arabic easier and more meaningful. let ’ s look at how features like e3rab ( morphology ), gharib ( uncommon arabic word meanings ), word root, lemma, grammar details, verb forms, word occurrences can help you. e3rab ( morphology ) e3rab explains the grammatical structure of each word in the quran. it helps you : understand how words fit into an ayah see how grammar changes the meaning of ayahs improve your knowledge of quranic arabic grammar for deeper studies for example, when you read surah al - fatiha, you ’ ll see why “ الحمد ” and “ لله ” are written this way and how they connect. to study e3rab, go to settings > tafsirs. you can download the e3rab by qasim hamidan da ’ s from the list and start studying. gharib ( uncommon arabic word meanings ) the quran has words that are not often used in modern arabic. the gharib tool helps you : learn the meanings of uncommon words understand their context in quranic ayahs build your vocabulary for classical and modern arabic you can download gharib from the tafsirs\n",
      "\n",
      "Deepening Quran Understanding: Tools for Students of Knowledge and Arabic Learners:\n",
      "learning arabic or already an advanced student, these tools make learning quranic arabic easier and more effective. try them in the al quran ( tafsir & by word ) app and take your learning to the next level connecting more deeply with the quran. did you find this guide useful? help us improve by sharing your quick feedback here.\n",
      "\n",
      "Deepening Quran Understanding: Tools for Students of Knowledge and Arabic Learners:\n",
      "learning arabic or already an advanced student, these tools make learning quranic arabic easier and more effective. try them in the al quran ( tafsir & by word ) app and take your learning to the next level connecting more deeply with the quran. did you find this guide useful? help us improve by sharing your quick feedback here.\n",
      "\n",
      "Mushaf Mode – Read the Quran in familiar Mushaf pages:\n",
      "enhance your quran reading experience. whether for memorization, traditional reading, or study, it offers a familiar and intuitive way to connect with the quran. explore the mushaf reading mode in our quran app. share this with others and help them enrich their recitation journey. did you find this guide useful? help us improve by sharing your quick feedback here.\n",
      "\n",
      "Mushaf Mode – Read the Quran in familiar Mushaf pages:\n",
      "enhance your quran reading experience. whether for memorization, traditional reading, or study, it offers a familiar and intuitive way to connect with the quran. explore the mushaf reading mode in our quran app. share this with others and help them enrich their recitation journey. did you find this guide useful? help us improve by sharing your quick feedback here.\n",
      "\n",
      "Understand the Quran in your language: Translations, Tafsirs, Word by word translation:\n",
      "understand the quran in your language : translations, tafsirs, word by word translation are you looking for ways to deepen your connection with the quran? al quran ( tafsir & by word ) app makes it easy to understand the quran in your language with reliable translations and tafsirs. with word - by - word translations and recitations, you can connect with every ayah on a deeper level. start your journey today and feel the words of the quran come alive. word by word analysis & translations multiple languages : explore word - by - word translations in bangla, chinese, english, french, german, hindi, indonesian, ingush, malay, russian, tamil, turkish, urdu, and more. arabic grammar insights : dive deeper with root / lemma information, grammar details, and verb forms to improve your understanding of arabic and expand your vocabulary, in sha allah. several translations and tafsirs 90 + translations and tafsirs : access translations and tafsirs in over 60 languages, including bangla, chinese, english, french, german, hindi, indonesian, italian, malay, russian, spanish, urdu, and many more. 8 arabic tafsirs : read tafsir ibn kathir, tafsir tabari, and other classical arabic tafsirs alongside additional resources like e ‘ rab ( morphology ), gharib ( uncommon word meanings ), and asbabun nuzool ( reasons for revelation ). which translation should\n",
      "\n",
      "Tajweed colour code – Never miss a tajweed again:\n",
      "reciter, this is designed to assist your quran reading experience. start now in the quran app and improve your recitation – bismillah! did you find this guide useful? help us improve by sharing your quick feedback here.\n",
      "\n",
      "Tajweed colour code – Never miss a tajweed again:\n",
      "reciter, this is designed to assist your quran reading experience. start now in the quran app and improve your recitation – bismillah! did you find this guide useful? help us improve by sharing your quick feedback here.\n",
      "\n",
      "Deepening Quran Understanding: Tools for Students of Knowledge and Arabic Learners:\n",
      "# # 3rab, go to settings > tafsirs. you can download the e3rab by qasim hamidan da ’ s from the list and start studying. gharib ( uncommon arabic word meanings ) the quran has words that are not often used in modern arabic. the gharib tool helps you : learn the meanings of uncommon words understand their context in quranic ayahs build your vocabulary for classical and modern arabic you can download gharib from the tafsirs list. currently, we have 2 arabic word meanings. word lemma and root roots and lemmas are key to understanding arabic. our app highlights : lemma : see the base form of words to understand patterns and variations roots : learn the core meaning of words by studying their roots most arabic words come from three or four letter roots. this helps you see how words are connected, learn word families faster and spot patterns across the quran. for example, the words “ book ” ( كتاب ), “ library ” ( مكتبة ), and “ writer ” ( كاتب ) all come from ك - ت - ب. once you know this, you ’ ll start seeing these patterns everywhere! you can easily see the word lemma and root by tapping on a word in the app. word occurrences in various forms and quran dictionary tracking how words appear in different forms in different places helps you : find every instance of a word in the quran and track\n",
      "\n",
      "Explore the Quran by topics – enhance your knowledge on a topic:\n",
      "explore the quran by topics – enhance your knowledge on a topic want to know more about what the quran says about “ etiquette of honoring the guests ”? or want to know what ’ s mentioned in the quran about riba ( interest )? explore any topics and read the related ayahs together easily from the al quran app. this will enhance your knowledge on a particular topic in sha allah! we have 9 important topics broken down into 200 + topics and subtopics. read the translation and explanations of the ayahs in great detail. getting started open the menu drawer tap the “ explore by topic ” to see the top level 9 topics each topic is categorised into more sub - categories to help understand a specific topic better you can also click on the search icon to see the entire topics list and find any particular topic how to explore topics in your language? alhamdulillah, we ’ ve translated the topics into arabic, bangla, german, indonesian, filipino, turkish, and urdu. to explore the topics in your language : go to settings and change the language then go back and open “ explore by topic ” from the menu drawer swipe down to refresh and start exploring the topics in your preferred language you can watch the video to understand the process better. we plan to add more languages in the coming months, in sha allah. conclusion start exploring the topics in the al quran ( tafsir & by word ) app today. looking for guidance on\n",
      "Generated Response:\n",
      " None\n"
     ]
    }
   ],
   "source": [
    "# Run generation\n",
    "review_text = \"The quran app is good but not helpful in understanding the Quranic verses.\"\n",
    "response = generate_response(review_text, bm25, index, corpus, metadata)\n",
    "\n",
    "# print with wraptext\n",
    "print(\"Generated Response:\\n\", response)"
   ]
  }
 ],
 "metadata": {
  "kernelspec": {
   "display_name": "venv",
   "language": "python",
   "name": "python3"
  },
  "language_info": {
   "codemirror_mode": {
    "name": "ipython",
    "version": 3
   },
   "file_extension": ".py",
   "mimetype": "text/x-python",
   "name": "python",
   "nbconvert_exporter": "python",
   "pygments_lexer": "ipython3",
   "version": "3.12.3"
  }
 },
 "nbformat": 4,
 "nbformat_minor": 2
}
