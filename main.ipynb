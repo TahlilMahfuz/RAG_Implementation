{
 "cells": [
  {
   "cell_type": "code",
   "execution_count": 25,
   "metadata": {},
   "outputs": [
    {
     "data": {
      "text/html": [
       "<div>\n",
       "<style scoped>\n",
       "    .dataframe tbody tr th:only-of-type {\n",
       "        vertical-align: middle;\n",
       "    }\n",
       "\n",
       "    .dataframe tbody tr th {\n",
       "        vertical-align: top;\n",
       "    }\n",
       "\n",
       "    .dataframe thead th {\n",
       "        text-align: right;\n",
       "    }\n",
       "</style>\n",
       "<table border=\"1\" class=\"dataframe\">\n",
       "  <thead>\n",
       "    <tr style=\"text-align: right;\">\n",
       "      <th></th>\n",
       "      <th>Review</th>\n",
       "      <th>Reply</th>\n",
       "    </tr>\n",
       "  </thead>\n",
       "  <tbody>\n",
       "    <tr>\n",
       "      <th>0</th>\n",
       "      <td>The recent edition does explain the source of ...</td>\n",
       "      <td>BarakAllahu feekum for your kind words and sup...</td>\n",
       "    </tr>\n",
       "    <tr>\n",
       "      <th>1</th>\n",
       "      <td>Alhamdulillah very good app but it would have ...</td>\n",
       "      <td>Assalamu 'alaykum dear user. We would love to ...</td>\n",
       "    </tr>\n",
       "    <tr>\n",
       "      <th>2</th>\n",
       "      <td>Alhamdulillah, this is a amazing app.</td>\n",
       "      <td>BarakAllahu feekum for your kind words and sup...</td>\n",
       "    </tr>\n",
       "    <tr>\n",
       "      <th>3</th>\n",
       "      <td>Very good app. But the word-by-word translatio...</td>\n",
       "      <td>Assalamu 'alaykum, exciting news! French Word-...</td>\n",
       "    </tr>\n",
       "    <tr>\n",
       "      <th>4</th>\n",
       "      <td>The app is really great!</td>\n",
       "      <td>Assalamu 'alaykum dear user. We would love to ...</td>\n",
       "    </tr>\n",
       "  </tbody>\n",
       "</table>\n",
       "</div>"
      ],
      "text/plain": [
       "                                              Review  \\\n",
       "0  The recent edition does explain the source of ...   \n",
       "1  Alhamdulillah very good app but it would have ...   \n",
       "2              Alhamdulillah, this is a amazing app.   \n",
       "3  Very good app. But the word-by-word translatio...   \n",
       "4                           The app is really great!   \n",
       "\n",
       "                                               Reply  \n",
       "0  BarakAllahu feekum for your kind words and sup...  \n",
       "1  Assalamu 'alaykum dear user. We would love to ...  \n",
       "2  BarakAllahu feekum for your kind words and sup...  \n",
       "3  Assalamu 'alaykum, exciting news! French Word-...  \n",
       "4  Assalamu 'alaykum dear user. We would love to ...  "
      ]
     },
     "execution_count": 25,
     "metadata": {},
     "output_type": "execute_result"
    }
   ],
   "source": [
    "import sqlite3\n",
    "import pandas as pd\n",
    "\n",
    "# Connect to the SQLite database\n",
    "conn = sqlite3.connect(\"Auto_Reply_v3.db\")\n",
    "\n",
    "# Load Q&A pairs (assuming table name is 'All_Reviews')\n",
    "query1 = 'SELECT \"translation\" AS Review, \"Developer Reply Text\" AS Reply FROM All_Reviews WHERE \"Developer Reply Text\" IS NOT NULL'\n",
    "query2 = 'SELECT \"translation\" AS Review, \"Reply\" FROM \"Auto Reply Hadith\" WHERE \"Reply\" IS NOT NULL'\n",
    "query3 = 'SELECT \"translation\" AS Review, \"Reply\" FROM Auto_Reply_Reviews WHERE \"Reply\" IS NOT NULL'\n",
    "query4 = 'SELECT \"translation\" AS Review, \"Reply\" FROM Auto_Reply_Reviews_Al_Quran WHERE \"Reply\" IS NOT NULL'\n",
    "\n",
    "df1 = pd.read_sql_query(query1, conn)\n",
    "df2 = pd.read_sql_query(query2, conn)\n",
    "df3 = pd.read_sql_query(query3, conn)\n",
    "df4 = pd.read_sql_query(query4, conn)\n",
    "\n",
    "df = pd.concat([df1, df2, df3, df4], ignore_index=True)\n",
    "\n",
    "# Close connection\n",
    "conn.close()\n",
    "\n",
    "# Check data\n",
    "df.head()\n",
    "\n",
    "# craete a csv file \n",
    "# df.to_csv(\"Auto_Reply.csv\", index=False)"
   ]
  },
  {
   "cell_type": "code",
   "execution_count": 26,
   "metadata": {},
   "outputs": [],
   "source": [
    "from sentence_transformers import SentenceTransformer\n",
    "from sklearn.metrics.pairwise import cosine_similarity\n",
    "import numpy as np"
   ]
  },
  {
   "cell_type": "code",
   "execution_count": 27,
   "metadata": {},
   "outputs": [],
   "source": [
    "# Load sentence transformer model for embeddings\n",
    "model = SentenceTransformer(\"sentence-transformers/all-MiniLM-L6-v2\")\n",
    "\n",
    "# Compute embeddings for all reviews\n",
    "df[\"Embedding\"] = df[\"Review\"].apply(lambda x: model.encode(x, convert_to_numpy=True))"
   ]
  },
  {
   "cell_type": "code",
   "execution_count": 28,
   "metadata": {},
   "outputs": [],
   "source": [
    "def retrieve_reply(query, df, model, top_k=1):\n",
    "    \"\"\"Retrieve the most relevant reply for a given review query.\"\"\"\n",
    "    query_embedding = model.encode(query, convert_to_numpy=True)\n",
    "    \n",
    "    # Compute similarity\n",
    "    similarities = np.array([cosine_similarity([query_embedding], [emb])[0][0] for emb in df[\"Embedding\"]])\n",
    "    \n",
    "    # Get the top-k most similar responses\n",
    "    top_idx = similarities.argsort()[-top_k:][::-1]\n",
    "    return df.iloc[top_idx][\"Reply\"].values[0]"
   ]
  },
  {
   "cell_type": "code",
   "execution_count": 29,
   "metadata": {},
   "outputs": [
    {
     "data": {
      "text/plain": [
       "'BarakAllahu feekum for your kind words and support. Pray for us so that Allah may accept our efforts. Visit gtaf.org to check our other apps and share with others in sha Allah!'"
      ]
     },
     "execution_count": 29,
     "metadata": {},
     "output_type": "execute_result"
    }
   ],
   "source": [
    "# Example query\n",
    "query_review = \"This app is great, but I am facing some issues.\"\n",
    "retrieved_reply = retrieve_reply(query_review, df, model)\n",
    "\n",
    "retrieved_reply"
   ]
  },
  {
   "cell_type": "code",
   "execution_count": 30,
   "metadata": {},
   "outputs": [
    {
     "data": {
      "text/plain": [
       "'BarakAllahu feekum for your kind words and support. Pray for us so that Allah may accept our efforts. Visit gtaf.org to check our other apps and share with others in sha Allah!'"
      ]
     },
     "execution_count": 30,
     "metadata": {},
     "output_type": "execute_result"
    }
   ],
   "source": [
    "# Example query\n",
    "query_review = \"This app is not good, I am facing some issues.\"\n",
    "retrieved_reply = retrieve_reply(query_review, df, model)\n",
    "\n",
    "retrieved_reply"
   ]
  },
  {
   "cell_type": "code",
   "execution_count": 31,
   "metadata": {},
   "outputs": [
    {
     "data": {
      "text/plain": [
       "\"Assalamu 'alaykum dear user. We would love to make your experience better in sha Allah. If you are still facing the same issues or have any feature requests, please provide your feedback on feedback.gtaf.org. JazakAllahu khayran.\""
      ]
     },
     "execution_count": 31,
     "metadata": {},
     "output_type": "execute_result"
    }
   ],
   "source": [
    "# Example query\n",
    "query_review = \"Bad App\"\n",
    "retrieved_reply = retrieve_reply(query_review, df, model)\n",
    "\n",
    "retrieved_reply"
   ]
  }
 ],
 "metadata": {
  "kernelspec": {
   "display_name": ".venv",
   "language": "python",
   "name": "python3"
  },
  "language_info": {
   "codemirror_mode": {
    "name": "ipython",
    "version": 3
   },
   "file_extension": ".py",
   "mimetype": "text/x-python",
   "name": "python",
   "nbconvert_exporter": "python",
   "pygments_lexer": "ipython3",
   "version": "3.12.3"
  }
 },
 "nbformat": 4,
 "nbformat_minor": 2
}
