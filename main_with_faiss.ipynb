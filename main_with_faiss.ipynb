{
 "cells": [
  {
   "cell_type": "code",
   "execution_count": null,
   "metadata": {},
   "outputs": [],
   "source": [
    "import sqlite3\n",
    "import pandas as pd\n",
    "from sentence_transformers import SentenceTransformer\n",
    "import faiss\n",
    "import numpy as np\n",
    "import torch"
   ]
  },
  {
   "cell_type": "code",
   "execution_count": 37,
   "metadata": {},
   "outputs": [
    {
     "data": {
      "application/vnd.microsoft.datawrangler.viewer.v0+json": {
       "columns": [
        {
         "name": "index",
         "rawType": "int64",
         "type": "integer"
        },
        {
         "name": "Review",
         "rawType": "object",
         "type": "string"
        },
        {
         "name": "sentiment",
         "rawType": "object",
         "type": "string"
        },
        {
         "name": "reply",
         "rawType": "object",
         "type": "string"
        }
       ],
       "conversionMethod": "pd.DataFrame",
       "ref": "dbdc258d-a66c-47c6-9081-76767f9b5765",
       "rows": [
        [
         "0",
         "Alhamdulillah.. the best al quran application, easy to use every day and carry anywhere.. I pray that God will bless and reward the developer of this best application.. aamiin yaa rabbal aalamiin😄🤲.. tqvm admin",
         "Positive",
         "BarakAllahu feekum for your kind words and support. Pray for us so that Allah may accept our efforts. Visit gtaf.org to check our other apps and share with others in sha Allah!"
        ],
        [
         "1",
         "the best quraan app you can find. it literally has word by word translation and a tafsir option, which is very useful for non arab people. this app has NO ADS and is literally FREE, tho there is a donate option for anyone who wants to help. may Allah be pleased with us and help us do sadka jariya",
         "Positive",
         "BarakAllahu feekum for your kind words and support. Pray for us so that Allah may accept our efforts. Visit gtaf.org to check our other apps and share with others in sha Allah!"
        ],
        [
         "2",
         "Very helpful",
         "Positive",
         "BarakAllahu feekum for your kind words and support. Pray for us so that Allah may accept our efforts. Visit gtaf.org to check our other apps and share with others in sha Allah!"
        ],
        [
         "3",
         "The recent edition does explain the source of suratul alaq",
         "Negative",
         "Assalamu 'alaykum dear user. We would love to make your experience better in sha Allah. If you are still facing the same issues or have any feature requests, please provide your feedback on feedback.gtaf.org. JazakAllahu khayran."
        ],
        [
         "4",
         "May Allah reward you richly rewarded",
         "Positive",
         "BarakAllahu feekum for your kind words and support. Pray for us so that Allah may accept our efforts. Visit gtaf.org to check our other apps and share with others in sha Allah!"
        ],
        [
         "5",
         "I've rate 5 star but the app could give us mor fonts; for example simple font or Othman Taha font.",
         "Positive",
         "BarakAllahu feekum for your kind words and support. Pray for us so that Allah may accept our efforts. Visit gtaf.org to check our other apps and share with others in sha Allah!"
        ],
        [
         "6",
         "Outstanding apps,Though audio is not working..",
         "Positive",
         "BarakAllahu feekum for your kind words and support. Pray for us so that Allah may accept our efforts. Visit gtaf.org to check our other apps and share with others in sha Allah!"
        ],
        [
         "7",
         "This is app is amizing and i really liked",
         "Positive",
         "BarakAllahu feekum for your kind words and support. Pray for us so that Allah may accept our efforts. Visit gtaf.org to check our other apps and share with others in sha Allah!"
        ],
        [
         "8",
         "Good app.",
         "Positive",
         "BarakAllahu feekum for your kind words and support. Pray for us so that Allah may accept our efforts. Visit gtaf.org to check our other apps and share with others in sha Allah!"
        ],
        [
         "9",
         "Masha Allah",
         "Positive",
         "BarakAllahu feekum for your kind words and support. Pray for us so that Allah may accept our efforts. Visit gtaf.org to check our other apps and share with others in sha Allah!"
        ],
        [
         "10",
         "Linked to this application, thank you",
         "Positive",
         "BarakAllahu feekum for your kind words and support. Pray for us so that Allah may accept our efforts. Visit gtaf.org to check our other apps and share with others in sha Allah!"
        ],
        [
         "11",
         "Very good and easy app",
         "Positive",
         "BarakAllahu feekum for your kind words and support. Pray for us so that Allah may accept our efforts. Visit gtaf.org to check our other apps and share with others in sha Allah!"
        ],
        [
         "12",
         "Best App to read The Holy Quran.. Love it so much....word by word meaning and it's tafsir makes it more helpful to common user....",
         "Positive",
         "BarakAllahu feekum for your kind words and support. Pray for us so that Allah may accept our efforts. Visit gtaf.org to check our other apps and share with others in sha Allah!"
        ],
        [
         "13",
         "Very excited",
         "Positive",
         "BarakAllahu feekum for your kind words and support. Pray for us so that Allah may accept our efforts. Visit gtaf.org to check our other apps and share with others in sha Allah!"
        ],
        [
         "14",
         "I really enjoy it",
         "Positive",
         "BarakAllahu feekum for your kind words and support. Pray for us so that Allah may accept our efforts. Visit gtaf.org to check our other apps and share with others in sha Allah!"
        ],
        [
         "15",
         "It was helpful to have a translator.",
         "Positive",
         "BarakAllahu feekum for your kind words and support. Pray for us so that Allah may accept our efforts. Visit gtaf.org to check our other apps and share with others in sha Allah!"
        ],
        [
         "16",
         "Recent update has ruined the app. More glitches. Highlighting and verses don't follow the audio. Please fix to how it was before this recent update.",
         "Negative",
         "Assalamu 'alaykum dear user. We would love to make your experience better in sha Allah. If you are still facing the same issues or have any feature requests, please provide your feedback on feedback.gtaf.org. JazakAllahu khayran."
        ],
        [
         "17",
         "Masha Allah. This is one of the best Qur'an app i have seen so far. With great features that makes learning and recitation easier.",
         "Positive",
         "BarakAllahu feekum for your kind words and support. Pray for us so that Allah may accept our efforts. Visit gtaf.org to check our other apps and share with others in sha Allah!"
        ],
        [
         "18",
         "May allah bless and reinforce you",
         "Positive",
         "BarakAllahu feekum for your kind words and support. Pray for us so that Allah may accept our efforts. Visit gtaf.org to check our other apps and share with others in sha Allah!"
        ],
        [
         "19",
         "Fantastic",
         "Positive",
         "BarakAllahu feekum for your kind words and support. Pray for us so that Allah may accept our efforts. Visit gtaf.org to check our other apps and share with others in sha Allah!"
        ],
        [
         "20",
         "SubhanAllah",
         "Negative",
         "Assalamu 'alaykum dear user. We would love to make your experience better in sha Allah. If you are still facing the same issues or have any feature requests, please provide your feedback on feedback.gtaf.org. JazakAllahu khayran."
        ],
        [
         "21",
         "Good app",
         "Positive",
         "BarakAllahu feekum for your kind words and support. Pray for us so that Allah may accept our efforts. Visit gtaf.org to check our other apps and share with others in sha Allah!"
        ],
        [
         "22",
         "MashAllah Amazing App! Well organised & smooth flow🤍🤍🤍🤍",
         "Positive",
         "BarakAllahu feekum for your kind words and support. Pray for us so that Allah may accept our efforts. Visit gtaf.org to check our other apps and share with others in sha Allah!"
        ],
        [
         "23",
         "Perfect💗",
         "Positive",
         "BarakAllahu feekum for your kind words and support. Pray for us so that Allah may accept our efforts. Visit gtaf.org to check our other apps and share with others in sha Allah!"
        ],
        [
         "24",
         "5 stars are missing, I give 100 stars!!! I recommend it to everyone, many Arab teachers recommend this program. I think you can download it. 👍👍👍👍👍👍 May God be pleased with you",
         "Positive",
         "BarakAllahu feekum for your kind words and support. Pray for us so that Allah may accept our efforts. Visit gtaf.org to check our other apps and share with others in sha Allah!"
        ],
        [
         "25",
         "Great app",
         "Positive",
         "BarakAllahu feekum for your kind words and support. Pray for us so that Allah may accept our efforts. Visit gtaf.org to check our other apps and share with others in sha Allah!"
        ],
        [
         "26",
         "I really like this👍",
         "Positive",
         "BarakAllahu feekum for your kind words and support. Pray for us so that Allah may accept our efforts. Visit gtaf.org to check our other apps and share with others in sha Allah!"
        ],
        [
         "27",
         "Very helpful",
         "Positive",
         "BarakAllahu feekum for your kind words and support. Pray for us so that Allah may accept our efforts. Visit gtaf.org to check our other apps and share with others in sha Allah!"
        ],
        [
         "28",
         "Ma Sha Allah, a great app to learn to read Arabic. Also, each verse of the surah is followed by a tafsir for mental progress. May Allah bless you and your business!",
         "Positive",
         "BarakAllahu feekum for your kind words and support. Pray for us so that Allah may accept our efforts. Visit gtaf.org to check our other apps and share with others in sha Allah!"
        ],
        [
         "29",
         "It is the most beneficiary app i have seen. jazakallah",
         "Positive",
         "BarakAllahu feekum for your kind words and support. Pray for us so that Allah may accept our efforts. Visit gtaf.org to check our other apps and share with others in sha Allah!"
        ],
        [
         "30",
         "It is free and has so many functions. I LOVE IT. Jazak Allah! to the developers of this app...",
         "Positive",
         "BarakAllahu feekum for your kind words and support. Pray for us so that Allah may accept our efforts. Visit gtaf.org to check our other apps and share with others in sha Allah!"
        ],
        [
         "31",
         "Masha Allah very good in translation, it's really nice app",
         "Positive",
         "BarakAllahu feekum for your kind words and support. Pray for us so that Allah may accept our efforts. Visit gtaf.org to check our other apps and share with others in sha Allah!"
        ],
        [
         "32",
         "Thank you very much",
         "Positive",
         "BarakAllahu feekum for your kind words and support. Pray for us so that Allah may accept our efforts. Visit gtaf.org to check our other apps and share with others in sha Allah!"
        ],
        [
         "33",
         "It's THE BEST",
         "Positive",
         "BarakAllahu feekum for your kind words and support. Pray for us so that Allah may accept our efforts. Visit gtaf.org to check our other apps and share with others in sha Allah!"
        ],
        [
         "34",
         "Looking at all the good comments, it makes me want to use this Anroit Al-Qur'an even more quickly. May blessings be upon all, amen",
         "Positive",
         "BarakAllahu feekum for your kind words and support. Pray for us so that Allah may accept our efforts. Visit gtaf.org to check our other apps and share with others in sha Allah!"
        ],
        [
         "35",
         "three good",
         "Positive",
         "BarakAllahu feekum for your kind words and support. Pray for us so that Allah may accept our efforts. Visit gtaf.org to check our other apps and share with others in sha Allah!"
        ],
        [
         "36",
         "Excellent",
         "Positive",
         "BarakAllahu feekum for your kind words and support. Pray for us so that Allah may accept our efforts. Visit gtaf.org to check our other apps and share with others in sha Allah!"
        ],
        [
         "37",
         "I love the app",
         "Positive",
         "BarakAllahu feekum for your kind words and support. Pray for us so that Allah may accept our efforts. Visit gtaf.org to check our other apps and share with others in sha Allah!"
        ],
        [
         "38",
         "Great, very helpful",
         "Positive",
         "BarakAllahu feekum for your kind words and support. Pray for us so that Allah may accept our efforts. Visit gtaf.org to check our other apps and share with others in sha Allah!"
        ],
        [
         "39",
         "This app is very good to every muslim to read and listing and also understand the meaning of verses of qur an may Allh grantu jannatul firdaus thsnk",
         "Positive",
         "BarakAllahu feekum for your kind words and support. Pray for us so that Allah may accept our efforts. Visit gtaf.org to check our other apps and share with others in sha Allah!"
        ],
        [
         "40",
         "This is the best app to learn Al Quran.",
         "Positive",
         "BarakAllahu feekum for your kind words and support. Pray for us so that Allah may accept our efforts. Visit gtaf.org to check our other apps and share with others in sha Allah!"
        ],
        [
         "41",
         "Best app ever focus on your deen",
         "Positive",
         "BarakAllahu feekum for your kind words and support. Pray for us so that Allah may accept our efforts. Visit gtaf.org to check our other apps and share with others in sha Allah!"
        ],
        [
         "42",
         "Allah bless you with Al Ferdus inshallah for your effort ❤️",
         "Positive",
         "BarakAllahu feekum for your kind words and support. Pray for us so that Allah may accept our efforts. Visit gtaf.org to check our other apps and share with others in sha Allah!"
        ],
        [
         "43",
         "This is the best app of Quran I have ever seen. NO ADD. EASY TO USE.JUST AMAZING. ALHAMDULILLAH.",
         "Positive",
         "BarakAllahu feekum for your kind words and support. Pray for us so that Allah may accept our efforts. Visit gtaf.org to check our other apps and share with others in sha Allah!"
        ],
        [
         "44",
         "This is very useful app",
         "Positive",
         "BarakAllahu feekum for your kind words and support. Pray for us so that Allah may accept our efforts. Visit gtaf.org to check our other apps and share with others in sha Allah!"
        ],
        [
         "45",
         "Thank you very much",
         "Positive",
         "BarakAllahu feekum for your kind words and support. Pray for us so that Allah may accept our efforts. Visit gtaf.org to check our other apps and share with others in sha Allah!"
        ],
        [
         "46",
         "Great app",
         "Positive",
         "BarakAllahu feekum for your kind words and support. Pray for us so that Allah may accept our efforts. Visit gtaf.org to check our other apps and share with others in sha Allah!"
        ],
        [
         "47",
         "Million Stars!!!",
         "Positive",
         "BarakAllahu feekum for your kind words and support. Pray for us so that Allah may accept our efforts. Visit gtaf.org to check our other apps and share with others in sha Allah!"
        ],
        [
         "48",
         "Alhamdulillah. A very good up",
         "Positive",
         "BarakAllahu feekum for your kind words and support. Pray for us so that Allah may accept our efforts. Visit gtaf.org to check our other apps and share with others in sha Allah!"
        ],
        [
         "49",
         "It's user friendly and really educational",
         "Positive",
         "BarakAllahu feekum for your kind words and support. Pray for us so that Allah may accept our efforts. Visit gtaf.org to check our other apps and share with others in sha Allah!"
        ]
       ],
       "shape": {
        "columns": 3,
        "rows": 70460
       }
      },
      "text/html": [
       "<div>\n",
       "<style scoped>\n",
       "    .dataframe tbody tr th:only-of-type {\n",
       "        vertical-align: middle;\n",
       "    }\n",
       "\n",
       "    .dataframe tbody tr th {\n",
       "        vertical-align: top;\n",
       "    }\n",
       "\n",
       "    .dataframe thead th {\n",
       "        text-align: right;\n",
       "    }\n",
       "</style>\n",
       "<table border=\"1\" class=\"dataframe\">\n",
       "  <thead>\n",
       "    <tr style=\"text-align: right;\">\n",
       "      <th></th>\n",
       "      <th>Review</th>\n",
       "      <th>sentiment</th>\n",
       "      <th>reply</th>\n",
       "    </tr>\n",
       "  </thead>\n",
       "  <tbody>\n",
       "    <tr>\n",
       "      <th>0</th>\n",
       "      <td>Alhamdulillah.. the best al quran application,...</td>\n",
       "      <td>Positive</td>\n",
       "      <td>BarakAllahu feekum for your kind words and sup...</td>\n",
       "    </tr>\n",
       "    <tr>\n",
       "      <th>1</th>\n",
       "      <td>the best quraan app you can find. it literally...</td>\n",
       "      <td>Positive</td>\n",
       "      <td>BarakAllahu feekum for your kind words and sup...</td>\n",
       "    </tr>\n",
       "    <tr>\n",
       "      <th>2</th>\n",
       "      <td>Very helpful</td>\n",
       "      <td>Positive</td>\n",
       "      <td>BarakAllahu feekum for your kind words and sup...</td>\n",
       "    </tr>\n",
       "    <tr>\n",
       "      <th>3</th>\n",
       "      <td>The recent edition does explain the source of ...</td>\n",
       "      <td>Negative</td>\n",
       "      <td>Assalamu 'alaykum dear user. We would love to ...</td>\n",
       "    </tr>\n",
       "    <tr>\n",
       "      <th>4</th>\n",
       "      <td>May Allah reward you richly rewarded</td>\n",
       "      <td>Positive</td>\n",
       "      <td>BarakAllahu feekum for your kind words and sup...</td>\n",
       "    </tr>\n",
       "    <tr>\n",
       "      <th>...</th>\n",
       "      <td>...</td>\n",
       "      <td>...</td>\n",
       "      <td>...</td>\n",
       "    </tr>\n",
       "    <tr>\n",
       "      <th>70455</th>\n",
       "      <td>\\tVery good app</td>\n",
       "      <td>Positive</td>\n",
       "      <td>BarakAllahu feekum for your kind words and sup...</td>\n",
       "    </tr>\n",
       "    <tr>\n",
       "      <th>70456</th>\n",
       "      <td>\\tThank God, this application is really good!!...</td>\n",
       "      <td>Positive</td>\n",
       "      <td>BarakAllahu feekum for your kind words and sup...</td>\n",
       "    </tr>\n",
       "    <tr>\n",
       "      <th>70457</th>\n",
       "      <td>\\tMashallah, may God bless you</td>\n",
       "      <td>Positive</td>\n",
       "      <td>BarakAllahu feekum for your kind words and sup...</td>\n",
       "    </tr>\n",
       "    <tr>\n",
       "      <th>70458</th>\n",
       "      <td>\\tThank God this application helps👍</td>\n",
       "      <td>Positive</td>\n",
       "      <td>BarakAllahu feekum for your kind words and sup...</td>\n",
       "    </tr>\n",
       "    <tr>\n",
       "      <th>70459</th>\n",
       "      <td>\\tAwesome app</td>\n",
       "      <td>Positive</td>\n",
       "      <td>BarakAllahu feekum for your kind words and sup...</td>\n",
       "    </tr>\n",
       "  </tbody>\n",
       "</table>\n",
       "<p>70460 rows × 3 columns</p>\n",
       "</div>"
      ],
      "text/plain": [
       "                                                  Review sentiment  \\\n",
       "0      Alhamdulillah.. the best al quran application,...  Positive   \n",
       "1      the best quraan app you can find. it literally...  Positive   \n",
       "2                                           Very helpful  Positive   \n",
       "3      The recent edition does explain the source of ...  Negative   \n",
       "4                   May Allah reward you richly rewarded  Positive   \n",
       "...                                                  ...       ...   \n",
       "70455                                    \\tVery good app  Positive   \n",
       "70456  \\tThank God, this application is really good!!...  Positive   \n",
       "70457                     \\tMashallah, may God bless you  Positive   \n",
       "70458                \\tThank God this application helps👍  Positive   \n",
       "70459                                      \\tAwesome app  Positive   \n",
       "\n",
       "                                                   reply  \n",
       "0      BarakAllahu feekum for your kind words and sup...  \n",
       "1      BarakAllahu feekum for your kind words and sup...  \n",
       "2      BarakAllahu feekum for your kind words and sup...  \n",
       "3      Assalamu 'alaykum dear user. We would love to ...  \n",
       "4      BarakAllahu feekum for your kind words and sup...  \n",
       "...                                                  ...  \n",
       "70455  BarakAllahu feekum for your kind words and sup...  \n",
       "70456  BarakAllahu feekum for your kind words and sup...  \n",
       "70457  BarakAllahu feekum for your kind words and sup...  \n",
       "70458  BarakAllahu feekum for your kind words and sup...  \n",
       "70459  BarakAllahu feekum for your kind words and sup...  \n",
       "\n",
       "[70460 rows x 3 columns]"
      ]
     },
     "execution_count": 37,
     "metadata": {},
     "output_type": "execute_result"
    }
   ],
   "source": [
    "df = pd.read_csv(\"McD_Reviews_Sentiment_Results.csv\")\n",
    "df"
   ]
  },
  {
   "cell_type": "code",
   "execution_count": 38,
   "metadata": {},
   "outputs": [],
   "source": [
    "# Load sentence transformer model\n",
    "model = SentenceTransformer(\"all-MiniLM-L6-v2\")\n",
    "# Move model to GPU if available\n",
    "device = 'cuda' if torch.cuda.is_available() else 'cpu'\n",
    "model = model.to(device)"
   ]
  },
  {
   "cell_type": "code",
   "execution_count": 39,
   "metadata": {},
   "outputs": [],
   "source": [
    "def create_faiss_index(df):\n",
    "    \"\"\"Creates FAISS index for fast similarity search.\"\"\"\n",
    "    embeddings = model.encode(df[\"Review\"].tolist(), convert_to_numpy=True)\n",
    "    index = faiss.IndexFlatL2(embeddings.shape[1])\n",
    "    index.add(embeddings)\n",
    "    return index, embeddings\n",
    "\n",
    "# Build FAISS index\n",
    "index, embeddings = create_faiss_index(df)"
   ]
  },
  {
   "cell_type": "code",
   "execution_count": 40,
   "metadata": {},
   "outputs": [],
   "source": [
    "def retrieve_reply(query, index, df, top_k=5):\n",
    "    # Determine device\n",
    "    device = 'cuda' if torch.cuda.is_available() else 'cpu'\n",
    "    \n",
    "    # Compute the query embedding on the same device\n",
    "    query_embedding = model.encode([query], convert_to_numpy=True, device=device)\n",
    "    \n",
    "    # Search the index for the top_k closest matches\n",
    "    distances, indices = index.search(query_embedding, top_k)\n",
    "    \n",
    "    # Gather replies and their distances\n",
    "    results = []\n",
    "    for dist, idx in zip(distances[0], indices[0]):\n",
    "        row = df.iloc[idx]\n",
    "        results.append({\n",
    "            \"reply\": row[\"reply\"],\n",
    "            \"distance\": float(dist)\n",
    "        })\n",
    "    return results"
   ]
  },
  {
   "cell_type": "code",
   "execution_count": 41,
   "metadata": {},
   "outputs": [
    {
     "name": "stdout",
     "output_type": "stream",
     "text": [
      "1. Distance: 0.0000 → Reply: BarakAllahu feekum for your kind words and support. Pray for us so that Allah may accept our efforts. Visit gtaf.org to check our other apps and share with others in sha Allah!\n",
      "2. Distance: 0.0000 → Reply: BarakAllahu feekum for your kind words and support. Pray for us so that Allah may accept our efforts. Visit gtaf.org to check our other apps and share with others in sha Allah!\n",
      "3. Distance: 0.0000 → Reply: BarakAllahu feekum for your kind words and support. Pray for us so that Allah may accept our efforts. Visit gtaf.org to check our other apps and share with others in sha Allah!\n",
      "4. Distance: 0.0000 → Reply: BarakAllahu feekum for your kind words and support. Pray for us so that Allah may accept our efforts. Visit gtaf.org to check our other apps and share with others in sha Allah!\n",
      "5. Distance: 0.0000 → Reply: BarakAllahu feekum for your kind words and support. Pray for us so that Allah may accept our efforts. Visit gtaf.org to check our other apps and share with others in sha Allah!\n"
     ]
    }
   ],
   "source": [
    "query = \"Very Good App\"\n",
    "top_matches = retrieve_reply(query, index, df, top_k=5)\n",
    "for i, match in enumerate(top_matches, 1):\n",
    "    print(f\"{i}. Distance: {match['distance']:.4f} → Reply: {match['reply']}\")"
   ]
  },
  {
   "cell_type": "code",
   "execution_count": null,
   "metadata": {},
   "outputs": [
    {
     "name": "stdout",
     "output_type": "stream",
     "text": [
      "1. Distance: 0.3443 → Reply: JazakAllahu khayran for your review! If you face any issues or have feature requests, please provide your feedback on feedback.gtaf.org.\n",
      "2. Distance: 0.3443 → Reply: JazakAllahu khayran for your review! If you face any issues or have feature requests, please provide your feedback on feedback.gtaf.org.\n",
      "3. Distance: 0.3443 → Reply: JazakAllahu khayran for your review! If you face any issues or have feature requests, please provide your feedback on feedback.gtaf.org.\n",
      "4. Distance: 0.3807 → Reply: BarakAllahu feekum for your kind words and support. Pray for us so that Allah may accept our efforts. Visit gtaf.org to check our other apps and share with others in sha Allah!\n",
      "5. Distance: 0.3807 → Reply: BarakAllahu feekum for your kind words and support. Pray for us so that Allah may accept our efforts. Visit gtaf.org to check our other apps and share with others in sha Allah!\n"
     ]
    }
   ],
   "source": [
    "query = \"Very good app for Quran.But it would be better if there had a form of Fikah\"\n",
    "top_matches = retrieve_reply(query, index, df, top_k=5)\n",
    "for i, match in enumerate(top_matches, 1):\n",
    "    print(f\"{i}. Distance: {match['distance']:.4f} → Reply: {match['reply']}\")"
   ]
  },
  {
   "cell_type": "code",
   "execution_count": null,
   "metadata": {},
   "outputs": [
    {
     "name": "stdout",
     "output_type": "stream",
     "text": [
      "1. Distance: 0.3389 → Reply: Assalamu 'alaykum dear user. We would love to make your experience better in sha Allah. If you are still facing the same issues or have any feature requests, please provide your feedback on feedback.gtaf.org. JazakAllahu khayran.\n",
      "2. Distance: 0.3389 → Reply: Assalamu 'alaykum dear user. We would love to make your experience better in sha Allah. If you are still facing the same issues or have any feature requests, please provide your feedback on feedback.gtaf.org. JazakAllahu khayran.\n",
      "3. Distance: 0.3389 → Reply: Assalamu 'alaykum dear user. We would love to make your experience better in sha Allah. If you are still facing the same issues or have any feature requests, please provide your feedback on feedback.gtaf.org. JazakAllahu khayran.\n",
      "4. Distance: 0.3460 → Reply: Assalamu 'alaykum dear user. We would love to make your experience better in sha Allah. If you are still facing the same issues or have any feature requests, please provide your feedback on feedback.gtaf.org. JazakAllahu khayran.\n",
      "5. Distance: 0.3485 → Reply: BarakAllahu feekum for your kind words and support. Pray for us so that Allah may accept our efforts. Visit gtaf.org to check our other apps and share with others in sha Allah!\n"
     ]
    }
   ],
   "source": [
    "query = \"Bad App\"\n",
    "top_matches = retrieve_reply(query, index, df, top_k=5)\n",
    "for i, match in enumerate(top_matches, 1):\n",
    "    print(f\"{i}. Distance: {match['distance']:.4f} → Reply: {match['reply']}\")"
   ]
  }
 ],
 "metadata": {
  "kernelspec": {
   "display_name": "venv",
   "language": "python",
   "name": "python3"
  },
  "language_info": {
   "codemirror_mode": {
    "name": "ipython",
    "version": 3
   },
   "file_extension": ".py",
   "mimetype": "text/x-python",
   "name": "python",
   "nbconvert_exporter": "python",
   "pygments_lexer": "ipython3",
   "version": "3.12.3"
  }
 },
 "nbformat": 4,
 "nbformat_minor": 2
}
