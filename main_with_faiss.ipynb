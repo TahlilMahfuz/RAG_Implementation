{
 "cells": [
  {
   "cell_type": "code",
   "execution_count": 1,
   "metadata": {},
   "outputs": [
    {
     "name": "stderr",
     "output_type": "stream",
     "text": [
      "/home/tahlilmahfuz/thesis/.venv/lib/python3.12/site-packages/tqdm/auto.py:21: TqdmWarning: IProgress not found. Please update jupyter and ipywidgets. See https://ipywidgets.readthedocs.io/en/stable/user_install.html\n",
      "  from .autonotebook import tqdm as notebook_tqdm\n"
     ]
    }
   ],
   "source": [
    "import sqlite3\n",
    "import pandas as pd\n",
    "from sentence_transformers import SentenceTransformer\n",
    "import faiss\n",
    "import numpy as np\n",
    "\n",
    "# Load Q&A dataset\n",
    "conn = sqlite3.connect(\"Auto_Reply_v3.db\")\n",
    "queries = [\n",
    "    'SELECT \"translation\" AS Review, \"Developer Reply Text\" AS Reply FROM All_Reviews WHERE \"Developer Reply Text\" IS NOT NULL',\n",
    "    'SELECT \"translation\" AS Review, \"Reply\" FROM \"Auto Reply Hadith\" WHERE \"Reply\" IS NOT NULL',\n",
    "    'SELECT \"translation\" AS Review, \"Reply\" FROM Auto_Reply_Reviews WHERE \"Reply\" IS NOT NULL',\n",
    "    'SELECT \"translation\" AS Review, \"Reply\" FROM Auto_Reply_Reviews_Al_Quran WHERE \"Reply\" IS NOT NULL'\n",
    "]\n",
    "\n",
    "dfs = [pd.read_sql_query(q, conn) for q in queries]\n",
    "df = pd.concat(dfs, ignore_index=True)\n",
    "conn.close()"
   ]
  },
  {
   "cell_type": "code",
   "execution_count": 2,
   "metadata": {},
   "outputs": [],
   "source": [
    "# Load sentence transformer model\n",
    "model = SentenceTransformer(\"all-MiniLM-L6-v2\")"
   ]
  },
  {
   "cell_type": "code",
   "execution_count": 3,
   "metadata": {},
   "outputs": [],
   "source": [
    "def create_faiss_index(df):\n",
    "    \"\"\"Creates FAISS index for fast similarity search.\"\"\"\n",
    "    embeddings = model.encode(df[\"Review\"].tolist(), convert_to_numpy=True)\n",
    "    index = faiss.IndexFlatL2(embeddings.shape[1])\n",
    "    index.add(embeddings)\n",
    "    return index, embeddings\n",
    "\n",
    "# Build FAISS index\n",
    "index, embeddings = create_faiss_index(df)"
   ]
  },
  {
   "cell_type": "code",
   "execution_count": 4,
   "metadata": {},
   "outputs": [],
   "source": [
    "# Function to retrieve the best match\n",
    "def retrieve_reply(query, index, df, top_k=1):\n",
    "    query_embedding = model.encode([query], convert_to_numpy=True)\n",
    "    distances, indices = index.search(query_embedding, top_k)\n",
    "    return df.iloc[indices[0][0]]['Reply']"
   ]
  },
  {
   "cell_type": "code",
   "execution_count": 5,
   "metadata": {},
   "outputs": [
    {
     "name": "stdout",
     "output_type": "stream",
     "text": [
      "Auto Reply: BarakAllahu feekum for your kind words and support. Pray for us so that Allah may accept our efforts. Visit gtaf.org to check our other apps and share with others in sha Allah!\n"
     ]
    }
   ],
   "source": [
    "# Example usage\n",
    "query = \"Very Good App\"\n",
    "response = retrieve_reply(query, index, df)\n",
    "print(\"Auto Reply:\", response)"
   ]
  },
  {
   "cell_type": "code",
   "execution_count": 6,
   "metadata": {},
   "outputs": [
    {
     "name": "stdout",
     "output_type": "stream",
     "text": [
      "Auto Reply: Assalamu 'alaykum dear user. We would love to make your experience better in sha Allah. If you are still facing the same issues or have any feature requests, please provide your feedback on feedback.gtaf.org. JazakAllahu khayran.\n"
     ]
    }
   ],
   "source": [
    "# Example usage\n",
    "query = \"Bad App\"\n",
    "response = retrieve_reply(query, index, df)\n",
    "print(\"Auto Reply:\", response)"
   ]
  },
  {
   "cell_type": "code",
   "execution_count": 7,
   "metadata": {},
   "outputs": [
    {
     "name": "stdout",
     "output_type": "stream",
     "text": [
      "Auto Reply: BarakAllahu feekum for your kind words and support. Pray for us so that Allah may accept our efforts. Visit gtaf.org to check our other apps and share with others in sha Allah!\n"
     ]
    }
   ],
   "source": [
    "# Example usage\n",
    "query = \"Very Bad App\"\n",
    "response = retrieve_reply(query, index, df)\n",
    "print(\"Auto Reply:\", response)"
   ]
  }
 ],
 "metadata": {
  "kernelspec": {
   "display_name": ".venv",
   "language": "python",
   "name": "python3"
  },
  "language_info": {
   "codemirror_mode": {
    "name": "ipython",
    "version": 3
   },
   "file_extension": ".py",
   "mimetype": "text/x-python",
   "name": "python",
   "nbconvert_exporter": "python",
   "pygments_lexer": "ipython3",
   "version": "3.12.3"
  }
 },
 "nbformat": 4,
 "nbformat_minor": 2
}
