{
 "cells": [
  {
   "cell_type": "code",
   "execution_count": 1,
   "metadata": {},
   "outputs": [
    {
     "name": "stderr",
     "output_type": "stream",
     "text": [
      "/home/cse/anaconda3/envs/autoreply/lib/python3.9/site-packages/tqdm/auto.py:21: TqdmWarning: IProgress not found. Please update jupyter and ipywidgets. See https://ipywidgets.readthedocs.io/en/stable/user_install.html\n",
      "  from .autonotebook import tqdm as notebook_tqdm\n"
     ]
    },
    {
     "name": "stdout",
     "output_type": "stream",
     "text": [
      "[2025-04-22 15:11:55] (2.4.1.post1) PyABSA(2.4.1.post1): If your code crashes on Colab, please use the GPU runtime. Then run \"pip install pyabsa[dev] -U\" and restart the kernel.\n",
      "Or if it does not work, you can use v1.x versions, e.g., pip install pyabsa<2.0 -U\n",
      "\n",
      "\n",
      "\n",
      "\n",
      "WARNING: When you fails to load a checkpoint, e.g., Unexpected key(s),\n",
      "Try to downgrade transformers<=4.29.0.\n",
      "\n",
      "\n",
      "\n",
      "\n"
     ]
    }
   ],
   "source": [
    "from pyabsa import AspectTermExtraction as ATEPC"
   ]
  },
  {
   "cell_type": "code",
   "execution_count": 3,
   "metadata": {},
   "outputs": [
    {
     "name": "stdout",
     "output_type": "stream",
     "text": [
      "[2025-04-22 15:12:16] (2.4.1.post1) ********** Available ATEPC model checkpoints for Version:2.4.1.post1 (this version) **********\n",
      "[2025-04-22 15:12:16] (2.4.1.post1) ********** Available ATEPC model checkpoints for Version:2.4.1.post1 (this version) **********\n",
      "[2025-04-22 15:12:16] (2.4.1.post1) Downloading checkpoint:english \n",
      "[2025-04-22 15:12:16] (2.4.1.post1) Notice: The pretrained model are used for testing, it is recommended to train the model on your own custom datasets\n",
      "[2025-04-22 15:12:16] (2.4.1.post1) Checkpoint already downloaded, skip\n",
      "[2025-04-22 15:12:16] (2.4.1.post1) Load aspect extractor from checkpoints/ATEPC_ENGLISH_CHECKPOINT/fast_lcf_atepc_English_cdw_apcacc_82.36_apcf1_81.89_atef1_75.43\n",
      "[2025-04-22 15:12:16] (2.4.1.post1) config: checkpoints/ATEPC_ENGLISH_CHECKPOINT/fast_lcf_atepc_English_cdw_apcacc_82.36_apcf1_81.89_atef1_75.43/fast_lcf_atepc.config\n",
      "[2025-04-22 15:12:16] (2.4.1.post1) state_dict: checkpoints/ATEPC_ENGLISH_CHECKPOINT/fast_lcf_atepc_English_cdw_apcacc_82.36_apcf1_81.89_atef1_75.43/fast_lcf_atepc.state_dict\n",
      "[2025-04-22 15:12:16] (2.4.1.post1) model: None\n",
      "[2025-04-22 15:12:16] (2.4.1.post1) tokenizer: checkpoints/ATEPC_ENGLISH_CHECKPOINT/fast_lcf_atepc_English_cdw_apcacc_82.36_apcf1_81.89_atef1_75.43/fast_lcf_atepc.tokenizer\n",
      "[2025-04-22 15:12:16] (2.4.1.post1) Set Model Device: cuda:0\n",
      "[2025-04-22 15:12:16] (2.4.1.post1) Device Name: NVIDIA GeForce RTX 3090\n"
     ]
    }
   ],
   "source": [
    "triplet_extractor = ATEPC.AspectExtractor(\"english\")"
   ]
  },
  {
   "cell_type": "code",
   "execution_count": 4,
   "metadata": {},
   "outputs": [
    {
     "name": "stderr",
     "output_type": "stream",
     "text": [
      "/home/cse/anaconda3/envs/autoreply/lib/python3.9/site-packages/pyabsa/tasks/AspectTermExtraction/prediction/aspect_extractor.py:593: UserWarning: Creating a tensor from a list of numpy.ndarrays is extremely slow. Please consider converting the list to a single numpy.ndarray with numpy.array() before converting to a tensor. (Triggered internally at /pytorch/torch/csrc/utils/tensor_new.cpp:254.)\n",
      "  lcf_cdm_vec = torch.tensor(\n"
     ]
    },
    {
     "name": "stdout",
     "output_type": "stream",
     "text": [
      "[2025-04-22 15:12:26] (2.4.1.post1) The results of aspect term extraction have been saved in /home/cse/Mushfiq-Kawsar-Tahlil/Aspect Term Extraction and Polarity Classification.FAST_LCF_ATEPC.result.json\n",
      "[2025-04-22 15:12:26] (2.4.1.post1) Example 0: This <app:Positive Confidence:0.8062> has what I needed , Arabic , English translation , word for word translation and root information all in one place and easily angle to navigate . Very good app . The only thing which is not so good is the translation . Many words are added in the translation which is not in the Arabic . It ' s more like an interpretation than a translation . But still I ' m using it because I ' m able to sift that many people may not be able to do that . With some work on translation this app will become the best .\n"
     ]
    }
   ],
   "source": [
    "text = \"This app has what I needed, Arabic, English translation, word for word translation and root information all in one place and easily angle to navigate. Very good app. The only thing which is not so good is the translation. Many words are added in the translation which is not in the Arabic. It's more like an interpretation than a translation. But still I'm using it because I'm able to sift that many people may not be able to do that. With some work on translation this app will become the best.\"\n",
    "result = triplet_extractor.predict(text)"
   ]
  },
  {
   "cell_type": "code",
   "execution_count": null,
   "metadata": {},
   "outputs": [],
   "source": []
  }
 ],
 "metadata": {
  "kernelspec": {
   "display_name": "autoreply",
   "language": "python",
   "name": "python3"
  },
  "language_info": {
   "codemirror_mode": {
    "name": "ipython",
    "version": 3
   },
   "file_extension": ".py",
   "mimetype": "text/x-python",
   "name": "python",
   "nbconvert_exporter": "python",
   "pygments_lexer": "ipython3",
   "version": "3.9.0"
  }
 },
 "nbformat": 4,
 "nbformat_minor": 2
}
